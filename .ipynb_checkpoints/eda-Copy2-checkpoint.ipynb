{
 "cells": [
  {
   "cell_type": "markdown",
   "id": "431cfa0c",
   "metadata": {},
   "source": [
    "# Character and Word Analysis on Hate Speech and Abusive Tweets in Indonesian using Descriptive Analytics"
   ]
  },
  {
   "cell_type": "markdown",
   "id": "73baf45a",
   "metadata": {},
   "source": [
    "# Data Preparation"
   ]
  },
  {
   "cell_type": "markdown",
   "id": "a4cde824",
   "metadata": {
    "tags": []
   },
   "source": [
    "## Import the required libraries"
   ]
  },
  {
   "cell_type": "code",
   "execution_count": 1,
   "id": "1e4b6ac1",
   "metadata": {},
   "outputs": [],
   "source": [
    "import numpy as np\n",
    "import pandas as pd\n",
    "import re\n",
    "import sqlite3\n",
    "from Sastrawi.StopWordRemover.StopWordRemoverFactory import StopWordRemoverFactory\n",
    "from Sastrawi.Stemmer.StemmerFactory import StemmerFactory\n",
    "import matplotlib.pyplot as plt\n",
    "import seaborn as sns"
   ]
  },
  {
   "cell_type": "markdown",
   "id": "389f0af6",
   "metadata": {},
   "source": [
    "## Load data"
   ]
  },
  {
   "cell_type": "code",
   "execution_count": 2,
   "id": "33f556d7",
   "metadata": {},
   "outputs": [],
   "source": [
    "df = pd.read_csv(\"archive/data.csv\", encoding=\"latin-1\")"
   ]
  },
  {
   "cell_type": "markdown",
   "id": "63523570",
   "metadata": {},
   "source": [
    "## Check first and last data"
   ]
  },
  {
   "cell_type": "code",
   "execution_count": 3,
   "id": "7c41253e",
   "metadata": {},
   "outputs": [
    {
     "data": {
      "text/html": [
       "<div>\n",
       "<style scoped>\n",
       "    .dataframe tbody tr th:only-of-type {\n",
       "        vertical-align: middle;\n",
       "    }\n",
       "\n",
       "    .dataframe tbody tr th {\n",
       "        vertical-align: top;\n",
       "    }\n",
       "\n",
       "    .dataframe thead th {\n",
       "        text-align: right;\n",
       "    }\n",
       "</style>\n",
       "<table border=\"1\" class=\"dataframe\">\n",
       "  <thead>\n",
       "    <tr style=\"text-align: right;\">\n",
       "      <th></th>\n",
       "      <th>Tweet</th>\n",
       "      <th>HS</th>\n",
       "      <th>Abusive</th>\n",
       "      <th>HS_Individual</th>\n",
       "      <th>HS_Group</th>\n",
       "      <th>HS_Religion</th>\n",
       "      <th>HS_Race</th>\n",
       "      <th>HS_Physical</th>\n",
       "      <th>HS_Gender</th>\n",
       "      <th>HS_Other</th>\n",
       "      <th>HS_Weak</th>\n",
       "      <th>HS_Moderate</th>\n",
       "      <th>HS_Strong</th>\n",
       "    </tr>\n",
       "  </thead>\n",
       "  <tbody>\n",
       "    <tr>\n",
       "      <th>0</th>\n",
       "      <td>- disaat semua cowok berusaha melacak perhatia...</td>\n",
       "      <td>1</td>\n",
       "      <td>1</td>\n",
       "      <td>1</td>\n",
       "      <td>0</td>\n",
       "      <td>0</td>\n",
       "      <td>0</td>\n",
       "      <td>0</td>\n",
       "      <td>0</td>\n",
       "      <td>1</td>\n",
       "      <td>1</td>\n",
       "      <td>0</td>\n",
       "      <td>0</td>\n",
       "    </tr>\n",
       "    <tr>\n",
       "      <th>1</th>\n",
       "      <td>RT USER: USER siapa yang telat ngasih tau elu?...</td>\n",
       "      <td>0</td>\n",
       "      <td>1</td>\n",
       "      <td>0</td>\n",
       "      <td>0</td>\n",
       "      <td>0</td>\n",
       "      <td>0</td>\n",
       "      <td>0</td>\n",
       "      <td>0</td>\n",
       "      <td>0</td>\n",
       "      <td>0</td>\n",
       "      <td>0</td>\n",
       "      <td>0</td>\n",
       "    </tr>\n",
       "    <tr>\n",
       "      <th>2</th>\n",
       "      <td>41. Kadang aku berfikir, kenapa aku tetap perc...</td>\n",
       "      <td>0</td>\n",
       "      <td>0</td>\n",
       "      <td>0</td>\n",
       "      <td>0</td>\n",
       "      <td>0</td>\n",
       "      <td>0</td>\n",
       "      <td>0</td>\n",
       "      <td>0</td>\n",
       "      <td>0</td>\n",
       "      <td>0</td>\n",
       "      <td>0</td>\n",
       "      <td>0</td>\n",
       "    </tr>\n",
       "    <tr>\n",
       "      <th>3</th>\n",
       "      <td>USER USER AKU ITU AKU\\n\\nKU TAU MATAMU SIPIT T...</td>\n",
       "      <td>0</td>\n",
       "      <td>0</td>\n",
       "      <td>0</td>\n",
       "      <td>0</td>\n",
       "      <td>0</td>\n",
       "      <td>0</td>\n",
       "      <td>0</td>\n",
       "      <td>0</td>\n",
       "      <td>0</td>\n",
       "      <td>0</td>\n",
       "      <td>0</td>\n",
       "      <td>0</td>\n",
       "    </tr>\n",
       "    <tr>\n",
       "      <th>4</th>\n",
       "      <td>USER USER Kaum cebong kapir udah keliatan dong...</td>\n",
       "      <td>1</td>\n",
       "      <td>1</td>\n",
       "      <td>0</td>\n",
       "      <td>1</td>\n",
       "      <td>1</td>\n",
       "      <td>0</td>\n",
       "      <td>0</td>\n",
       "      <td>0</td>\n",
       "      <td>0</td>\n",
       "      <td>0</td>\n",
       "      <td>1</td>\n",
       "      <td>0</td>\n",
       "    </tr>\n",
       "  </tbody>\n",
       "</table>\n",
       "</div>"
      ],
      "text/plain": [
       "                                               Tweet  HS  Abusive  \\\n",
       "0  - disaat semua cowok berusaha melacak perhatia...   1        1   \n",
       "1  RT USER: USER siapa yang telat ngasih tau elu?...   0        1   \n",
       "2  41. Kadang aku berfikir, kenapa aku tetap perc...   0        0   \n",
       "3  USER USER AKU ITU AKU\\n\\nKU TAU MATAMU SIPIT T...   0        0   \n",
       "4  USER USER Kaum cebong kapir udah keliatan dong...   1        1   \n",
       "\n",
       "   HS_Individual  HS_Group  HS_Religion  HS_Race  HS_Physical  HS_Gender  \\\n",
       "0              1         0            0        0            0          0   \n",
       "1              0         0            0        0            0          0   \n",
       "2              0         0            0        0            0          0   \n",
       "3              0         0            0        0            0          0   \n",
       "4              0         1            1        0            0          0   \n",
       "\n",
       "   HS_Other  HS_Weak  HS_Moderate  HS_Strong  \n",
       "0         1        1            0          0  \n",
       "1         0        0            0          0  \n",
       "2         0        0            0          0  \n",
       "3         0        0            0          0  \n",
       "4         0        0            1          0  "
      ]
     },
     "execution_count": 3,
     "metadata": {},
     "output_type": "execute_result"
    }
   ],
   "source": [
    "# let's check the begining 5 of the data\n",
    "df.head()"
   ]
  },
  {
   "cell_type": "code",
   "execution_count": 4,
   "id": "ebbe90d9",
   "metadata": {},
   "outputs": [
    {
     "data": {
      "text/html": [
       "<div>\n",
       "<style scoped>\n",
       "    .dataframe tbody tr th:only-of-type {\n",
       "        vertical-align: middle;\n",
       "    }\n",
       "\n",
       "    .dataframe tbody tr th {\n",
       "        vertical-align: top;\n",
       "    }\n",
       "\n",
       "    .dataframe thead th {\n",
       "        text-align: right;\n",
       "    }\n",
       "</style>\n",
       "<table border=\"1\" class=\"dataframe\">\n",
       "  <thead>\n",
       "    <tr style=\"text-align: right;\">\n",
       "      <th></th>\n",
       "      <th>Tweet</th>\n",
       "      <th>HS</th>\n",
       "      <th>Abusive</th>\n",
       "      <th>HS_Individual</th>\n",
       "      <th>HS_Group</th>\n",
       "      <th>HS_Religion</th>\n",
       "      <th>HS_Race</th>\n",
       "      <th>HS_Physical</th>\n",
       "      <th>HS_Gender</th>\n",
       "      <th>HS_Other</th>\n",
       "      <th>HS_Weak</th>\n",
       "      <th>HS_Moderate</th>\n",
       "      <th>HS_Strong</th>\n",
       "    </tr>\n",
       "  </thead>\n",
       "  <tbody>\n",
       "    <tr>\n",
       "      <th>13164</th>\n",
       "      <td>USER jangan asal ngomong ndasmu. congor lu yg ...</td>\n",
       "      <td>1</td>\n",
       "      <td>1</td>\n",
       "      <td>1</td>\n",
       "      <td>0</td>\n",
       "      <td>0</td>\n",
       "      <td>0</td>\n",
       "      <td>1</td>\n",
       "      <td>0</td>\n",
       "      <td>0</td>\n",
       "      <td>1</td>\n",
       "      <td>0</td>\n",
       "      <td>0</td>\n",
       "    </tr>\n",
       "    <tr>\n",
       "      <th>13165</th>\n",
       "      <td>USER Kasur mana enak kunyuk'</td>\n",
       "      <td>0</td>\n",
       "      <td>1</td>\n",
       "      <td>0</td>\n",
       "      <td>0</td>\n",
       "      <td>0</td>\n",
       "      <td>0</td>\n",
       "      <td>0</td>\n",
       "      <td>0</td>\n",
       "      <td>0</td>\n",
       "      <td>0</td>\n",
       "      <td>0</td>\n",
       "      <td>0</td>\n",
       "    </tr>\n",
       "    <tr>\n",
       "      <th>13166</th>\n",
       "      <td>USER Hati hati bisu :( .g\\n\\nlagi bosan huft \\...</td>\n",
       "      <td>0</td>\n",
       "      <td>0</td>\n",
       "      <td>0</td>\n",
       "      <td>0</td>\n",
       "      <td>0</td>\n",
       "      <td>0</td>\n",
       "      <td>0</td>\n",
       "      <td>0</td>\n",
       "      <td>0</td>\n",
       "      <td>0</td>\n",
       "      <td>0</td>\n",
       "      <td>0</td>\n",
       "    </tr>\n",
       "    <tr>\n",
       "      <th>13167</th>\n",
       "      <td>USER USER USER USER Bom yang real mudah terdet...</td>\n",
       "      <td>0</td>\n",
       "      <td>0</td>\n",
       "      <td>0</td>\n",
       "      <td>0</td>\n",
       "      <td>0</td>\n",
       "      <td>0</td>\n",
       "      <td>0</td>\n",
       "      <td>0</td>\n",
       "      <td>0</td>\n",
       "      <td>0</td>\n",
       "      <td>0</td>\n",
       "      <td>0</td>\n",
       "    </tr>\n",
       "    <tr>\n",
       "      <th>13168</th>\n",
       "      <td>USER Mana situ ngasih(\": itu cuma foto ya kuti...</td>\n",
       "      <td>1</td>\n",
       "      <td>1</td>\n",
       "      <td>1</td>\n",
       "      <td>0</td>\n",
       "      <td>0</td>\n",
       "      <td>0</td>\n",
       "      <td>0</td>\n",
       "      <td>0</td>\n",
       "      <td>1</td>\n",
       "      <td>1</td>\n",
       "      <td>0</td>\n",
       "      <td>0</td>\n",
       "    </tr>\n",
       "  </tbody>\n",
       "</table>\n",
       "</div>"
      ],
      "text/plain": [
       "                                                   Tweet  HS  Abusive  \\\n",
       "13164  USER jangan asal ngomong ndasmu. congor lu yg ...   1        1   \n",
       "13165                       USER Kasur mana enak kunyuk'   0        1   \n",
       "13166  USER Hati hati bisu :( .g\\n\\nlagi bosan huft \\...   0        0   \n",
       "13167  USER USER USER USER Bom yang real mudah terdet...   0        0   \n",
       "13168  USER Mana situ ngasih(\": itu cuma foto ya kuti...   1        1   \n",
       "\n",
       "       HS_Individual  HS_Group  HS_Religion  HS_Race  HS_Physical  HS_Gender  \\\n",
       "13164              1         0            0        0            1          0   \n",
       "13165              0         0            0        0            0          0   \n",
       "13166              0         0            0        0            0          0   \n",
       "13167              0         0            0        0            0          0   \n",
       "13168              1         0            0        0            0          0   \n",
       "\n",
       "       HS_Other  HS_Weak  HS_Moderate  HS_Strong  \n",
       "13164         0        1            0          0  \n",
       "13165         0        0            0          0  \n",
       "13166         0        0            0          0  \n",
       "13167         0        0            0          0  \n",
       "13168         1        1            0          0  "
      ]
     },
     "execution_count": 4,
     "metadata": {},
     "output_type": "execute_result"
    }
   ],
   "source": [
    "# also the last 5 of the data\n",
    "df.tail()"
   ]
  },
  {
   "cell_type": "markdown",
   "id": "12e29a9e",
   "metadata": {},
   "source": [
    "## Check the data length and its number of column"
   ]
  },
  {
   "cell_type": "code",
   "execution_count": 5,
   "id": "b07ea640",
   "metadata": {},
   "outputs": [
    {
     "data": {
      "text/plain": [
       "(13169, 13)"
      ]
     },
     "execution_count": 5,
     "metadata": {},
     "output_type": "execute_result"
    }
   ],
   "source": [
    "df.shape"
   ]
  },
  {
   "cell_type": "markdown",
   "id": "b31d1270",
   "metadata": {},
   "source": [
    "## Check completeness of data"
   ]
  },
  {
   "cell_type": "code",
   "execution_count": 6,
   "id": "9e70d809",
   "metadata": {},
   "outputs": [
    {
     "name": "stdout",
     "output_type": "stream",
     "text": [
      "<class 'pandas.core.frame.DataFrame'>\n",
      "RangeIndex: 13169 entries, 0 to 13168\n",
      "Data columns (total 13 columns):\n",
      " #   Column         Non-Null Count  Dtype \n",
      "---  ------         --------------  ----- \n",
      " 0   Tweet          13169 non-null  object\n",
      " 1   HS             13169 non-null  int64 \n",
      " 2   Abusive        13169 non-null  int64 \n",
      " 3   HS_Individual  13169 non-null  int64 \n",
      " 4   HS_Group       13169 non-null  int64 \n",
      " 5   HS_Religion    13169 non-null  int64 \n",
      " 6   HS_Race        13169 non-null  int64 \n",
      " 7   HS_Physical    13169 non-null  int64 \n",
      " 8   HS_Gender      13169 non-null  int64 \n",
      " 9   HS_Other       13169 non-null  int64 \n",
      " 10  HS_Weak        13169 non-null  int64 \n",
      " 11  HS_Moderate    13169 non-null  int64 \n",
      " 12  HS_Strong      13169 non-null  int64 \n",
      "dtypes: int64(12), object(1)\n",
      "memory usage: 1.3+ MB\n"
     ]
    }
   ],
   "source": [
    "df.info()"
   ]
  },
  {
   "cell_type": "markdown",
   "id": "5e00693b",
   "metadata": {},
   "source": [
    "## Check if there are null values"
   ]
  },
  {
   "cell_type": "code",
   "execution_count": 7,
   "id": "af7eff5d",
   "metadata": {},
   "outputs": [
    {
     "data": {
      "text/plain": [
       "Tweet            0\n",
       "HS               0\n",
       "Abusive          0\n",
       "HS_Individual    0\n",
       "HS_Group         0\n",
       "HS_Religion      0\n",
       "HS_Race          0\n",
       "HS_Physical      0\n",
       "HS_Gender        0\n",
       "HS_Other         0\n",
       "HS_Weak          0\n",
       "HS_Moderate      0\n",
       "HS_Strong        0\n",
       "dtype: int64"
      ]
     },
     "execution_count": 7,
     "metadata": {},
     "output_type": "execute_result"
    }
   ],
   "source": [
    "# make sure if there are null values\n",
    "df.isna().sum()"
   ]
  },
  {
   "cell_type": "markdown",
   "id": "017202f9",
   "metadata": {},
   "source": [
    "## Check the number of unique values"
   ]
  },
  {
   "cell_type": "code",
   "execution_count": 8,
   "id": "0e19b734",
   "metadata": {},
   "outputs": [
    {
     "data": {
      "text/plain": [
       "Tweet            13023\n",
       "HS                   2\n",
       "Abusive              2\n",
       "HS_Individual        2\n",
       "HS_Group             2\n",
       "HS_Religion          2\n",
       "HS_Race              2\n",
       "HS_Physical          2\n",
       "HS_Gender            2\n",
       "HS_Other             2\n",
       "HS_Weak              2\n",
       "HS_Moderate          2\n",
       "HS_Strong            2\n",
       "dtype: int64"
      ]
     },
     "execution_count": 8,
     "metadata": {},
     "output_type": "execute_result"
    }
   ],
   "source": [
    "# check the unique values\n",
    "df.nunique()"
   ]
  },
  {
   "cell_type": "markdown",
   "id": "73c1b2c3",
   "metadata": {},
   "source": [
    "## Find duplicates in data and remove if any"
   ]
  },
  {
   "cell_type": "code",
   "execution_count": 9,
   "id": "a591cfa1",
   "metadata": {},
   "outputs": [
    {
     "data": {
      "text/plain": [
       "125"
      ]
     },
     "execution_count": 9,
     "metadata": {},
     "output_type": "execute_result"
    }
   ],
   "source": [
    "df.duplicated().sum()"
   ]
  },
  {
   "cell_type": "code",
   "execution_count": 10,
   "id": "fc77c224",
   "metadata": {},
   "outputs": [
    {
     "data": {
      "text/html": [
       "<div>\n",
       "<style scoped>\n",
       "    .dataframe tbody tr th:only-of-type {\n",
       "        vertical-align: middle;\n",
       "    }\n",
       "\n",
       "    .dataframe tbody tr th {\n",
       "        vertical-align: top;\n",
       "    }\n",
       "\n",
       "    .dataframe thead th {\n",
       "        text-align: right;\n",
       "    }\n",
       "</style>\n",
       "<table border=\"1\" class=\"dataframe\">\n",
       "  <thead>\n",
       "    <tr style=\"text-align: right;\">\n",
       "      <th></th>\n",
       "      <th>Tweet</th>\n",
       "      <th>HS</th>\n",
       "      <th>Abusive</th>\n",
       "      <th>HS_Individual</th>\n",
       "      <th>HS_Group</th>\n",
       "      <th>HS_Religion</th>\n",
       "      <th>HS_Race</th>\n",
       "      <th>HS_Physical</th>\n",
       "      <th>HS_Gender</th>\n",
       "      <th>HS_Other</th>\n",
       "      <th>HS_Weak</th>\n",
       "      <th>HS_Moderate</th>\n",
       "      <th>HS_Strong</th>\n",
       "    </tr>\n",
       "  </thead>\n",
       "  <tbody>\n",
       "    <tr>\n",
       "      <th>295</th>\n",
       "      <td>#GubernurZamanNow #GusIpulPuti2 #GanjarYasin1 ...</td>\n",
       "      <td>0</td>\n",
       "      <td>0</td>\n",
       "      <td>0</td>\n",
       "      <td>0</td>\n",
       "      <td>0</td>\n",
       "      <td>0</td>\n",
       "      <td>0</td>\n",
       "      <td>0</td>\n",
       "      <td>0</td>\n",
       "      <td>0</td>\n",
       "      <td>0</td>\n",
       "      <td>0</td>\n",
       "    </tr>\n",
       "    <tr>\n",
       "      <th>378</th>\n",
       "      <td>#GubernurZamanNow #GusIpulPuti2 #GanjarYasin1 ...</td>\n",
       "      <td>0</td>\n",
       "      <td>0</td>\n",
       "      <td>0</td>\n",
       "      <td>0</td>\n",
       "      <td>0</td>\n",
       "      <td>0</td>\n",
       "      <td>0</td>\n",
       "      <td>0</td>\n",
       "      <td>0</td>\n",
       "      <td>0</td>\n",
       "      <td>0</td>\n",
       "      <td>0</td>\n",
       "    </tr>\n",
       "    <tr>\n",
       "      <th>1559</th>\n",
       "      <td>Presiden yang anda tuduh Rezim anti Islam suda...</td>\n",
       "      <td>1</td>\n",
       "      <td>0</td>\n",
       "      <td>1</td>\n",
       "      <td>0</td>\n",
       "      <td>0</td>\n",
       "      <td>0</td>\n",
       "      <td>0</td>\n",
       "      <td>0</td>\n",
       "      <td>1</td>\n",
       "      <td>1</td>\n",
       "      <td>0</td>\n",
       "      <td>0</td>\n",
       "    </tr>\n",
       "    <tr>\n",
       "      <th>1565</th>\n",
       "      <td>USER USER USER USER USER USER USER USER USER U...</td>\n",
       "      <td>0</td>\n",
       "      <td>0</td>\n",
       "      <td>0</td>\n",
       "      <td>0</td>\n",
       "      <td>0</td>\n",
       "      <td>0</td>\n",
       "      <td>0</td>\n",
       "      <td>0</td>\n",
       "      <td>0</td>\n",
       "      <td>0</td>\n",
       "      <td>0</td>\n",
       "      <td>0</td>\n",
       "    </tr>\n",
       "    <tr>\n",
       "      <th>1583</th>\n",
       "      <td>Saya suka video USER</td>\n",
       "      <td>0</td>\n",
       "      <td>0</td>\n",
       "      <td>0</td>\n",
       "      <td>0</td>\n",
       "      <td>0</td>\n",
       "      <td>0</td>\n",
       "      <td>0</td>\n",
       "      <td>0</td>\n",
       "      <td>0</td>\n",
       "      <td>0</td>\n",
       "      <td>0</td>\n",
       "      <td>0</td>\n",
       "    </tr>\n",
       "    <tr>\n",
       "      <th>...</th>\n",
       "      <td>...</td>\n",
       "      <td>...</td>\n",
       "      <td>...</td>\n",
       "      <td>...</td>\n",
       "      <td>...</td>\n",
       "      <td>...</td>\n",
       "      <td>...</td>\n",
       "      <td>...</td>\n",
       "      <td>...</td>\n",
       "      <td>...</td>\n",
       "      <td>...</td>\n",
       "      <td>...</td>\n",
       "      <td>...</td>\n",
       "    </tr>\n",
       "    <tr>\n",
       "      <th>12793</th>\n",
       "      <td>I added a video to a USER playlist</td>\n",
       "      <td>0</td>\n",
       "      <td>0</td>\n",
       "      <td>0</td>\n",
       "      <td>0</td>\n",
       "      <td>0</td>\n",
       "      <td>0</td>\n",
       "      <td>0</td>\n",
       "      <td>0</td>\n",
       "      <td>0</td>\n",
       "      <td>0</td>\n",
       "      <td>0</td>\n",
       "      <td>0</td>\n",
       "    </tr>\n",
       "    <tr>\n",
       "      <th>12952</th>\n",
       "      <td>USER USER USER USER USER USER USER USER USER U...</td>\n",
       "      <td>0</td>\n",
       "      <td>0</td>\n",
       "      <td>0</td>\n",
       "      <td>0</td>\n",
       "      <td>0</td>\n",
       "      <td>0</td>\n",
       "      <td>0</td>\n",
       "      <td>0</td>\n",
       "      <td>0</td>\n",
       "      <td>0</td>\n",
       "      <td>0</td>\n",
       "      <td>0</td>\n",
       "    </tr>\n",
       "    <tr>\n",
       "      <th>12953</th>\n",
       "      <td>SETUJU SAYA,KLAU AHOK DAPAT GELAR SANTRI KEHOR...</td>\n",
       "      <td>1</td>\n",
       "      <td>1</td>\n",
       "      <td>1</td>\n",
       "      <td>0</td>\n",
       "      <td>0</td>\n",
       "      <td>0</td>\n",
       "      <td>0</td>\n",
       "      <td>0</td>\n",
       "      <td>1</td>\n",
       "      <td>1</td>\n",
       "      <td>0</td>\n",
       "      <td>0</td>\n",
       "    </tr>\n",
       "    <tr>\n",
       "      <th>12985</th>\n",
       "      <td>USER ahmad dhani yang terhormat paling babi pa...</td>\n",
       "      <td>1</td>\n",
       "      <td>1</td>\n",
       "      <td>1</td>\n",
       "      <td>0</td>\n",
       "      <td>0</td>\n",
       "      <td>0</td>\n",
       "      <td>0</td>\n",
       "      <td>1</td>\n",
       "      <td>0</td>\n",
       "      <td>1</td>\n",
       "      <td>0</td>\n",
       "      <td>0</td>\n",
       "    </tr>\n",
       "    <tr>\n",
       "      <th>13075</th>\n",
       "      <td>*Bravoo Presiden Jokowi !ð???* Presiden Joko W...</td>\n",
       "      <td>0</td>\n",
       "      <td>0</td>\n",
       "      <td>0</td>\n",
       "      <td>0</td>\n",
       "      <td>0</td>\n",
       "      <td>0</td>\n",
       "      <td>0</td>\n",
       "      <td>0</td>\n",
       "      <td>0</td>\n",
       "      <td>0</td>\n",
       "      <td>0</td>\n",
       "      <td>0</td>\n",
       "    </tr>\n",
       "  </tbody>\n",
       "</table>\n",
       "<p>125 rows × 13 columns</p>\n",
       "</div>"
      ],
      "text/plain": [
       "                                                   Tweet  HS  Abusive  \\\n",
       "295    #GubernurZamanNow #GusIpulPuti2 #GanjarYasin1 ...   0        0   \n",
       "378    #GubernurZamanNow #GusIpulPuti2 #GanjarYasin1 ...   0        0   \n",
       "1559   Presiden yang anda tuduh Rezim anti Islam suda...   1        0   \n",
       "1565   USER USER USER USER USER USER USER USER USER U...   0        0   \n",
       "1583                                Saya suka video USER   0        0   \n",
       "...                                                  ...  ..      ...   \n",
       "12793                 I added a video to a USER playlist   0        0   \n",
       "12952  USER USER USER USER USER USER USER USER USER U...   0        0   \n",
       "12953  SETUJU SAYA,KLAU AHOK DAPAT GELAR SANTRI KEHOR...   1        1   \n",
       "12985  USER ahmad dhani yang terhormat paling babi pa...   1        1   \n",
       "13075  *Bravoo Presiden Jokowi !ð???* Presiden Joko W...   0        0   \n",
       "\n",
       "       HS_Individual  HS_Group  HS_Religion  HS_Race  HS_Physical  HS_Gender  \\\n",
       "295                0         0            0        0            0          0   \n",
       "378                0         0            0        0            0          0   \n",
       "1559               1         0            0        0            0          0   \n",
       "1565               0         0            0        0            0          0   \n",
       "1583               0         0            0        0            0          0   \n",
       "...              ...       ...          ...      ...          ...        ...   \n",
       "12793              0         0            0        0            0          0   \n",
       "12952              0         0            0        0            0          0   \n",
       "12953              1         0            0        0            0          0   \n",
       "12985              1         0            0        0            0          1   \n",
       "13075              0         0            0        0            0          0   \n",
       "\n",
       "       HS_Other  HS_Weak  HS_Moderate  HS_Strong  \n",
       "295           0        0            0          0  \n",
       "378           0        0            0          0  \n",
       "1559          1        1            0          0  \n",
       "1565          0        0            0          0  \n",
       "1583          0        0            0          0  \n",
       "...         ...      ...          ...        ...  \n",
       "12793         0        0            0          0  \n",
       "12952         0        0            0          0  \n",
       "12953         1        1            0          0  \n",
       "12985         0        1            0          0  \n",
       "13075         0        0            0          0  \n",
       "\n",
       "[125 rows x 13 columns]"
      ]
     },
     "execution_count": 10,
     "metadata": {},
     "output_type": "execute_result"
    }
   ],
   "source": [
    "df[df.duplicated() == True]"
   ]
  },
  {
   "cell_type": "code",
   "execution_count": null,
   "id": "d3840993",
   "metadata": {},
   "outputs": [],
   "source": []
  },
  {
   "cell_type": "code",
   "execution_count": 11,
   "id": "c7890965",
   "metadata": {},
   "outputs": [
    {
     "data": {
      "text/plain": [
       "0"
      ]
     },
     "execution_count": 11,
     "metadata": {},
     "output_type": "execute_result"
    }
   ],
   "source": [
    "df = df.drop_duplicates()\n",
    "df.duplicated().sum()"
   ]
  },
  {
   "cell_type": "markdown",
   "id": "fecdc002",
   "metadata": {},
   "source": [
    "## Create a text cleaning function"
   ]
  },
  {
   "cell_type": "code",
   "execution_count": 12,
   "id": "41722dab",
   "metadata": {},
   "outputs": [],
   "source": [
    "def cleanText(text):\n",
    "    cleanedtext = text.lower()\n",
    "    cleanedtext = re.sub(r'http\\S+', '', cleanedtext) #URL removal\n",
    "    cleanedtext = re.sub(r\"url\", ' ', cleanedtext) # 'url' string removal\n",
    "    cleanedtext = re.sub(r\"rt\", ' ', cleanedtext) # retweet removal\n",
    "    cleanedtext = re.sub(r\"user\", ' ', cleanedtext) # USER removal\n",
    "    cleanedtext = re.sub(r\"\\\\n\", ' ', cleanedtext) # newline removal\n",
    "    cleanedtext = re.sub(r\"\\\\\\w{3}\", '', cleanedtext) # emoticon removal\n",
    "    cleanedtext = re.findall(r\"[\\w]+\",cleanedtext) # symbols removal\n",
    "    return ' '.join(cleanedtext)"
   ]
  },
  {
   "cell_type": "code",
   "execution_count": 13,
   "id": "31d5d442",
   "metadata": {},
   "outputs": [
    {
     "data": {
      "text/plain": [
       "0        disaat semua cowok berusaha melacak perhatian ...\n",
       "1        siapa yang telat ngasih tau elu edan sarap gue...\n",
       "2        41 kadang aku berfikir kenapa aku tetap percay...\n",
       "3        aku itu aku ku tau matamu sipit tapi diliat da...\n",
       "4        kaum cebong kapir udah keliatan dongoknya dari...\n",
       "                               ...                        \n",
       "13164    jangan asal ngomong ndasmu congor lu yg sekate...\n",
       "13165                               kasur mana enak kunyuk\n",
       "13166                     hati hati bisu g lagi bosan huft\n",
       "13167    bom yang real mudah terdeteksi bom yang terkub...\n",
       "13168         mana situ ngasih itu cuma foto ya kutil onta\n",
       "Name: Cleaned, Length: 13044, dtype: object"
      ]
     },
     "execution_count": 13,
     "metadata": {},
     "output_type": "execute_result"
    }
   ],
   "source": [
    "df['Cleaned'] = df.Tweet.apply(cleanText)\n",
    "df['Cleaned']"
   ]
  },
  {
   "cell_type": "markdown",
   "id": "5991af91",
   "metadata": {},
   "source": [
    "## Create a new column containing total number of character of cleaned tweet"
   ]
  },
  {
   "cell_type": "code",
   "execution_count": 14,
   "id": "9a303462",
   "metadata": {},
   "outputs": [
    {
     "data": {
      "text/html": [
       "<div>\n",
       "<style scoped>\n",
       "    .dataframe tbody tr th:only-of-type {\n",
       "        vertical-align: middle;\n",
       "    }\n",
       "\n",
       "    .dataframe tbody tr th {\n",
       "        vertical-align: top;\n",
       "    }\n",
       "\n",
       "    .dataframe thead th {\n",
       "        text-align: right;\n",
       "    }\n",
       "</style>\n",
       "<table border=\"1\" class=\"dataframe\">\n",
       "  <thead>\n",
       "    <tr style=\"text-align: right;\">\n",
       "      <th></th>\n",
       "      <th>Tweet</th>\n",
       "      <th>HS</th>\n",
       "      <th>Abusive</th>\n",
       "      <th>HS_Individual</th>\n",
       "      <th>HS_Group</th>\n",
       "      <th>HS_Religion</th>\n",
       "      <th>HS_Race</th>\n",
       "      <th>HS_Physical</th>\n",
       "      <th>HS_Gender</th>\n",
       "      <th>HS_Other</th>\n",
       "      <th>HS_Weak</th>\n",
       "      <th>HS_Moderate</th>\n",
       "      <th>HS_Strong</th>\n",
       "      <th>Cleaned</th>\n",
       "      <th>Total_char</th>\n",
       "    </tr>\n",
       "  </thead>\n",
       "  <tbody>\n",
       "    <tr>\n",
       "      <th>0</th>\n",
       "      <td>- disaat semua cowok berusaha melacak perhatia...</td>\n",
       "      <td>1</td>\n",
       "      <td>1</td>\n",
       "      <td>1</td>\n",
       "      <td>0</td>\n",
       "      <td>0</td>\n",
       "      <td>0</td>\n",
       "      <td>0</td>\n",
       "      <td>0</td>\n",
       "      <td>1</td>\n",
       "      <td>1</td>\n",
       "      <td>0</td>\n",
       "      <td>0</td>\n",
       "      <td>disaat semua cowok berusaha melacak perhatian ...</td>\n",
       "      <td>127</td>\n",
       "    </tr>\n",
       "    <tr>\n",
       "      <th>1</th>\n",
       "      <td>RT USER: USER siapa yang telat ngasih tau elu?...</td>\n",
       "      <td>0</td>\n",
       "      <td>1</td>\n",
       "      <td>0</td>\n",
       "      <td>0</td>\n",
       "      <td>0</td>\n",
       "      <td>0</td>\n",
       "      <td>0</td>\n",
       "      <td>0</td>\n",
       "      <td>0</td>\n",
       "      <td>0</td>\n",
       "      <td>0</td>\n",
       "      <td>0</td>\n",
       "      <td>siapa yang telat ngasih tau elu edan sarap gue...</td>\n",
       "      <td>105</td>\n",
       "    </tr>\n",
       "    <tr>\n",
       "      <th>2</th>\n",
       "      <td>41. Kadang aku berfikir, kenapa aku tetap perc...</td>\n",
       "      <td>0</td>\n",
       "      <td>0</td>\n",
       "      <td>0</td>\n",
       "      <td>0</td>\n",
       "      <td>0</td>\n",
       "      <td>0</td>\n",
       "      <td>0</td>\n",
       "      <td>0</td>\n",
       "      <td>0</td>\n",
       "      <td>0</td>\n",
       "      <td>0</td>\n",
       "      <td>0</td>\n",
       "      <td>41 kadang aku berfikir kenapa aku tetap percay...</td>\n",
       "      <td>248</td>\n",
       "    </tr>\n",
       "    <tr>\n",
       "      <th>3</th>\n",
       "      <td>USER USER AKU ITU AKU\\n\\nKU TAU MATAMU SIPIT T...</td>\n",
       "      <td>0</td>\n",
       "      <td>0</td>\n",
       "      <td>0</td>\n",
       "      <td>0</td>\n",
       "      <td>0</td>\n",
       "      <td>0</td>\n",
       "      <td>0</td>\n",
       "      <td>0</td>\n",
       "      <td>0</td>\n",
       "      <td>0</td>\n",
       "      <td>0</td>\n",
       "      <td>0</td>\n",
       "      <td>aku itu aku ku tau matamu sipit tapi diliat da...</td>\n",
       "      <td>61</td>\n",
       "    </tr>\n",
       "    <tr>\n",
       "      <th>4</th>\n",
       "      <td>USER USER Kaum cebong kapir udah keliatan dong...</td>\n",
       "      <td>1</td>\n",
       "      <td>1</td>\n",
       "      <td>0</td>\n",
       "      <td>1</td>\n",
       "      <td>1</td>\n",
       "      <td>0</td>\n",
       "      <td>0</td>\n",
       "      <td>0</td>\n",
       "      <td>0</td>\n",
       "      <td>0</td>\n",
       "      <td>1</td>\n",
       "      <td>0</td>\n",
       "      <td>kaum cebong kapir udah keliatan dongoknya dari...</td>\n",
       "      <td>78</td>\n",
       "    </tr>\n",
       "  </tbody>\n",
       "</table>\n",
       "</div>"
      ],
      "text/plain": [
       "                                               Tweet  HS  Abusive  \\\n",
       "0  - disaat semua cowok berusaha melacak perhatia...   1        1   \n",
       "1  RT USER: USER siapa yang telat ngasih tau elu?...   0        1   \n",
       "2  41. Kadang aku berfikir, kenapa aku tetap perc...   0        0   \n",
       "3  USER USER AKU ITU AKU\\n\\nKU TAU MATAMU SIPIT T...   0        0   \n",
       "4  USER USER Kaum cebong kapir udah keliatan dong...   1        1   \n",
       "\n",
       "   HS_Individual  HS_Group  HS_Religion  HS_Race  HS_Physical  HS_Gender  \\\n",
       "0              1         0            0        0            0          0   \n",
       "1              0         0            0        0            0          0   \n",
       "2              0         0            0        0            0          0   \n",
       "3              0         0            0        0            0          0   \n",
       "4              0         1            1        0            0          0   \n",
       "\n",
       "   HS_Other  HS_Weak  HS_Moderate  HS_Strong  \\\n",
       "0         1        1            0          0   \n",
       "1         0        0            0          0   \n",
       "2         0        0            0          0   \n",
       "3         0        0            0          0   \n",
       "4         0        0            1          0   \n",
       "\n",
       "                                             Cleaned  Total_char  \n",
       "0  disaat semua cowok berusaha melacak perhatian ...         127  \n",
       "1  siapa yang telat ngasih tau elu edan sarap gue...         105  \n",
       "2  41 kadang aku berfikir kenapa aku tetap percay...         248  \n",
       "3  aku itu aku ku tau matamu sipit tapi diliat da...          61  \n",
       "4  kaum cebong kapir udah keliatan dongoknya dari...          78  "
      ]
     },
     "execution_count": 14,
     "metadata": {},
     "output_type": "execute_result"
    }
   ],
   "source": [
    "df['Total_char'] = df.Cleaned.apply(len)\n",
    "df.head()"
   ]
  },
  {
   "cell_type": "markdown",
   "id": "8c256524",
   "metadata": {},
   "source": [
    "## Create a new column containing total number of word of cleaned tweet"
   ]
  },
  {
   "cell_type": "code",
   "execution_count": 15,
   "id": "67f427b7",
   "metadata": {},
   "outputs": [
    {
     "data": {
      "text/html": [
       "<div>\n",
       "<style scoped>\n",
       "    .dataframe tbody tr th:only-of-type {\n",
       "        vertical-align: middle;\n",
       "    }\n",
       "\n",
       "    .dataframe tbody tr th {\n",
       "        vertical-align: top;\n",
       "    }\n",
       "\n",
       "    .dataframe thead th {\n",
       "        text-align: right;\n",
       "    }\n",
       "</style>\n",
       "<table border=\"1\" class=\"dataframe\">\n",
       "  <thead>\n",
       "    <tr style=\"text-align: right;\">\n",
       "      <th></th>\n",
       "      <th>Tweet</th>\n",
       "      <th>HS</th>\n",
       "      <th>Abusive</th>\n",
       "      <th>HS_Individual</th>\n",
       "      <th>HS_Group</th>\n",
       "      <th>HS_Religion</th>\n",
       "      <th>HS_Race</th>\n",
       "      <th>HS_Physical</th>\n",
       "      <th>HS_Gender</th>\n",
       "      <th>HS_Other</th>\n",
       "      <th>HS_Weak</th>\n",
       "      <th>HS_Moderate</th>\n",
       "      <th>HS_Strong</th>\n",
       "      <th>Cleaned</th>\n",
       "      <th>Total_char</th>\n",
       "      <th>Total_word</th>\n",
       "    </tr>\n",
       "  </thead>\n",
       "  <tbody>\n",
       "    <tr>\n",
       "      <th>0</th>\n",
       "      <td>- disaat semua cowok berusaha melacak perhatia...</td>\n",
       "      <td>1</td>\n",
       "      <td>1</td>\n",
       "      <td>1</td>\n",
       "      <td>0</td>\n",
       "      <td>0</td>\n",
       "      <td>0</td>\n",
       "      <td>0</td>\n",
       "      <td>0</td>\n",
       "      <td>1</td>\n",
       "      <td>1</td>\n",
       "      <td>0</td>\n",
       "      <td>0</td>\n",
       "      <td>disaat semua cowok berusaha melacak perhatian ...</td>\n",
       "      <td>127</td>\n",
       "      <td>21</td>\n",
       "    </tr>\n",
       "    <tr>\n",
       "      <th>1</th>\n",
       "      <td>RT USER: USER siapa yang telat ngasih tau elu?...</td>\n",
       "      <td>0</td>\n",
       "      <td>1</td>\n",
       "      <td>0</td>\n",
       "      <td>0</td>\n",
       "      <td>0</td>\n",
       "      <td>0</td>\n",
       "      <td>0</td>\n",
       "      <td>0</td>\n",
       "      <td>0</td>\n",
       "      <td>0</td>\n",
       "      <td>0</td>\n",
       "      <td>0</td>\n",
       "      <td>siapa yang telat ngasih tau elu edan sarap gue...</td>\n",
       "      <td>105</td>\n",
       "      <td>19</td>\n",
       "    </tr>\n",
       "    <tr>\n",
       "      <th>2</th>\n",
       "      <td>41. Kadang aku berfikir, kenapa aku tetap perc...</td>\n",
       "      <td>0</td>\n",
       "      <td>0</td>\n",
       "      <td>0</td>\n",
       "      <td>0</td>\n",
       "      <td>0</td>\n",
       "      <td>0</td>\n",
       "      <td>0</td>\n",
       "      <td>0</td>\n",
       "      <td>0</td>\n",
       "      <td>0</td>\n",
       "      <td>0</td>\n",
       "      <td>0</td>\n",
       "      <td>41 kadang aku berfikir kenapa aku tetap percay...</td>\n",
       "      <td>248</td>\n",
       "      <td>38</td>\n",
       "    </tr>\n",
       "    <tr>\n",
       "      <th>3</th>\n",
       "      <td>USER USER AKU ITU AKU\\n\\nKU TAU MATAMU SIPIT T...</td>\n",
       "      <td>0</td>\n",
       "      <td>0</td>\n",
       "      <td>0</td>\n",
       "      <td>0</td>\n",
       "      <td>0</td>\n",
       "      <td>0</td>\n",
       "      <td>0</td>\n",
       "      <td>0</td>\n",
       "      <td>0</td>\n",
       "      <td>0</td>\n",
       "      <td>0</td>\n",
       "      <td>0</td>\n",
       "      <td>aku itu aku ku tau matamu sipit tapi diliat da...</td>\n",
       "      <td>61</td>\n",
       "      <td>13</td>\n",
       "    </tr>\n",
       "    <tr>\n",
       "      <th>4</th>\n",
       "      <td>USER USER Kaum cebong kapir udah keliatan dong...</td>\n",
       "      <td>1</td>\n",
       "      <td>1</td>\n",
       "      <td>0</td>\n",
       "      <td>1</td>\n",
       "      <td>1</td>\n",
       "      <td>0</td>\n",
       "      <td>0</td>\n",
       "      <td>0</td>\n",
       "      <td>0</td>\n",
       "      <td>0</td>\n",
       "      <td>1</td>\n",
       "      <td>0</td>\n",
       "      <td>kaum cebong kapir udah keliatan dongoknya dari...</td>\n",
       "      <td>78</td>\n",
       "      <td>12</td>\n",
       "    </tr>\n",
       "  </tbody>\n",
       "</table>\n",
       "</div>"
      ],
      "text/plain": [
       "                                               Tweet  HS  Abusive  \\\n",
       "0  - disaat semua cowok berusaha melacak perhatia...   1        1   \n",
       "1  RT USER: USER siapa yang telat ngasih tau elu?...   0        1   \n",
       "2  41. Kadang aku berfikir, kenapa aku tetap perc...   0        0   \n",
       "3  USER USER AKU ITU AKU\\n\\nKU TAU MATAMU SIPIT T...   0        0   \n",
       "4  USER USER Kaum cebong kapir udah keliatan dong...   1        1   \n",
       "\n",
       "   HS_Individual  HS_Group  HS_Religion  HS_Race  HS_Physical  HS_Gender  \\\n",
       "0              1         0            0        0            0          0   \n",
       "1              0         0            0        0            0          0   \n",
       "2              0         0            0        0            0          0   \n",
       "3              0         0            0        0            0          0   \n",
       "4              0         1            1        0            0          0   \n",
       "\n",
       "   HS_Other  HS_Weak  HS_Moderate  HS_Strong  \\\n",
       "0         1        1            0          0   \n",
       "1         0        0            0          0   \n",
       "2         0        0            0          0   \n",
       "3         0        0            0          0   \n",
       "4         0        0            1          0   \n",
       "\n",
       "                                             Cleaned  Total_char  Total_word  \n",
       "0  disaat semua cowok berusaha melacak perhatian ...         127          21  \n",
       "1  siapa yang telat ngasih tau elu edan sarap gue...         105          19  \n",
       "2  41 kadang aku berfikir kenapa aku tetap percay...         248          38  \n",
       "3  aku itu aku ku tau matamu sipit tapi diliat da...          61          13  \n",
       "4  kaum cebong kapir udah keliatan dongoknya dari...          78          12  "
      ]
     },
     "execution_count": 15,
     "metadata": {},
     "output_type": "execute_result"
    }
   ],
   "source": [
    "df['Total_word'] = df.Cleaned.apply(lambda words: len(words.split()))\n",
    "df.head()"
   ]
  },
  {
   "cell_type": "markdown",
   "id": "a5ca6aae",
   "metadata": {},
   "source": [
    "## Check if cleaned tweet contains empty string"
   ]
  },
  {
   "cell_type": "code",
   "execution_count": 16,
   "id": "c26ef987",
   "metadata": {},
   "outputs": [
    {
     "data": {
      "text/plain": [
       "13"
      ]
     },
     "execution_count": 16,
     "metadata": {},
     "output_type": "execute_result"
    }
   ],
   "source": [
    "df.Cleaned.loc[df['Total_char'] == 0].count()"
   ]
  },
  {
   "cell_type": "code",
   "execution_count": 17,
   "id": "db20f33c",
   "metadata": {},
   "outputs": [
    {
     "name": "stdout",
     "output_type": "stream",
     "text": [
      "before (13044, 16)\n",
      "after (13031, 16)\n"
     ]
    }
   ],
   "source": [
    "print(\"before\", df.shape)\n",
    "df.drop(df.index[df['Total_char'] == 0], inplace = True)\n",
    "df = df.reset_index(drop=True)\n",
    "print(\"after\",df.shape)"
   ]
  },
  {
   "cell_type": "code",
   "execution_count": 18,
   "id": "212142db",
   "metadata": {},
   "outputs": [
    {
     "data": {
      "text/html": [
       "<div>\n",
       "<style scoped>\n",
       "    .dataframe tbody tr th:only-of-type {\n",
       "        vertical-align: middle;\n",
       "    }\n",
       "\n",
       "    .dataframe tbody tr th {\n",
       "        vertical-align: top;\n",
       "    }\n",
       "\n",
       "    .dataframe thead th {\n",
       "        text-align: right;\n",
       "    }\n",
       "</style>\n",
       "<table border=\"1\" class=\"dataframe\">\n",
       "  <thead>\n",
       "    <tr style=\"text-align: right;\">\n",
       "      <th></th>\n",
       "      <th>Tweet</th>\n",
       "      <th>HS</th>\n",
       "      <th>Abusive</th>\n",
       "      <th>HS_Individual</th>\n",
       "      <th>HS_Group</th>\n",
       "      <th>HS_Religion</th>\n",
       "      <th>HS_Race</th>\n",
       "      <th>HS_Physical</th>\n",
       "      <th>HS_Gender</th>\n",
       "      <th>HS_Other</th>\n",
       "      <th>HS_Weak</th>\n",
       "      <th>HS_Moderate</th>\n",
       "      <th>HS_Strong</th>\n",
       "      <th>Cleaned</th>\n",
       "      <th>Total_char</th>\n",
       "      <th>Total_word</th>\n",
       "    </tr>\n",
       "  </thead>\n",
       "  <tbody>\n",
       "    <tr>\n",
       "      <th>0</th>\n",
       "      <td>- disaat semua cowok berusaha melacak perhatia...</td>\n",
       "      <td>1</td>\n",
       "      <td>1</td>\n",
       "      <td>1</td>\n",
       "      <td>0</td>\n",
       "      <td>0</td>\n",
       "      <td>0</td>\n",
       "      <td>0</td>\n",
       "      <td>0</td>\n",
       "      <td>1</td>\n",
       "      <td>1</td>\n",
       "      <td>0</td>\n",
       "      <td>0</td>\n",
       "      <td>disaat semua cowok berusaha melacak perhatian ...</td>\n",
       "      <td>127</td>\n",
       "      <td>21</td>\n",
       "    </tr>\n",
       "    <tr>\n",
       "      <th>1</th>\n",
       "      <td>RT USER: USER siapa yang telat ngasih tau elu?...</td>\n",
       "      <td>0</td>\n",
       "      <td>1</td>\n",
       "      <td>0</td>\n",
       "      <td>0</td>\n",
       "      <td>0</td>\n",
       "      <td>0</td>\n",
       "      <td>0</td>\n",
       "      <td>0</td>\n",
       "      <td>0</td>\n",
       "      <td>0</td>\n",
       "      <td>0</td>\n",
       "      <td>0</td>\n",
       "      <td>siapa yang telat ngasih tau elu edan sarap gue...</td>\n",
       "      <td>105</td>\n",
       "      <td>19</td>\n",
       "    </tr>\n",
       "    <tr>\n",
       "      <th>2</th>\n",
       "      <td>41. Kadang aku berfikir, kenapa aku tetap perc...</td>\n",
       "      <td>0</td>\n",
       "      <td>0</td>\n",
       "      <td>0</td>\n",
       "      <td>0</td>\n",
       "      <td>0</td>\n",
       "      <td>0</td>\n",
       "      <td>0</td>\n",
       "      <td>0</td>\n",
       "      <td>0</td>\n",
       "      <td>0</td>\n",
       "      <td>0</td>\n",
       "      <td>0</td>\n",
       "      <td>41 kadang aku berfikir kenapa aku tetap percay...</td>\n",
       "      <td>248</td>\n",
       "      <td>38</td>\n",
       "    </tr>\n",
       "    <tr>\n",
       "      <th>3</th>\n",
       "      <td>USER USER AKU ITU AKU\\n\\nKU TAU MATAMU SIPIT T...</td>\n",
       "      <td>0</td>\n",
       "      <td>0</td>\n",
       "      <td>0</td>\n",
       "      <td>0</td>\n",
       "      <td>0</td>\n",
       "      <td>0</td>\n",
       "      <td>0</td>\n",
       "      <td>0</td>\n",
       "      <td>0</td>\n",
       "      <td>0</td>\n",
       "      <td>0</td>\n",
       "      <td>0</td>\n",
       "      <td>aku itu aku ku tau matamu sipit tapi diliat da...</td>\n",
       "      <td>61</td>\n",
       "      <td>13</td>\n",
       "    </tr>\n",
       "    <tr>\n",
       "      <th>4</th>\n",
       "      <td>USER USER Kaum cebong kapir udah keliatan dong...</td>\n",
       "      <td>1</td>\n",
       "      <td>1</td>\n",
       "      <td>0</td>\n",
       "      <td>1</td>\n",
       "      <td>1</td>\n",
       "      <td>0</td>\n",
       "      <td>0</td>\n",
       "      <td>0</td>\n",
       "      <td>0</td>\n",
       "      <td>0</td>\n",
       "      <td>1</td>\n",
       "      <td>0</td>\n",
       "      <td>kaum cebong kapir udah keliatan dongoknya dari...</td>\n",
       "      <td>78</td>\n",
       "      <td>12</td>\n",
       "    </tr>\n",
       "    <tr>\n",
       "      <th>...</th>\n",
       "      <td>...</td>\n",
       "      <td>...</td>\n",
       "      <td>...</td>\n",
       "      <td>...</td>\n",
       "      <td>...</td>\n",
       "      <td>...</td>\n",
       "      <td>...</td>\n",
       "      <td>...</td>\n",
       "      <td>...</td>\n",
       "      <td>...</td>\n",
       "      <td>...</td>\n",
       "      <td>...</td>\n",
       "      <td>...</td>\n",
       "      <td>...</td>\n",
       "      <td>...</td>\n",
       "      <td>...</td>\n",
       "    </tr>\n",
       "    <tr>\n",
       "      <th>13026</th>\n",
       "      <td>USER jangan asal ngomong ndasmu. congor lu yg ...</td>\n",
       "      <td>1</td>\n",
       "      <td>1</td>\n",
       "      <td>1</td>\n",
       "      <td>0</td>\n",
       "      <td>0</td>\n",
       "      <td>0</td>\n",
       "      <td>1</td>\n",
       "      <td>0</td>\n",
       "      <td>0</td>\n",
       "      <td>1</td>\n",
       "      <td>0</td>\n",
       "      <td>0</td>\n",
       "      <td>jangan asal ngomong ndasmu congor lu yg sekate...</td>\n",
       "      <td>54</td>\n",
       "      <td>9</td>\n",
       "    </tr>\n",
       "    <tr>\n",
       "      <th>13027</th>\n",
       "      <td>USER Kasur mana enak kunyuk'</td>\n",
       "      <td>0</td>\n",
       "      <td>1</td>\n",
       "      <td>0</td>\n",
       "      <td>0</td>\n",
       "      <td>0</td>\n",
       "      <td>0</td>\n",
       "      <td>0</td>\n",
       "      <td>0</td>\n",
       "      <td>0</td>\n",
       "      <td>0</td>\n",
       "      <td>0</td>\n",
       "      <td>0</td>\n",
       "      <td>kasur mana enak kunyuk</td>\n",
       "      <td>22</td>\n",
       "      <td>4</td>\n",
       "    </tr>\n",
       "    <tr>\n",
       "      <th>13028</th>\n",
       "      <td>USER Hati hati bisu :( .g\\n\\nlagi bosan huft \\...</td>\n",
       "      <td>0</td>\n",
       "      <td>0</td>\n",
       "      <td>0</td>\n",
       "      <td>0</td>\n",
       "      <td>0</td>\n",
       "      <td>0</td>\n",
       "      <td>0</td>\n",
       "      <td>0</td>\n",
       "      <td>0</td>\n",
       "      <td>0</td>\n",
       "      <td>0</td>\n",
       "      <td>0</td>\n",
       "      <td>hati hati bisu g lagi bosan huft</td>\n",
       "      <td>32</td>\n",
       "      <td>7</td>\n",
       "    </tr>\n",
       "    <tr>\n",
       "      <th>13029</th>\n",
       "      <td>USER USER USER USER Bom yang real mudah terdet...</td>\n",
       "      <td>0</td>\n",
       "      <td>0</td>\n",
       "      <td>0</td>\n",
       "      <td>0</td>\n",
       "      <td>0</td>\n",
       "      <td>0</td>\n",
       "      <td>0</td>\n",
       "      <td>0</td>\n",
       "      <td>0</td>\n",
       "      <td>0</td>\n",
       "      <td>0</td>\n",
       "      <td>0</td>\n",
       "      <td>bom yang real mudah terdeteksi bom yang terkub...</td>\n",
       "      <td>114</td>\n",
       "      <td>18</td>\n",
       "    </tr>\n",
       "    <tr>\n",
       "      <th>13030</th>\n",
       "      <td>USER Mana situ ngasih(\": itu cuma foto ya kuti...</td>\n",
       "      <td>1</td>\n",
       "      <td>1</td>\n",
       "      <td>1</td>\n",
       "      <td>0</td>\n",
       "      <td>0</td>\n",
       "      <td>0</td>\n",
       "      <td>0</td>\n",
       "      <td>0</td>\n",
       "      <td>1</td>\n",
       "      <td>1</td>\n",
       "      <td>0</td>\n",
       "      <td>0</td>\n",
       "      <td>mana situ ngasih itu cuma foto ya kutil onta</td>\n",
       "      <td>44</td>\n",
       "      <td>9</td>\n",
       "    </tr>\n",
       "  </tbody>\n",
       "</table>\n",
       "<p>13031 rows × 16 columns</p>\n",
       "</div>"
      ],
      "text/plain": [
       "                                                   Tweet  HS  Abusive  \\\n",
       "0      - disaat semua cowok berusaha melacak perhatia...   1        1   \n",
       "1      RT USER: USER siapa yang telat ngasih tau elu?...   0        1   \n",
       "2      41. Kadang aku berfikir, kenapa aku tetap perc...   0        0   \n",
       "3      USER USER AKU ITU AKU\\n\\nKU TAU MATAMU SIPIT T...   0        0   \n",
       "4      USER USER Kaum cebong kapir udah keliatan dong...   1        1   \n",
       "...                                                  ...  ..      ...   \n",
       "13026  USER jangan asal ngomong ndasmu. congor lu yg ...   1        1   \n",
       "13027                       USER Kasur mana enak kunyuk'   0        1   \n",
       "13028  USER Hati hati bisu :( .g\\n\\nlagi bosan huft \\...   0        0   \n",
       "13029  USER USER USER USER Bom yang real mudah terdet...   0        0   \n",
       "13030  USER Mana situ ngasih(\": itu cuma foto ya kuti...   1        1   \n",
       "\n",
       "       HS_Individual  HS_Group  HS_Religion  HS_Race  HS_Physical  HS_Gender  \\\n",
       "0                  1         0            0        0            0          0   \n",
       "1                  0         0            0        0            0          0   \n",
       "2                  0         0            0        0            0          0   \n",
       "3                  0         0            0        0            0          0   \n",
       "4                  0         1            1        0            0          0   \n",
       "...              ...       ...          ...      ...          ...        ...   \n",
       "13026              1         0            0        0            1          0   \n",
       "13027              0         0            0        0            0          0   \n",
       "13028              0         0            0        0            0          0   \n",
       "13029              0         0            0        0            0          0   \n",
       "13030              1         0            0        0            0          0   \n",
       "\n",
       "       HS_Other  HS_Weak  HS_Moderate  HS_Strong  \\\n",
       "0             1        1            0          0   \n",
       "1             0        0            0          0   \n",
       "2             0        0            0          0   \n",
       "3             0        0            0          0   \n",
       "4             0        0            1          0   \n",
       "...         ...      ...          ...        ...   \n",
       "13026         0        1            0          0   \n",
       "13027         0        0            0          0   \n",
       "13028         0        0            0          0   \n",
       "13029         0        0            0          0   \n",
       "13030         1        1            0          0   \n",
       "\n",
       "                                                 Cleaned  Total_char  \\\n",
       "0      disaat semua cowok berusaha melacak perhatian ...         127   \n",
       "1      siapa yang telat ngasih tau elu edan sarap gue...         105   \n",
       "2      41 kadang aku berfikir kenapa aku tetap percay...         248   \n",
       "3      aku itu aku ku tau matamu sipit tapi diliat da...          61   \n",
       "4      kaum cebong kapir udah keliatan dongoknya dari...          78   \n",
       "...                                                  ...         ...   \n",
       "13026  jangan asal ngomong ndasmu congor lu yg sekate...          54   \n",
       "13027                             kasur mana enak kunyuk          22   \n",
       "13028                   hati hati bisu g lagi bosan huft          32   \n",
       "13029  bom yang real mudah terdeteksi bom yang terkub...         114   \n",
       "13030       mana situ ngasih itu cuma foto ya kutil onta          44   \n",
       "\n",
       "       Total_word  \n",
       "0              21  \n",
       "1              19  \n",
       "2              38  \n",
       "3              13  \n",
       "4              12  \n",
       "...           ...  \n",
       "13026           9  \n",
       "13027           4  \n",
       "13028           7  \n",
       "13029          18  \n",
       "13030           9  \n",
       "\n",
       "[13031 rows x 16 columns]"
      ]
     },
     "execution_count": 18,
     "metadata": {},
     "output_type": "execute_result"
    }
   ],
   "source": [
    "df"
   ]
  },
  {
   "cell_type": "markdown",
   "id": "f404b399",
   "metadata": {},
   "source": [
    "## Create a new translated tweet column from cleaned tweet"
   ]
  },
  {
   "cell_type": "code",
   "execution_count": 19,
   "id": "cebd5c62",
   "metadata": {},
   "outputs": [],
   "source": [
    "# open the translation\n",
    "df_kamus = pd.read_csv(\"archive/new_kamusalay.csv\", encoding='latin-1')\n",
    "df_kamus = df_kamus.reset_index()\n",
    "\n",
    "def openCon():\n",
    "    conn = None\n",
    "    try:\n",
    "        conn = sqlite3.connect(\"kamus.db\")\n",
    "    except Error as e:\n",
    "        print(e)\n",
    "    return conn\n",
    "\n",
    "def closeCon(con):\n",
    "    con.close()\n",
    "\n",
    "def checkDict(word):\n",
    "    conn = openCon()\n",
    "    cur = conn.cursor()\n",
    "    cur.execute(\"SELECT `anak jakarta asyik asyik` FROM kamus where anakjakartaasikasik = '\"+word+\"' \")\n",
    "    row = cur.fetchone()\n",
    "    if row:\n",
    "        return row[0]\n",
    "    else:\n",
    "        return None\n",
    "    closeCon(conn)\n",
    "    \n",
    "    \n",
    "def translateSentence(sentence):\n",
    "    output = ''\n",
    "    for word in sentence.split(\" \"):\n",
    "        translate = checkDict(word) # replace word to non alay\n",
    "        if translate:\n",
    "            word = translate\n",
    "        output = output +' '+ word\n",
    "    return output.strip()\n",
    "\n",
    "def stopwordRemove(text):\n",
    "    factory = StopWordRemoverFactory()\n",
    "    stopword = factory.create_stop_word_remover()\n",
    "    output = stopword.remove(text)\n",
    "    return output \n",
    "\n",
    "def textStem(text):\n",
    "    # print('-',end='')\n",
    "    factory = StemmerFactory()\n",
    "    stemmer = factory.create_stemmer()\n",
    "    output   = stemmer.stem(text)\n",
    "    return output"
   ]
  },
  {
   "cell_type": "code",
   "execution_count": null,
   "id": "1789164c",
   "metadata": {},
   "outputs": [
    {
     "name": "stdout",
     "output_type": "stream",
     "text": [
      "Stopword Removal Completed\n"
     ]
    }
   ],
   "source": [
    "# df['Translated'] = df.Cleaned.apply(translateSentence)\n",
    "# df.to_csv('archive/analysis_ready1.csv')\n",
    "# df = pd.read_csv(\"archive/analysis_ready1.csv\")\n",
    "# print('Translate Completed')\n",
    "# df['Translated'] = df.Translated.apply(stopwordRemove)\n",
    "# df.to_csv('archive/analysis_ready2.csv')\n",
    "df = pd.read_csv(\"archive/analysis_ready2.csv\")\n",
    "print('Stopword Removal Completed')\n",
    "df['Translated'] = df.Translated.apply(textStem)\n",
    "df.to_csv('archive/analysis_ready3.csv')\n",
    "df = pd.read_csv(\"archive/analysis_ready3.csv\")\n",
    "print('Word Stemming Completed')\n",
    "df['Translated']"
   ]
  },
  {
   "cell_type": "markdown",
   "id": "91f2c49c-7f0d-4134-921f-69a884939bfa",
   "metadata": {},
   "source": [
    "# Save dataframe for analysis"
   ]
  },
  {
   "cell_type": "code",
   "execution_count": null,
   "id": "183df859-447b-4e3d-b7f2-1588cf680abe",
   "metadata": {},
   "outputs": [],
   "source": [
    "df.to_csv('archive/analysis_ready.csv')\n",
    "df = pd.read_csv(\"archive/analysis_ready.csv\")"
   ]
  },
  {
   "cell_type": "markdown",
   "id": "0f5adbff",
   "metadata": {},
   "source": [
    "# Univariate Analysis\n",
    "For analysis, we will use the cleaned tweet, since both total word and total char can be very different from the original tweet, depends on the translation"
   ]
  },
  {
   "cell_type": "markdown",
   "id": "3370d0fa",
   "metadata": {},
   "source": [
    "## Descriptive Statistic"
   ]
  },
  {
   "cell_type": "code",
   "execution_count": 22,
   "id": "6c2f8cc4",
   "metadata": {},
   "outputs": [
    {
     "data": {
      "text/html": [
       "<div>\n",
       "<style scoped>\n",
       "    .dataframe tbody tr th:only-of-type {\n",
       "        vertical-align: middle;\n",
       "    }\n",
       "\n",
       "    .dataframe tbody tr th {\n",
       "        vertical-align: top;\n",
       "    }\n",
       "\n",
       "    .dataframe thead th {\n",
       "        text-align: right;\n",
       "    }\n",
       "</style>\n",
       "<table border=\"1\" class=\"dataframe\">\n",
       "  <thead>\n",
       "    <tr style=\"text-align: right;\">\n",
       "      <th></th>\n",
       "      <th>Total_char</th>\n",
       "      <th>Total_word</th>\n",
       "    </tr>\n",
       "  </thead>\n",
       "  <tbody>\n",
       "    <tr>\n",
       "      <th>count</th>\n",
       "      <td>13031.000000</td>\n",
       "      <td>13031.000000</td>\n",
       "    </tr>\n",
       "    <tr>\n",
       "      <th>mean</th>\n",
       "      <td>99.315632</td>\n",
       "      <td>16.291612</td>\n",
       "    </tr>\n",
       "    <tr>\n",
       "      <th>std</th>\n",
       "      <td>65.320771</td>\n",
       "      <td>10.586304</td>\n",
       "    </tr>\n",
       "    <tr>\n",
       "      <th>min</th>\n",
       "      <td>1.000000</td>\n",
       "      <td>1.000000</td>\n",
       "    </tr>\n",
       "    <tr>\n",
       "      <th>25%</th>\n",
       "      <td>47.000000</td>\n",
       "      <td>8.000000</td>\n",
       "    </tr>\n",
       "    <tr>\n",
       "      <th>50%</th>\n",
       "      <td>86.000000</td>\n",
       "      <td>14.000000</td>\n",
       "    </tr>\n",
       "    <tr>\n",
       "      <th>75%</th>\n",
       "      <td>134.000000</td>\n",
       "      <td>22.000000</td>\n",
       "    </tr>\n",
       "    <tr>\n",
       "      <th>max</th>\n",
       "      <td>293.000000</td>\n",
       "      <td>85.000000</td>\n",
       "    </tr>\n",
       "  </tbody>\n",
       "</table>\n",
       "</div>"
      ],
      "text/plain": [
       "         Total_char    Total_word\n",
       "count  13031.000000  13031.000000\n",
       "mean      99.315632     16.291612\n",
       "std       65.320771     10.586304\n",
       "min        1.000000      1.000000\n",
       "25%       47.000000      8.000000\n",
       "50%       86.000000     14.000000\n",
       "75%      134.000000     22.000000\n",
       "max      293.000000     85.000000"
      ]
     },
     "execution_count": 22,
     "metadata": {},
     "output_type": "execute_result"
    }
   ],
   "source": [
    "df.loc[:,['Total_char','Total_word']].describe()"
   ]
  },
  {
   "cell_type": "code",
   "execution_count": 23,
   "id": "c51b022d",
   "metadata": {},
   "outputs": [
    {
     "data": {
      "text/plain": [
       "Total_char    99.315632\n",
       "Total_word    16.291612\n",
       "dtype: float64"
      ]
     },
     "execution_count": 23,
     "metadata": {},
     "output_type": "execute_result"
    }
   ],
   "source": [
    "df.loc[:,['Total_char','Total_word']].mean()"
   ]
  },
  {
   "cell_type": "code",
   "execution_count": 24,
   "id": "d89ab980",
   "metadata": {},
   "outputs": [
    {
     "data": {
      "text/plain": [
       "Total_char    86.0\n",
       "Total_word    14.0\n",
       "dtype: float64"
      ]
     },
     "execution_count": 24,
     "metadata": {},
     "output_type": "execute_result"
    }
   ],
   "source": [
    "df.loc[:,['Total_char','Total_word']].median()"
   ]
  },
  {
   "cell_type": "code",
   "execution_count": 25,
   "id": "920fadea",
   "metadata": {},
   "outputs": [
    {
     "data": {
      "text/html": [
       "<div>\n",
       "<style scoped>\n",
       "    .dataframe tbody tr th:only-of-type {\n",
       "        vertical-align: middle;\n",
       "    }\n",
       "\n",
       "    .dataframe tbody tr th {\n",
       "        vertical-align: top;\n",
       "    }\n",
       "\n",
       "    .dataframe thead th {\n",
       "        text-align: right;\n",
       "    }\n",
       "</style>\n",
       "<table border=\"1\" class=\"dataframe\">\n",
       "  <thead>\n",
       "    <tr style=\"text-align: right;\">\n",
       "      <th></th>\n",
       "      <th>Total_char</th>\n",
       "      <th>Total_word</th>\n",
       "    </tr>\n",
       "  </thead>\n",
       "  <tbody>\n",
       "    <tr>\n",
       "      <th>0</th>\n",
       "      <td>65</td>\n",
       "      <td>10</td>\n",
       "    </tr>\n",
       "  </tbody>\n",
       "</table>\n",
       "</div>"
      ],
      "text/plain": [
       "   Total_char  Total_word\n",
       "0          65          10"
      ]
     },
     "execution_count": 25,
     "metadata": {},
     "output_type": "execute_result"
    }
   ],
   "source": [
    "df.loc[:,['Total_char','Total_word']].mode()"
   ]
  },
  {
   "cell_type": "markdown",
   "id": "64a849bb",
   "metadata": {},
   "source": [
    "### Check outlier"
   ]
  },
  {
   "cell_type": "code",
   "execution_count": 26,
   "id": "1ba71b19",
   "metadata": {},
   "outputs": [],
   "source": [
    "def describeQuartile(df, colname):\n",
    "    p0 = df[colname].min()\n",
    "    p100 = df[colname].max()\n",
    "\n",
    "    q1 = df[colname].quantile(0.25)\n",
    "    q2 = df[colname].quantile(0.5)\n",
    "    q3 = df[colname].quantile(0.75)\n",
    "    iqr = q3-q1\n",
    "    print('Interquartile value:',iqr)\n",
    "\n",
    "    lower_limit = q1-1.5*iqr\n",
    "    upper_limit = q3+1.5*iqr\n",
    "\n",
    "    print(\"Lower limit:\", lower_limit)\n",
    "    print(\"Min value\", p0)\n",
    "\n",
    "    if lower_limit < p0:\n",
    "      print(\"Some outlier occurs on lower limit\")\n",
    "    else:\n",
    "      print(\"Some outlier occurs on lower limit\")\n",
    "\n",
    "    print()\n",
    "    print(\"Upper limit:\", upper_limit)\n",
    "    print(\"Max value\", p100)\n",
    "\n",
    "    if upper_limit > p100:\n",
    "      print(\"No outlier occurs on upper limit\")\n",
    "    else:\n",
    "      print(\"Some outlier occurs on upper limit\")\n",
    "    \n",
    "    outlier = df[colname][np.bitwise_or(df[colname] > upper_limit, df[colname] < lower_limit)].count()\n",
    "    print(\"Num of outliers:\",outlier)\n",
    "    \n",
    "    print('----Removing outliers----')\n",
    "    print('Shape before',df.shape)\n",
    "    df = df.loc[(df[colname] > lower_limit) & (df[colname] < upper_limit)]\n",
    "    df = df.reset_index(drop=True)\n",
    "    print('Shape after',df.shape)\n",
    "    outlier = df[colname][np.bitwise_or(df[colname] > upper_limit, df[colname] < lower_limit)].count()\n",
    "    print(\"Num of outliers:\",outlier)"
   ]
  },
  {
   "cell_type": "code",
   "execution_count": 27,
   "id": "46a5293c",
   "metadata": {},
   "outputs": [
    {
     "name": "stdout",
     "output_type": "stream",
     "text": [
      "Interquartile value: 87.0\n",
      "Lower limit: -83.5\n",
      "Min value 1\n",
      "Some outlier occurs on lower limit\n",
      "\n",
      "Upper limit: 264.5\n",
      "Max value 293\n",
      "Some outlier occurs on upper limit\n",
      "Num of outliers: 19\n",
      "----Removing outliers----\n",
      "Shape before (13031, 20)\n",
      "Shape after (13012, 20)\n",
      "Num of outliers: 0\n"
     ]
    }
   ],
   "source": [
    "describeQuartile(df, 'Total_char')"
   ]
  },
  {
   "cell_type": "code",
   "execution_count": 28,
   "id": "ffc0a181",
   "metadata": {},
   "outputs": [
    {
     "name": "stdout",
     "output_type": "stream",
     "text": [
      "Interquartile value: 14.0\n",
      "Lower limit: -13.0\n",
      "Min value 1\n",
      "Some outlier occurs on lower limit\n",
      "\n",
      "Upper limit: 43.0\n",
      "Max value 85\n",
      "Some outlier occurs on upper limit\n",
      "Num of outliers: 118\n",
      "----Removing outliers----\n",
      "Shape before (13031, 20)\n",
      "Shape after (12858, 20)\n",
      "Num of outliers: 0\n"
     ]
    }
   ],
   "source": [
    "describeQuartile(df, 'Total_word')"
   ]
  },
  {
   "cell_type": "markdown",
   "id": "a393aa81",
   "metadata": {},
   "source": [
    "## Check Skewness\n",
    "From the data shown, it can be described that both total char and total word have positive skewness"
   ]
  },
  {
   "cell_type": "code",
   "execution_count": 29,
   "id": "af10661a",
   "metadata": {},
   "outputs": [
    {
     "data": {
      "text/plain": [
       "Total_char    0.754515\n",
       "Total_word    0.855159\n",
       "dtype: float64"
      ]
     },
     "execution_count": 29,
     "metadata": {},
     "output_type": "execute_result"
    }
   ],
   "source": [
    "df.loc[:,['Total_char','Total_word']].skew()"
   ]
  },
  {
   "cell_type": "markdown",
   "id": "98a88d76",
   "metadata": {},
   "source": [
    "## Check Kurtosis\n",
    "The kurtosis value of both total char and total word are less than 3, therefore it has smaller number of outliers"
   ]
  },
  {
   "cell_type": "code",
   "execution_count": 30,
   "id": "4f9c4718",
   "metadata": {},
   "outputs": [
    {
     "data": {
      "text/plain": [
       "Total_char   -0.375302\n",
       "Total_word    0.048457\n",
       "dtype: float64"
      ]
     },
     "execution_count": 30,
     "metadata": {},
     "output_type": "execute_result"
    }
   ],
   "source": [
    "df.loc[:,['Total_char','Total_word']].kurtosis()"
   ]
  },
  {
   "cell_type": "markdown",
   "id": "85abe5af",
   "metadata": {},
   "source": [
    "# Visualization"
   ]
  },
  {
   "cell_type": "code",
   "execution_count": 31,
   "id": "fa9d1529",
   "metadata": {},
   "outputs": [
    {
     "data": {
      "text/plain": [
       "<AxesSubplot: >"
      ]
     },
     "execution_count": 31,
     "metadata": {},
     "output_type": "execute_result"
    },
    {
     "data": {
      "image/png": "[encoded data removed]",
      "text/plain": [
       "<Figure size 640x480 with 1 Axes>"
      ]
     },
     "metadata": {},
     "output_type": "display_data"
    }
   ],
   "source": [
    "df.Total_char.hist()"
   ]
  },
  {
   "cell_type": "code",
   "execution_count": 32,
   "id": "65b110e4",
   "metadata": {},
   "outputs": [
    {
     "data": {
      "text/plain": [
       "<AxesSubplot: >"
      ]
     },
     "execution_count": 32,
     "metadata": {},
     "output_type": "execute_result"
    },
    {
     "data": {
      "image/png": "[encoded data removed]",
      "text/plain": [
       "<Figure size 640x480 with 1 Axes>"
      ]
     },
     "metadata": {},
     "output_type": "display_data"
    }
   ],
   "source": [
    "df.Total_word.hist()"
   ]
  },
  {
   "cell_type": "code",
   "execution_count": 33,
   "id": "affd5c9c",
   "metadata": {},
   "outputs": [
    {
     "data": {
      "text/plain": [
       "array([[<AxesSubplot: title={'center': 'Total_char'}>,\n",
       "        <AxesSubplot: title={'center': 'Total_word'}>]], dtype=object)"
      ]
     },
     "execution_count": 33,
     "metadata": {},
     "output_type": "execute_result"
    },
    {
     "data": {
      "image/png": "[encoded data removed]",
      "text/plain": [
       "<Figure size 640x480 with 2 Axes>"
      ]
     },
     "metadata": {},
     "output_type": "display_data"
    }
   ],
   "source": [
    "df_hs_negative = df.loc[df['HS'] == 0]\n",
    "df_hs_negative = df_hs_negative.loc[:,['Total_char','Total_word']]\n",
    "df_hs_negative.hist()"
   ]
  },
  {
   "cell_type": "code",
   "execution_count": 34,
   "id": "02c54633",
   "metadata": {},
   "outputs": [
    {
     "data": {
      "text/plain": [
       "array([[<AxesSubplot: title={'center': 'Total_char'}>,\n",
       "        <AxesSubplot: title={'center': 'Total_word'}>]], dtype=object)"
      ]
     },
     "execution_count": 34,
     "metadata": {},
     "output_type": "execute_result"
    },
    {
     "data": {
      "image/png": "[encoded data removed]",
      "text/plain": [
       "<Figure size 640x480 with 2 Axes>"
      ]
     },
     "metadata": {},
     "output_type": "display_data"
    }
   ],
   "source": [
    "df_hs_positive = df.loc[df['HS'] == 1]\n",
    "df_hs_positive = df_hs_positive.loc[:,['Total_char','Total_word']]\n",
    "df_hs_positive.hist()"
   ]
  },
  {
   "cell_type": "code",
   "execution_count": 35,
   "id": "27214c67",
   "metadata": {},
   "outputs": [
    {
     "data": {
      "text/plain": [
       "array([[<AxesSubplot: title={'center': 'Total_char'}>,\n",
       "        <AxesSubplot: title={'center': 'Total_word'}>]], dtype=object)"
      ]
     },
     "execution_count": 35,
     "metadata": {},
     "output_type": "execute_result"
    },
    {
     "data": {
      "image/png": "[encoded data removed]",
      "text/plain": [
       "<Figure size 640x480 with 2 Axes>"
      ]
     },
     "metadata": {},
     "output_type": "display_data"
    }
   ],
   "source": [
    "df_abusive_negative = df.loc[df['Abusive'] == 0]\n",
    "df_abusive_negative = df_abusive_negative.loc[:,['Total_char','Total_word']]\n",
    "df_abusive_negative.hist()"
   ]
  },
  {
   "cell_type": "code",
   "execution_count": 36,
   "id": "7f8c40dd",
   "metadata": {},
   "outputs": [
    {
     "data": {
      "text/plain": [
       "array([[<AxesSubplot: title={'center': 'Total_char'}>,\n",
       "        <AxesSubplot: title={'center': 'Total_word'}>]], dtype=object)"
      ]
     },
     "execution_count": 36,
     "metadata": {},
     "output_type": "execute_result"
    },
    {
     "data": {
      "image/png": "[encoded data removed]",
      "text/plain": [
       "<Figure size 640x480 with 2 Axes>"
      ]
     },
     "metadata": {},
     "output_type": "display_data"
    }
   ],
   "source": [
    "df_abusive_positive = df.loc[df['Abusive'] == 1]\n",
    "df_abusive_positive = df_abusive_positive.loc[:,['Total_char','Total_word']]\n",
    "df_abusive_positive.hist()"
   ]
  },
  {
   "cell_type": "code",
   "execution_count": 37,
   "id": "df99fa0d",
   "metadata": {},
   "outputs": [],
   "source": [
    "def topTenFrequentWord(df):\n",
    "    top10 = pd.Series(' '.join(df).split()).value_counts()[:10]\n",
    "    print(top10)"
   ]
  },
  {
   "cell_type": "code",
   "execution_count": 38,
   "id": "14d9a1c6",
   "metadata": {},
   "outputs": [
    {
     "name": "stdout",
     "output_type": "stream",
     "text": [
      "Top 10 hate speech negative cleaned tweet\n",
      "dan         1955\n",
      "di          1798\n",
      "yg          1692\n",
      "yang        1575\n",
      "itu         1062\n",
      "ini          969\n",
      "ada          967\n",
      "aku          668\n",
      "orang        603\n",
      "presiden     581\n",
      "dtype: int64\n",
      "Top 10 hate speech negative translated tweet\n"
     ]
    },
    {
     "ename": "TypeError",
     "evalue": "sequence item 4013: expected str instance, float found",
     "output_type": "error",
     "traceback": [
      "\u001b[1;31m---------------------------------------------------------------------------\u001b[0m",
      "\u001b[1;31mTypeError\u001b[0m                                 Traceback (most recent call last)",
      "Input \u001b[1;32mIn [38]\u001b[0m, in \u001b[0;36m<cell line: 7>\u001b[1;34m()\u001b[0m\n\u001b[0;32m      5\u001b[0m df_hs_negative_translated \u001b[38;5;241m=\u001b[39m df\u001b[38;5;241m.\u001b[39mloc[df[\u001b[38;5;124m'\u001b[39m\u001b[38;5;124mHS\u001b[39m\u001b[38;5;124m'\u001b[39m] \u001b[38;5;241m==\u001b[39m \u001b[38;5;241m0\u001b[39m]\u001b[38;5;241m.\u001b[39mTranslated\n\u001b[0;32m      6\u001b[0m \u001b[38;5;28mprint\u001b[39m(\u001b[38;5;124m\"\u001b[39m\u001b[38;5;124mTop 10 hate speech negative translated tweet\u001b[39m\u001b[38;5;124m\"\u001b[39m)\n\u001b[1;32m----> 7\u001b[0m \u001b[43mtopTenFrequentWord\u001b[49m\u001b[43m(\u001b[49m\u001b[43mdf_hs_negative_translated\u001b[49m\u001b[43m)\u001b[49m\n",
      "Input \u001b[1;32mIn [37]\u001b[0m, in \u001b[0;36mtopTenFrequentWord\u001b[1;34m(df)\u001b[0m\n\u001b[0;32m      1\u001b[0m \u001b[38;5;28;01mdef\u001b[39;00m \u001b[38;5;21mtopTenFrequentWord\u001b[39m(df):\n\u001b[1;32m----> 2\u001b[0m     top10 \u001b[38;5;241m=\u001b[39m pd\u001b[38;5;241m.\u001b[39mSeries(\u001b[38;5;124;43m'\u001b[39;49m\u001b[38;5;124;43m \u001b[39;49m\u001b[38;5;124;43m'\u001b[39;49m\u001b[38;5;241;43m.\u001b[39;49m\u001b[43mjoin\u001b[49m\u001b[43m(\u001b[49m\u001b[43mdf\u001b[49m\u001b[43m)\u001b[49m\u001b[38;5;241m.\u001b[39msplit())\u001b[38;5;241m.\u001b[39mvalue_counts()[:\u001b[38;5;241m10\u001b[39m]\n\u001b[0;32m      3\u001b[0m     \u001b[38;5;28mprint\u001b[39m(top10)\n",
      "\u001b[1;31mTypeError\u001b[0m: sequence item 4013: expected str instance, float found"
     ]
    }
   ],
   "source": [
    "df_hs_negative_tweet = df.loc[df['HS'] == 0].Cleaned\n",
    "print(\"Top 10 hate speech negative cleaned tweet\")\n",
    "topTenFrequentWord(df_hs_negative_tweet)\n",
    "\n",
    "df_hs_negative_translated = df.loc[df['HS'] == 0].Translated\n",
    "print(\"Top 10 hate speech negative translated tweet\")\n",
    "topTenFrequentWord(df_hs_negative_translated)"
   ]
  },
  {
   "cell_type": "code",
   "execution_count": null,
   "id": "04394b61",
   "metadata": {},
   "outputs": [],
   "source": [
    "df_hs_positive_tweet = df.loc[df['HS'] == 1].Cleaned\n",
    "print(\"Top 10 hate speech positive cleaned tweet\")\n",
    "topTenFrequentWord(df_hs_positive_tweet)\n",
    "\n",
    "df_hs_positive_translated = df.loc[df['HS'] == 1].Translated\n",
    "print(\"Top 10 hate speech positive translated tweet\")\n",
    "topTenFrequentWord(df_hs_positive_translated)"
   ]
  },
  {
   "cell_type": "code",
   "execution_count": null,
   "id": "86f8b882",
   "metadata": {},
   "outputs": [],
   "source": [
    "df_abusive_negative_tweet = df.loc[df['Abusive'] == 0].Cleaned\n",
    "print(\"Top 10 abusive negative cleaned tweet\")\n",
    "topTenFrequentWord(df_abusive_negative_tweet)\n",
    "\n",
    "df_abusive_negative_translated = df.loc[df['Abusive'] == 0].Translated\n",
    "print(\"Top 10 abusive negative translated tweet\")\n",
    "topTenFrequentWord(df_abusive_negative_translated)"
   ]
  },
  {
   "cell_type": "code",
   "execution_count": null,
   "id": "25541ebb",
   "metadata": {},
   "outputs": [],
   "source": []
  }
 ],
 "metadata": {
  "kernelspec": {
   "display_name": "Python 3 (ipykernel)",
   "language": "python",
   "name": "python3"
  },
  "language_info": {
   "codemirror_mode": {
    "name": "ipython",
    "version": 3
   },
   "file_extension": ".py",
   "mimetype": "text/x-python",
   "name": "python",
   "nbconvert_exporter": "python",
   "pygments_lexer": "ipython3",
   "version": "3.8.5"
  }
 },
 "nbformat": 4,
 "nbformat_minor": 5
}
