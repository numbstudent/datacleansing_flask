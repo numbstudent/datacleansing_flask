{
 "cells": [
  {
   "cell_type": "markdown",
   "id": "431cfa0c",
   "metadata": {},
   "source": [
    "# Character and Word Analysis on Hate Speech and Abusive Tweets in Indonesian using Descriptive Analytics"
   ]
  },
  {
   "cell_type": "markdown",
   "id": "73baf45a",
   "metadata": {},
   "source": [
    "# Data Preparation"
   ]
  },
  {
   "cell_type": "markdown",
   "id": "a4cde824",
   "metadata": {
    "tags": []
   },
   "source": [
    "## Import the required libraries"
   ]
  },
  {
   "cell_type": "code",
   "execution_count": 1,
   "id": "1e4b6ac1",
   "metadata": {},
   "outputs": [],
   "source": [
    "import numpy as np\n",
    "import pandas as pd\n",
    "import re\n",
    "import sqlite3\n",
    "from Sastrawi.StopWordRemover.StopWordRemoverFactory import StopWordRemoverFactory\n",
    "from Sastrawi.Stemmer.StemmerFactory import StemmerFactory\n",
    "import matplotlib.pyplot as plt\n",
    "import seaborn as sns"
   ]
  },
  {
   "cell_type": "markdown",
   "id": "389f0af6",
   "metadata": {},
   "source": [
    "## Load data"
   ]
  },
  {
   "cell_type": "code",
   "execution_count": 2,
   "id": "33f556d7",
   "metadata": {},
   "outputs": [],
   "source": [
    "df = pd.read_csv(\"archive/data.csv\", encoding=\"latin-1\")"
   ]
  },
  {
   "cell_type": "markdown",
   "id": "63523570",
   "metadata": {},
   "source": [
    "## Check first and last data"
   ]
  },
  {
   "cell_type": "code",
   "execution_count": 3,
   "id": "7c41253e",
   "metadata": {},
   "outputs": [
    {
     "data": {
      "text/html": [
       "<div>\n",
       "<style scoped>\n",
       "    .dataframe tbody tr th:only-of-type {\n",
       "        vertical-align: middle;\n",
       "    }\n",
       "\n",
       "    .dataframe tbody tr th {\n",
       "        vertical-align: top;\n",
       "    }\n",
       "\n",
       "    .dataframe thead th {\n",
       "        text-align: right;\n",
       "    }\n",
       "</style>\n",
       "<table border=\"1\" class=\"dataframe\">\n",
       "  <thead>\n",
       "    <tr style=\"text-align: right;\">\n",
       "      <th></th>\n",
       "      <th>Tweet</th>\n",
       "      <th>HS</th>\n",
       "      <th>Abusive</th>\n",
       "      <th>HS_Individual</th>\n",
       "      <th>HS_Group</th>\n",
       "      <th>HS_Religion</th>\n",
       "      <th>HS_Race</th>\n",
       "      <th>HS_Physical</th>\n",
       "      <th>HS_Gender</th>\n",
       "      <th>HS_Other</th>\n",
       "      <th>HS_Weak</th>\n",
       "      <th>HS_Moderate</th>\n",
       "      <th>HS_Strong</th>\n",
       "    </tr>\n",
       "  </thead>\n",
       "  <tbody>\n",
       "    <tr>\n",
       "      <th>0</th>\n",
       "      <td>- disaat semua cowok berusaha melacak perhatia...</td>\n",
       "      <td>1</td>\n",
       "      <td>1</td>\n",
       "      <td>1</td>\n",
       "      <td>0</td>\n",
       "      <td>0</td>\n",
       "      <td>0</td>\n",
       "      <td>0</td>\n",
       "      <td>0</td>\n",
       "      <td>1</td>\n",
       "      <td>1</td>\n",
       "      <td>0</td>\n",
       "      <td>0</td>\n",
       "    </tr>\n",
       "    <tr>\n",
       "      <th>1</th>\n",
       "      <td>RT USER: USER siapa yang telat ngasih tau elu?...</td>\n",
       "      <td>0</td>\n",
       "      <td>1</td>\n",
       "      <td>0</td>\n",
       "      <td>0</td>\n",
       "      <td>0</td>\n",
       "      <td>0</td>\n",
       "      <td>0</td>\n",
       "      <td>0</td>\n",
       "      <td>0</td>\n",
       "      <td>0</td>\n",
       "      <td>0</td>\n",
       "      <td>0</td>\n",
       "    </tr>\n",
       "    <tr>\n",
       "      <th>2</th>\n",
       "      <td>41. Kadang aku berfikir, kenapa aku tetap perc...</td>\n",
       "      <td>0</td>\n",
       "      <td>0</td>\n",
       "      <td>0</td>\n",
       "      <td>0</td>\n",
       "      <td>0</td>\n",
       "      <td>0</td>\n",
       "      <td>0</td>\n",
       "      <td>0</td>\n",
       "      <td>0</td>\n",
       "      <td>0</td>\n",
       "      <td>0</td>\n",
       "      <td>0</td>\n",
       "    </tr>\n",
       "    <tr>\n",
       "      <th>3</th>\n",
       "      <td>USER USER AKU ITU AKU\\n\\nKU TAU MATAMU SIPIT T...</td>\n",
       "      <td>0</td>\n",
       "      <td>0</td>\n",
       "      <td>0</td>\n",
       "      <td>0</td>\n",
       "      <td>0</td>\n",
       "      <td>0</td>\n",
       "      <td>0</td>\n",
       "      <td>0</td>\n",
       "      <td>0</td>\n",
       "      <td>0</td>\n",
       "      <td>0</td>\n",
       "      <td>0</td>\n",
       "    </tr>\n",
       "    <tr>\n",
       "      <th>4</th>\n",
       "      <td>USER USER Kaum cebong kapir udah keliatan dong...</td>\n",
       "      <td>1</td>\n",
       "      <td>1</td>\n",
       "      <td>0</td>\n",
       "      <td>1</td>\n",
       "      <td>1</td>\n",
       "      <td>0</td>\n",
       "      <td>0</td>\n",
       "      <td>0</td>\n",
       "      <td>0</td>\n",
       "      <td>0</td>\n",
       "      <td>1</td>\n",
       "      <td>0</td>\n",
       "    </tr>\n",
       "  </tbody>\n",
       "</table>\n",
       "</div>"
      ],
      "text/plain": [
       "                                               Tweet  HS  Abusive  \\\n",
       "0  - disaat semua cowok berusaha melacak perhatia...   1        1   \n",
       "1  RT USER: USER siapa yang telat ngasih tau elu?...   0        1   \n",
       "2  41. Kadang aku berfikir, kenapa aku tetap perc...   0        0   \n",
       "3  USER USER AKU ITU AKU\\n\\nKU TAU MATAMU SIPIT T...   0        0   \n",
       "4  USER USER Kaum cebong kapir udah keliatan dong...   1        1   \n",
       "\n",
       "   HS_Individual  HS_Group  HS_Religion  HS_Race  HS_Physical  HS_Gender  \\\n",
       "0              1         0            0        0            0          0   \n",
       "1              0         0            0        0            0          0   \n",
       "2              0         0            0        0            0          0   \n",
       "3              0         0            0        0            0          0   \n",
       "4              0         1            1        0            0          0   \n",
       "\n",
       "   HS_Other  HS_Weak  HS_Moderate  HS_Strong  \n",
       "0         1        1            0          0  \n",
       "1         0        0            0          0  \n",
       "2         0        0            0          0  \n",
       "3         0        0            0          0  \n",
       "4         0        0            1          0  "
      ]
     },
     "execution_count": 3,
     "metadata": {},
     "output_type": "execute_result"
    }
   ],
   "source": [
    "# let's check the begining 5 of the data\n",
    "df.head()"
   ]
  },
  {
   "cell_type": "code",
   "execution_count": 4,
   "id": "ebbe90d9",
   "metadata": {},
   "outputs": [
    {
     "data": {
      "text/html": [
       "<div>\n",
       "<style scoped>\n",
       "    .dataframe tbody tr th:only-of-type {\n",
       "        vertical-align: middle;\n",
       "    }\n",
       "\n",
       "    .dataframe tbody tr th {\n",
       "        vertical-align: top;\n",
       "    }\n",
       "\n",
       "    .dataframe thead th {\n",
       "        text-align: right;\n",
       "    }\n",
       "</style>\n",
       "<table border=\"1\" class=\"dataframe\">\n",
       "  <thead>\n",
       "    <tr style=\"text-align: right;\">\n",
       "      <th></th>\n",
       "      <th>Tweet</th>\n",
       "      <th>HS</th>\n",
       "      <th>Abusive</th>\n",
       "      <th>HS_Individual</th>\n",
       "      <th>HS_Group</th>\n",
       "      <th>HS_Religion</th>\n",
       "      <th>HS_Race</th>\n",
       "      <th>HS_Physical</th>\n",
       "      <th>HS_Gender</th>\n",
       "      <th>HS_Other</th>\n",
       "      <th>HS_Weak</th>\n",
       "      <th>HS_Moderate</th>\n",
       "      <th>HS_Strong</th>\n",
       "    </tr>\n",
       "  </thead>\n",
       "  <tbody>\n",
       "    <tr>\n",
       "      <th>13164</th>\n",
       "      <td>USER jangan asal ngomong ndasmu. congor lu yg ...</td>\n",
       "      <td>1</td>\n",
       "      <td>1</td>\n",
       "      <td>1</td>\n",
       "      <td>0</td>\n",
       "      <td>0</td>\n",
       "      <td>0</td>\n",
       "      <td>1</td>\n",
       "      <td>0</td>\n",
       "      <td>0</td>\n",
       "      <td>1</td>\n",
       "      <td>0</td>\n",
       "      <td>0</td>\n",
       "    </tr>\n",
       "    <tr>\n",
       "      <th>13165</th>\n",
       "      <td>USER Kasur mana enak kunyuk'</td>\n",
       "      <td>0</td>\n",
       "      <td>1</td>\n",
       "      <td>0</td>\n",
       "      <td>0</td>\n",
       "      <td>0</td>\n",
       "      <td>0</td>\n",
       "      <td>0</td>\n",
       "      <td>0</td>\n",
       "      <td>0</td>\n",
       "      <td>0</td>\n",
       "      <td>0</td>\n",
       "      <td>0</td>\n",
       "    </tr>\n",
       "    <tr>\n",
       "      <th>13166</th>\n",
       "      <td>USER Hati hati bisu :( .g\\n\\nlagi bosan huft \\...</td>\n",
       "      <td>0</td>\n",
       "      <td>0</td>\n",
       "      <td>0</td>\n",
       "      <td>0</td>\n",
       "      <td>0</td>\n",
       "      <td>0</td>\n",
       "      <td>0</td>\n",
       "      <td>0</td>\n",
       "      <td>0</td>\n",
       "      <td>0</td>\n",
       "      <td>0</td>\n",
       "      <td>0</td>\n",
       "    </tr>\n",
       "    <tr>\n",
       "      <th>13167</th>\n",
       "      <td>USER USER USER USER Bom yang real mudah terdet...</td>\n",
       "      <td>0</td>\n",
       "      <td>0</td>\n",
       "      <td>0</td>\n",
       "      <td>0</td>\n",
       "      <td>0</td>\n",
       "      <td>0</td>\n",
       "      <td>0</td>\n",
       "      <td>0</td>\n",
       "      <td>0</td>\n",
       "      <td>0</td>\n",
       "      <td>0</td>\n",
       "      <td>0</td>\n",
       "    </tr>\n",
       "    <tr>\n",
       "      <th>13168</th>\n",
       "      <td>USER Mana situ ngasih(\": itu cuma foto ya kuti...</td>\n",
       "      <td>1</td>\n",
       "      <td>1</td>\n",
       "      <td>1</td>\n",
       "      <td>0</td>\n",
       "      <td>0</td>\n",
       "      <td>0</td>\n",
       "      <td>0</td>\n",
       "      <td>0</td>\n",
       "      <td>1</td>\n",
       "      <td>1</td>\n",
       "      <td>0</td>\n",
       "      <td>0</td>\n",
       "    </tr>\n",
       "  </tbody>\n",
       "</table>\n",
       "</div>"
      ],
      "text/plain": [
       "                                                   Tweet  HS  Abusive  \\\n",
       "13164  USER jangan asal ngomong ndasmu. congor lu yg ...   1        1   \n",
       "13165                       USER Kasur mana enak kunyuk'   0        1   \n",
       "13166  USER Hati hati bisu :( .g\\n\\nlagi bosan huft \\...   0        0   \n",
       "13167  USER USER USER USER Bom yang real mudah terdet...   0        0   \n",
       "13168  USER Mana situ ngasih(\": itu cuma foto ya kuti...   1        1   \n",
       "\n",
       "       HS_Individual  HS_Group  HS_Religion  HS_Race  HS_Physical  HS_Gender  \\\n",
       "13164              1         0            0        0            1          0   \n",
       "13165              0         0            0        0            0          0   \n",
       "13166              0         0            0        0            0          0   \n",
       "13167              0         0            0        0            0          0   \n",
       "13168              1         0            0        0            0          0   \n",
       "\n",
       "       HS_Other  HS_Weak  HS_Moderate  HS_Strong  \n",
       "13164         0        1            0          0  \n",
       "13165         0        0            0          0  \n",
       "13166         0        0            0          0  \n",
       "13167         0        0            0          0  \n",
       "13168         1        1            0          0  "
      ]
     },
     "execution_count": 4,
     "metadata": {},
     "output_type": "execute_result"
    }
   ],
   "source": [
    "# also the last 5 of the data\n",
    "df.tail()"
   ]
  },
  {
   "cell_type": "markdown",
   "id": "12e29a9e",
   "metadata": {},
   "source": [
    "## Check the data length and its number of column"
   ]
  },
  {
   "cell_type": "code",
   "execution_count": 5,
   "id": "b07ea640",
   "metadata": {},
   "outputs": [
    {
     "data": {
      "text/plain": [
       "(13169, 13)"
      ]
     },
     "execution_count": 5,
     "metadata": {},
     "output_type": "execute_result"
    }
   ],
   "source": [
    "df.shape"
   ]
  },
  {
   "cell_type": "markdown",
   "id": "b31d1270",
   "metadata": {},
   "source": [
    "## Check completeness of data"
   ]
  },
  {
   "cell_type": "code",
   "execution_count": 6,
   "id": "9e70d809",
   "metadata": {},
   "outputs": [
    {
     "name": "stdout",
     "output_type": "stream",
     "text": [
      "<class 'pandas.core.frame.DataFrame'>\n",
      "RangeIndex: 13169 entries, 0 to 13168\n",
      "Data columns (total 13 columns):\n",
      " #   Column         Non-Null Count  Dtype \n",
      "---  ------         --------------  ----- \n",
      " 0   Tweet          13169 non-null  object\n",
      " 1   HS             13169 non-null  int64 \n",
      " 2   Abusive        13169 non-null  int64 \n",
      " 3   HS_Individual  13169 non-null  int64 \n",
      " 4   HS_Group       13169 non-null  int64 \n",
      " 5   HS_Religion    13169 non-null  int64 \n",
      " 6   HS_Race        13169 non-null  int64 \n",
      " 7   HS_Physical    13169 non-null  int64 \n",
      " 8   HS_Gender      13169 non-null  int64 \n",
      " 9   HS_Other       13169 non-null  int64 \n",
      " 10  HS_Weak        13169 non-null  int64 \n",
      " 11  HS_Moderate    13169 non-null  int64 \n",
      " 12  HS_Strong      13169 non-null  int64 \n",
      "dtypes: int64(12), object(1)\n",
      "memory usage: 1.3+ MB\n"
     ]
    }
   ],
   "source": [
    "df.info()"
   ]
  },
  {
   "cell_type": "markdown",
   "id": "5e00693b",
   "metadata": {},
   "source": [
    "## Check if there are null values"
   ]
  },
  {
   "cell_type": "code",
   "execution_count": 7,
   "id": "af7eff5d",
   "metadata": {},
   "outputs": [
    {
     "data": {
      "text/plain": [
       "Tweet            0\n",
       "HS               0\n",
       "Abusive          0\n",
       "HS_Individual    0\n",
       "HS_Group         0\n",
       "HS_Religion      0\n",
       "HS_Race          0\n",
       "HS_Physical      0\n",
       "HS_Gender        0\n",
       "HS_Other         0\n",
       "HS_Weak          0\n",
       "HS_Moderate      0\n",
       "HS_Strong        0\n",
       "dtype: int64"
      ]
     },
     "execution_count": 7,
     "metadata": {},
     "output_type": "execute_result"
    }
   ],
   "source": [
    "# make sure if there are null values\n",
    "df.isna().sum()"
   ]
  },
  {
   "cell_type": "markdown",
   "id": "017202f9",
   "metadata": {},
   "source": [
    "## Check the number of unique values"
   ]
  },
  {
   "cell_type": "code",
   "execution_count": 8,
   "id": "0e19b734",
   "metadata": {},
   "outputs": [
    {
     "data": {
      "text/plain": [
       "Tweet            13023\n",
       "HS                   2\n",
       "Abusive              2\n",
       "HS_Individual        2\n",
       "HS_Group             2\n",
       "HS_Religion          2\n",
       "HS_Race              2\n",
       "HS_Physical          2\n",
       "HS_Gender            2\n",
       "HS_Other             2\n",
       "HS_Weak              2\n",
       "HS_Moderate          2\n",
       "HS_Strong            2\n",
       "dtype: int64"
      ]
     },
     "execution_count": 8,
     "metadata": {},
     "output_type": "execute_result"
    }
   ],
   "source": [
    "# check the unique values\n",
    "df.nunique()"
   ]
  },
  {
   "cell_type": "markdown",
   "id": "73c1b2c3",
   "metadata": {},
   "source": [
    "## Find duplicates in data and remove if any"
   ]
  },
  {
   "cell_type": "code",
   "execution_count": 9,
   "id": "a591cfa1",
   "metadata": {},
   "outputs": [
    {
     "data": {
      "text/plain": [
       "125"
      ]
     },
     "execution_count": 9,
     "metadata": {},
     "output_type": "execute_result"
    }
   ],
   "source": [
    "df.duplicated().sum()"
   ]
  },
  {
   "cell_type": "code",
   "execution_count": 10,
   "id": "fc77c224",
   "metadata": {},
   "outputs": [
    {
     "data": {
      "text/html": [
       "<div>\n",
       "<style scoped>\n",
       "    .dataframe tbody tr th:only-of-type {\n",
       "        vertical-align: middle;\n",
       "    }\n",
       "\n",
       "    .dataframe tbody tr th {\n",
       "        vertical-align: top;\n",
       "    }\n",
       "\n",
       "    .dataframe thead th {\n",
       "        text-align: right;\n",
       "    }\n",
       "</style>\n",
       "<table border=\"1\" class=\"dataframe\">\n",
       "  <thead>\n",
       "    <tr style=\"text-align: right;\">\n",
       "      <th></th>\n",
       "      <th>Tweet</th>\n",
       "      <th>HS</th>\n",
       "      <th>Abusive</th>\n",
       "      <th>HS_Individual</th>\n",
       "      <th>HS_Group</th>\n",
       "      <th>HS_Religion</th>\n",
       "      <th>HS_Race</th>\n",
       "      <th>HS_Physical</th>\n",
       "      <th>HS_Gender</th>\n",
       "      <th>HS_Other</th>\n",
       "      <th>HS_Weak</th>\n",
       "      <th>HS_Moderate</th>\n",
       "      <th>HS_Strong</th>\n",
       "    </tr>\n",
       "  </thead>\n",
       "  <tbody>\n",
       "    <tr>\n",
       "      <th>295</th>\n",
       "      <td>#GubernurZamanNow #GusIpulPuti2 #GanjarYasin1 ...</td>\n",
       "      <td>0</td>\n",
       "      <td>0</td>\n",
       "      <td>0</td>\n",
       "      <td>0</td>\n",
       "      <td>0</td>\n",
       "      <td>0</td>\n",
       "      <td>0</td>\n",
       "      <td>0</td>\n",
       "      <td>0</td>\n",
       "      <td>0</td>\n",
       "      <td>0</td>\n",
       "      <td>0</td>\n",
       "    </tr>\n",
       "    <tr>\n",
       "      <th>378</th>\n",
       "      <td>#GubernurZamanNow #GusIpulPuti2 #GanjarYasin1 ...</td>\n",
       "      <td>0</td>\n",
       "      <td>0</td>\n",
       "      <td>0</td>\n",
       "      <td>0</td>\n",
       "      <td>0</td>\n",
       "      <td>0</td>\n",
       "      <td>0</td>\n",
       "      <td>0</td>\n",
       "      <td>0</td>\n",
       "      <td>0</td>\n",
       "      <td>0</td>\n",
       "      <td>0</td>\n",
       "    </tr>\n",
       "    <tr>\n",
       "      <th>1559</th>\n",
       "      <td>Presiden yang anda tuduh Rezim anti Islam suda...</td>\n",
       "      <td>1</td>\n",
       "      <td>0</td>\n",
       "      <td>1</td>\n",
       "      <td>0</td>\n",
       "      <td>0</td>\n",
       "      <td>0</td>\n",
       "      <td>0</td>\n",
       "      <td>0</td>\n",
       "      <td>1</td>\n",
       "      <td>1</td>\n",
       "      <td>0</td>\n",
       "      <td>0</td>\n",
       "    </tr>\n",
       "    <tr>\n",
       "      <th>1565</th>\n",
       "      <td>USER USER USER USER USER USER USER USER USER U...</td>\n",
       "      <td>0</td>\n",
       "      <td>0</td>\n",
       "      <td>0</td>\n",
       "      <td>0</td>\n",
       "      <td>0</td>\n",
       "      <td>0</td>\n",
       "      <td>0</td>\n",
       "      <td>0</td>\n",
       "      <td>0</td>\n",
       "      <td>0</td>\n",
       "      <td>0</td>\n",
       "      <td>0</td>\n",
       "    </tr>\n",
       "    <tr>\n",
       "      <th>1583</th>\n",
       "      <td>Saya suka video USER</td>\n",
       "      <td>0</td>\n",
       "      <td>0</td>\n",
       "      <td>0</td>\n",
       "      <td>0</td>\n",
       "      <td>0</td>\n",
       "      <td>0</td>\n",
       "      <td>0</td>\n",
       "      <td>0</td>\n",
       "      <td>0</td>\n",
       "      <td>0</td>\n",
       "      <td>0</td>\n",
       "      <td>0</td>\n",
       "    </tr>\n",
       "    <tr>\n",
       "      <th>...</th>\n",
       "      <td>...</td>\n",
       "      <td>...</td>\n",
       "      <td>...</td>\n",
       "      <td>...</td>\n",
       "      <td>...</td>\n",
       "      <td>...</td>\n",
       "      <td>...</td>\n",
       "      <td>...</td>\n",
       "      <td>...</td>\n",
       "      <td>...</td>\n",
       "      <td>...</td>\n",
       "      <td>...</td>\n",
       "      <td>...</td>\n",
       "    </tr>\n",
       "    <tr>\n",
       "      <th>12793</th>\n",
       "      <td>I added a video to a USER playlist</td>\n",
       "      <td>0</td>\n",
       "      <td>0</td>\n",
       "      <td>0</td>\n",
       "      <td>0</td>\n",
       "      <td>0</td>\n",
       "      <td>0</td>\n",
       "      <td>0</td>\n",
       "      <td>0</td>\n",
       "      <td>0</td>\n",
       "      <td>0</td>\n",
       "      <td>0</td>\n",
       "      <td>0</td>\n",
       "    </tr>\n",
       "    <tr>\n",
       "      <th>12952</th>\n",
       "      <td>USER USER USER USER USER USER USER USER USER U...</td>\n",
       "      <td>0</td>\n",
       "      <td>0</td>\n",
       "      <td>0</td>\n",
       "      <td>0</td>\n",
       "      <td>0</td>\n",
       "      <td>0</td>\n",
       "      <td>0</td>\n",
       "      <td>0</td>\n",
       "      <td>0</td>\n",
       "      <td>0</td>\n",
       "      <td>0</td>\n",
       "      <td>0</td>\n",
       "    </tr>\n",
       "    <tr>\n",
       "      <th>12953</th>\n",
       "      <td>SETUJU SAYA,KLAU AHOK DAPAT GELAR SANTRI KEHOR...</td>\n",
       "      <td>1</td>\n",
       "      <td>1</td>\n",
       "      <td>1</td>\n",
       "      <td>0</td>\n",
       "      <td>0</td>\n",
       "      <td>0</td>\n",
       "      <td>0</td>\n",
       "      <td>0</td>\n",
       "      <td>1</td>\n",
       "      <td>1</td>\n",
       "      <td>0</td>\n",
       "      <td>0</td>\n",
       "    </tr>\n",
       "    <tr>\n",
       "      <th>12985</th>\n",
       "      <td>USER ahmad dhani yang terhormat paling babi pa...</td>\n",
       "      <td>1</td>\n",
       "      <td>1</td>\n",
       "      <td>1</td>\n",
       "      <td>0</td>\n",
       "      <td>0</td>\n",
       "      <td>0</td>\n",
       "      <td>0</td>\n",
       "      <td>1</td>\n",
       "      <td>0</td>\n",
       "      <td>1</td>\n",
       "      <td>0</td>\n",
       "      <td>0</td>\n",
       "    </tr>\n",
       "    <tr>\n",
       "      <th>13075</th>\n",
       "      <td>*Bravoo Presiden Jokowi !ð???* Presiden Joko W...</td>\n",
       "      <td>0</td>\n",
       "      <td>0</td>\n",
       "      <td>0</td>\n",
       "      <td>0</td>\n",
       "      <td>0</td>\n",
       "      <td>0</td>\n",
       "      <td>0</td>\n",
       "      <td>0</td>\n",
       "      <td>0</td>\n",
       "      <td>0</td>\n",
       "      <td>0</td>\n",
       "      <td>0</td>\n",
       "    </tr>\n",
       "  </tbody>\n",
       "</table>\n",
       "<p>125 rows × 13 columns</p>\n",
       "</div>"
      ],
      "text/plain": [
       "                                                   Tweet  HS  Abusive  \\\n",
       "295    #GubernurZamanNow #GusIpulPuti2 #GanjarYasin1 ...   0        0   \n",
       "378    #GubernurZamanNow #GusIpulPuti2 #GanjarYasin1 ...   0        0   \n",
       "1559   Presiden yang anda tuduh Rezim anti Islam suda...   1        0   \n",
       "1565   USER USER USER USER USER USER USER USER USER U...   0        0   \n",
       "1583                                Saya suka video USER   0        0   \n",
       "...                                                  ...  ..      ...   \n",
       "12793                 I added a video to a USER playlist   0        0   \n",
       "12952  USER USER USER USER USER USER USER USER USER U...   0        0   \n",
       "12953  SETUJU SAYA,KLAU AHOK DAPAT GELAR SANTRI KEHOR...   1        1   \n",
       "12985  USER ahmad dhani yang terhormat paling babi pa...   1        1   \n",
       "13075  *Bravoo Presiden Jokowi !ð???* Presiden Joko W...   0        0   \n",
       "\n",
       "       HS_Individual  HS_Group  HS_Religion  HS_Race  HS_Physical  HS_Gender  \\\n",
       "295                0         0            0        0            0          0   \n",
       "378                0         0            0        0            0          0   \n",
       "1559               1         0            0        0            0          0   \n",
       "1565               0         0            0        0            0          0   \n",
       "1583               0         0            0        0            0          0   \n",
       "...              ...       ...          ...      ...          ...        ...   \n",
       "12793              0         0            0        0            0          0   \n",
       "12952              0         0            0        0            0          0   \n",
       "12953              1         0            0        0            0          0   \n",
       "12985              1         0            0        0            0          1   \n",
       "13075              0         0            0        0            0          0   \n",
       "\n",
       "       HS_Other  HS_Weak  HS_Moderate  HS_Strong  \n",
       "295           0        0            0          0  \n",
       "378           0        0            0          0  \n",
       "1559          1        1            0          0  \n",
       "1565          0        0            0          0  \n",
       "1583          0        0            0          0  \n",
       "...         ...      ...          ...        ...  \n",
       "12793         0        0            0          0  \n",
       "12952         0        0            0          0  \n",
       "12953         1        1            0          0  \n",
       "12985         0        1            0          0  \n",
       "13075         0        0            0          0  \n",
       "\n",
       "[125 rows x 13 columns]"
      ]
     },
     "execution_count": 10,
     "metadata": {},
     "output_type": "execute_result"
    }
   ],
   "source": [
    "df[df.duplicated() == True]"
   ]
  },
  {
   "cell_type": "code",
   "execution_count": null,
   "id": "d3840993",
   "metadata": {},
   "outputs": [],
   "source": []
  },
  {
   "cell_type": "code",
   "execution_count": 11,
   "id": "c7890965",
   "metadata": {},
   "outputs": [
    {
     "data": {
      "text/plain": [
       "0"
      ]
     },
     "execution_count": 11,
     "metadata": {},
     "output_type": "execute_result"
    }
   ],
   "source": [
    "df = df.drop_duplicates()\n",
    "df.duplicated().sum()"
   ]
  },
  {
   "cell_type": "markdown",
   "id": "fecdc002",
   "metadata": {},
   "source": [
    "## Create a text cleaning function"
   ]
  },
  {
   "cell_type": "code",
   "execution_count": 12,
   "id": "41722dab",
   "metadata": {},
   "outputs": [],
   "source": [
    "def cleanText(text):\n",
    "    cleanedtext = text.lower()\n",
    "    cleanedtext = re.sub(r'http\\S+', '', cleanedtext) #URL removal\n",
    "    cleanedtext = re.sub(r\"url\", ' ', cleanedtext) # 'url' string removal\n",
    "    cleanedtext = re.sub(r\"rt\", ' ', cleanedtext) # retweet removal\n",
    "    cleanedtext = re.sub(r\"user\", ' ', cleanedtext) # USER removal\n",
    "    cleanedtext = re.sub(r\"\\\\n\", ' ', cleanedtext) # newline removal\n",
    "    cleanedtext = re.sub(r\"\\\\\\w{3}\", '', cleanedtext) # emoticon removal\n",
    "    cleanedtext = re.findall(r\"[\\w]+\",cleanedtext) # symbols removal\n",
    "    return ' '.join(cleanedtext)"
   ]
  },
  {
   "cell_type": "code",
   "execution_count": 13,
   "id": "31d5d442",
   "metadata": {},
   "outputs": [
    {
     "data": {
      "text/plain": [
       "0        disaat semua cowok berusaha melacak perhatian ...\n",
       "1        siapa yang telat ngasih tau elu edan sarap gue...\n",
       "2        41 kadang aku berfikir kenapa aku tetap percay...\n",
       "3        aku itu aku ku tau matamu sipit tapi diliat da...\n",
       "4        kaum cebong kapir udah keliatan dongoknya dari...\n",
       "                               ...                        \n",
       "13164    jangan asal ngomong ndasmu congor lu yg sekate...\n",
       "13165                               kasur mana enak kunyuk\n",
       "13166                     hati hati bisu g lagi bosan huft\n",
       "13167    bom yang real mudah terdeteksi bom yang terkub...\n",
       "13168         mana situ ngasih itu cuma foto ya kutil onta\n",
       "Name: Cleaned, Length: 13044, dtype: object"
      ]
     },
     "execution_count": 13,
     "metadata": {},
     "output_type": "execute_result"
    }
   ],
   "source": [
    "df['Cleaned'] = df.Tweet.apply(cleanText)\n",
    "df['Cleaned']"
   ]
  },
  {
   "cell_type": "code",
   "execution_count": null,
   "id": "a1b6a0e1-832f-4335-bf2e-6d3d1da589f1",
   "metadata": {},
   "outputs": [],
   "source": []
  },
  {
   "cell_type": "markdown",
   "id": "5991af91",
   "metadata": {},
   "source": [
    "## Create a new column containing total number of character of cleaned tweet"
   ]
  },
  {
   "cell_type": "code",
   "execution_count": 14,
   "id": "9a303462",
   "metadata": {},
   "outputs": [
    {
     "data": {
      "text/html": [
       "<div>\n",
       "<style scoped>\n",
       "    .dataframe tbody tr th:only-of-type {\n",
       "        vertical-align: middle;\n",
       "    }\n",
       "\n",
       "    .dataframe tbody tr th {\n",
       "        vertical-align: top;\n",
       "    }\n",
       "\n",
       "    .dataframe thead th {\n",
       "        text-align: right;\n",
       "    }\n",
       "</style>\n",
       "<table border=\"1\" class=\"dataframe\">\n",
       "  <thead>\n",
       "    <tr style=\"text-align: right;\">\n",
       "      <th></th>\n",
       "      <th>Tweet</th>\n",
       "      <th>HS</th>\n",
       "      <th>Abusive</th>\n",
       "      <th>HS_Individual</th>\n",
       "      <th>HS_Group</th>\n",
       "      <th>HS_Religion</th>\n",
       "      <th>HS_Race</th>\n",
       "      <th>HS_Physical</th>\n",
       "      <th>HS_Gender</th>\n",
       "      <th>HS_Other</th>\n",
       "      <th>HS_Weak</th>\n",
       "      <th>HS_Moderate</th>\n",
       "      <th>HS_Strong</th>\n",
       "      <th>Cleaned</th>\n",
       "      <th>Total_char</th>\n",
       "    </tr>\n",
       "  </thead>\n",
       "  <tbody>\n",
       "    <tr>\n",
       "      <th>0</th>\n",
       "      <td>- disaat semua cowok berusaha melacak perhatia...</td>\n",
       "      <td>1</td>\n",
       "      <td>1</td>\n",
       "      <td>1</td>\n",
       "      <td>0</td>\n",
       "      <td>0</td>\n",
       "      <td>0</td>\n",
       "      <td>0</td>\n",
       "      <td>0</td>\n",
       "      <td>1</td>\n",
       "      <td>1</td>\n",
       "      <td>0</td>\n",
       "      <td>0</td>\n",
       "      <td>disaat semua cowok berusaha melacak perhatian ...</td>\n",
       "      <td>127</td>\n",
       "    </tr>\n",
       "    <tr>\n",
       "      <th>1</th>\n",
       "      <td>RT USER: USER siapa yang telat ngasih tau elu?...</td>\n",
       "      <td>0</td>\n",
       "      <td>1</td>\n",
       "      <td>0</td>\n",
       "      <td>0</td>\n",
       "      <td>0</td>\n",
       "      <td>0</td>\n",
       "      <td>0</td>\n",
       "      <td>0</td>\n",
       "      <td>0</td>\n",
       "      <td>0</td>\n",
       "      <td>0</td>\n",
       "      <td>0</td>\n",
       "      <td>siapa yang telat ngasih tau elu edan sarap gue...</td>\n",
       "      <td>105</td>\n",
       "    </tr>\n",
       "    <tr>\n",
       "      <th>2</th>\n",
       "      <td>41. Kadang aku berfikir, kenapa aku tetap perc...</td>\n",
       "      <td>0</td>\n",
       "      <td>0</td>\n",
       "      <td>0</td>\n",
       "      <td>0</td>\n",
       "      <td>0</td>\n",
       "      <td>0</td>\n",
       "      <td>0</td>\n",
       "      <td>0</td>\n",
       "      <td>0</td>\n",
       "      <td>0</td>\n",
       "      <td>0</td>\n",
       "      <td>0</td>\n",
       "      <td>41 kadang aku berfikir kenapa aku tetap percay...</td>\n",
       "      <td>248</td>\n",
       "    </tr>\n",
       "    <tr>\n",
       "      <th>3</th>\n",
       "      <td>USER USER AKU ITU AKU\\n\\nKU TAU MATAMU SIPIT T...</td>\n",
       "      <td>0</td>\n",
       "      <td>0</td>\n",
       "      <td>0</td>\n",
       "      <td>0</td>\n",
       "      <td>0</td>\n",
       "      <td>0</td>\n",
       "      <td>0</td>\n",
       "      <td>0</td>\n",
       "      <td>0</td>\n",
       "      <td>0</td>\n",
       "      <td>0</td>\n",
       "      <td>0</td>\n",
       "      <td>aku itu aku ku tau matamu sipit tapi diliat da...</td>\n",
       "      <td>61</td>\n",
       "    </tr>\n",
       "    <tr>\n",
       "      <th>4</th>\n",
       "      <td>USER USER Kaum cebong kapir udah keliatan dong...</td>\n",
       "      <td>1</td>\n",
       "      <td>1</td>\n",
       "      <td>0</td>\n",
       "      <td>1</td>\n",
       "      <td>1</td>\n",
       "      <td>0</td>\n",
       "      <td>0</td>\n",
       "      <td>0</td>\n",
       "      <td>0</td>\n",
       "      <td>0</td>\n",
       "      <td>1</td>\n",
       "      <td>0</td>\n",
       "      <td>kaum cebong kapir udah keliatan dongoknya dari...</td>\n",
       "      <td>78</td>\n",
       "    </tr>\n",
       "  </tbody>\n",
       "</table>\n",
       "</div>"
      ],
      "text/plain": [
       "                                               Tweet  HS  Abusive  \\\n",
       "0  - disaat semua cowok berusaha melacak perhatia...   1        1   \n",
       "1  RT USER: USER siapa yang telat ngasih tau elu?...   0        1   \n",
       "2  41. Kadang aku berfikir, kenapa aku tetap perc...   0        0   \n",
       "3  USER USER AKU ITU AKU\\n\\nKU TAU MATAMU SIPIT T...   0        0   \n",
       "4  USER USER Kaum cebong kapir udah keliatan dong...   1        1   \n",
       "\n",
       "   HS_Individual  HS_Group  HS_Religion  HS_Race  HS_Physical  HS_Gender  \\\n",
       "0              1         0            0        0            0          0   \n",
       "1              0         0            0        0            0          0   \n",
       "2              0         0            0        0            0          0   \n",
       "3              0         0            0        0            0          0   \n",
       "4              0         1            1        0            0          0   \n",
       "\n",
       "   HS_Other  HS_Weak  HS_Moderate  HS_Strong  \\\n",
       "0         1        1            0          0   \n",
       "1         0        0            0          0   \n",
       "2         0        0            0          0   \n",
       "3         0        0            0          0   \n",
       "4         0        0            1          0   \n",
       "\n",
       "                                             Cleaned  Total_char  \n",
       "0  disaat semua cowok berusaha melacak perhatian ...         127  \n",
       "1  siapa yang telat ngasih tau elu edan sarap gue...         105  \n",
       "2  41 kadang aku berfikir kenapa aku tetap percay...         248  \n",
       "3  aku itu aku ku tau matamu sipit tapi diliat da...          61  \n",
       "4  kaum cebong kapir udah keliatan dongoknya dari...          78  "
      ]
     },
     "execution_count": 14,
     "metadata": {},
     "output_type": "execute_result"
    }
   ],
   "source": [
    "df['Total_char'] = df.Cleaned.apply(len)\n",
    "df.head()"
   ]
  },
  {
   "cell_type": "markdown",
   "id": "8c256524",
   "metadata": {},
   "source": [
    "## Create a new column containing total number of word of cleaned tweet"
   ]
  },
  {
   "cell_type": "code",
   "execution_count": 15,
   "id": "67f427b7",
   "metadata": {},
   "outputs": [
    {
     "data": {
      "text/html": [
       "<div>\n",
       "<style scoped>\n",
       "    .dataframe tbody tr th:only-of-type {\n",
       "        vertical-align: middle;\n",
       "    }\n",
       "\n",
       "    .dataframe tbody tr th {\n",
       "        vertical-align: top;\n",
       "    }\n",
       "\n",
       "    .dataframe thead th {\n",
       "        text-align: right;\n",
       "    }\n",
       "</style>\n",
       "<table border=\"1\" class=\"dataframe\">\n",
       "  <thead>\n",
       "    <tr style=\"text-align: right;\">\n",
       "      <th></th>\n",
       "      <th>Tweet</th>\n",
       "      <th>HS</th>\n",
       "      <th>Abusive</th>\n",
       "      <th>HS_Individual</th>\n",
       "      <th>HS_Group</th>\n",
       "      <th>HS_Religion</th>\n",
       "      <th>HS_Race</th>\n",
       "      <th>HS_Physical</th>\n",
       "      <th>HS_Gender</th>\n",
       "      <th>HS_Other</th>\n",
       "      <th>HS_Weak</th>\n",
       "      <th>HS_Moderate</th>\n",
       "      <th>HS_Strong</th>\n",
       "      <th>Cleaned</th>\n",
       "      <th>Total_char</th>\n",
       "      <th>Total_word</th>\n",
       "    </tr>\n",
       "  </thead>\n",
       "  <tbody>\n",
       "    <tr>\n",
       "      <th>0</th>\n",
       "      <td>- disaat semua cowok berusaha melacak perhatia...</td>\n",
       "      <td>1</td>\n",
       "      <td>1</td>\n",
       "      <td>1</td>\n",
       "      <td>0</td>\n",
       "      <td>0</td>\n",
       "      <td>0</td>\n",
       "      <td>0</td>\n",
       "      <td>0</td>\n",
       "      <td>1</td>\n",
       "      <td>1</td>\n",
       "      <td>0</td>\n",
       "      <td>0</td>\n",
       "      <td>disaat semua cowok berusaha melacak perhatian ...</td>\n",
       "      <td>127</td>\n",
       "      <td>21</td>\n",
       "    </tr>\n",
       "    <tr>\n",
       "      <th>1</th>\n",
       "      <td>RT USER: USER siapa yang telat ngasih tau elu?...</td>\n",
       "      <td>0</td>\n",
       "      <td>1</td>\n",
       "      <td>0</td>\n",
       "      <td>0</td>\n",
       "      <td>0</td>\n",
       "      <td>0</td>\n",
       "      <td>0</td>\n",
       "      <td>0</td>\n",
       "      <td>0</td>\n",
       "      <td>0</td>\n",
       "      <td>0</td>\n",
       "      <td>0</td>\n",
       "      <td>siapa yang telat ngasih tau elu edan sarap gue...</td>\n",
       "      <td>105</td>\n",
       "      <td>19</td>\n",
       "    </tr>\n",
       "    <tr>\n",
       "      <th>2</th>\n",
       "      <td>41. Kadang aku berfikir, kenapa aku tetap perc...</td>\n",
       "      <td>0</td>\n",
       "      <td>0</td>\n",
       "      <td>0</td>\n",
       "      <td>0</td>\n",
       "      <td>0</td>\n",
       "      <td>0</td>\n",
       "      <td>0</td>\n",
       "      <td>0</td>\n",
       "      <td>0</td>\n",
       "      <td>0</td>\n",
       "      <td>0</td>\n",
       "      <td>0</td>\n",
       "      <td>41 kadang aku berfikir kenapa aku tetap percay...</td>\n",
       "      <td>248</td>\n",
       "      <td>38</td>\n",
       "    </tr>\n",
       "    <tr>\n",
       "      <th>3</th>\n",
       "      <td>USER USER AKU ITU AKU\\n\\nKU TAU MATAMU SIPIT T...</td>\n",
       "      <td>0</td>\n",
       "      <td>0</td>\n",
       "      <td>0</td>\n",
       "      <td>0</td>\n",
       "      <td>0</td>\n",
       "      <td>0</td>\n",
       "      <td>0</td>\n",
       "      <td>0</td>\n",
       "      <td>0</td>\n",
       "      <td>0</td>\n",
       "      <td>0</td>\n",
       "      <td>0</td>\n",
       "      <td>aku itu aku ku tau matamu sipit tapi diliat da...</td>\n",
       "      <td>61</td>\n",
       "      <td>13</td>\n",
       "    </tr>\n",
       "    <tr>\n",
       "      <th>4</th>\n",
       "      <td>USER USER Kaum cebong kapir udah keliatan dong...</td>\n",
       "      <td>1</td>\n",
       "      <td>1</td>\n",
       "      <td>0</td>\n",
       "      <td>1</td>\n",
       "      <td>1</td>\n",
       "      <td>0</td>\n",
       "      <td>0</td>\n",
       "      <td>0</td>\n",
       "      <td>0</td>\n",
       "      <td>0</td>\n",
       "      <td>1</td>\n",
       "      <td>0</td>\n",
       "      <td>kaum cebong kapir udah keliatan dongoknya dari...</td>\n",
       "      <td>78</td>\n",
       "      <td>12</td>\n",
       "    </tr>\n",
       "  </tbody>\n",
       "</table>\n",
       "</div>"
      ],
      "text/plain": [
       "                                               Tweet  HS  Abusive  \\\n",
       "0  - disaat semua cowok berusaha melacak perhatia...   1        1   \n",
       "1  RT USER: USER siapa yang telat ngasih tau elu?...   0        1   \n",
       "2  41. Kadang aku berfikir, kenapa aku tetap perc...   0        0   \n",
       "3  USER USER AKU ITU AKU\\n\\nKU TAU MATAMU SIPIT T...   0        0   \n",
       "4  USER USER Kaum cebong kapir udah keliatan dong...   1        1   \n",
       "\n",
       "   HS_Individual  HS_Group  HS_Religion  HS_Race  HS_Physical  HS_Gender  \\\n",
       "0              1         0            0        0            0          0   \n",
       "1              0         0            0        0            0          0   \n",
       "2              0         0            0        0            0          0   \n",
       "3              0         0            0        0            0          0   \n",
       "4              0         1            1        0            0          0   \n",
       "\n",
       "   HS_Other  HS_Weak  HS_Moderate  HS_Strong  \\\n",
       "0         1        1            0          0   \n",
       "1         0        0            0          0   \n",
       "2         0        0            0          0   \n",
       "3         0        0            0          0   \n",
       "4         0        0            1          0   \n",
       "\n",
       "                                             Cleaned  Total_char  Total_word  \n",
       "0  disaat semua cowok berusaha melacak perhatian ...         127          21  \n",
       "1  siapa yang telat ngasih tau elu edan sarap gue...         105          19  \n",
       "2  41 kadang aku berfikir kenapa aku tetap percay...         248          38  \n",
       "3  aku itu aku ku tau matamu sipit tapi diliat da...          61          13  \n",
       "4  kaum cebong kapir udah keliatan dongoknya dari...          78          12  "
      ]
     },
     "execution_count": 15,
     "metadata": {},
     "output_type": "execute_result"
    }
   ],
   "source": [
    "df['Total_word'] = df.Cleaned.apply(lambda words: len(words.split()))\n",
    "df.head()"
   ]
  },
  {
   "cell_type": "markdown",
   "id": "a5ca6aae",
   "metadata": {},
   "source": [
    "## Check if cleaned tweet contains empty string"
   ]
  },
  {
   "cell_type": "code",
   "execution_count": 16,
   "id": "c26ef987",
   "metadata": {},
   "outputs": [
    {
     "data": {
      "text/plain": [
       "13"
      ]
     },
     "execution_count": 16,
     "metadata": {},
     "output_type": "execute_result"
    }
   ],
   "source": [
    "df.Cleaned.loc[df['Total_char'] == 0].count()"
   ]
  },
  {
   "cell_type": "code",
   "execution_count": 17,
   "id": "db20f33c",
   "metadata": {},
   "outputs": [
    {
     "name": "stdout",
     "output_type": "stream",
     "text": [
      "before (13044, 16)\n",
      "after (13031, 16)\n"
     ]
    }
   ],
   "source": [
    "print(\"before\", df.shape)\n",
    "df.drop(df.index[df['Total_char'] == 0], inplace = True)\n",
    "df = df.reset_index(drop=True)\n",
    "print(\"after\",df.shape)"
   ]
  },
  {
   "cell_type": "code",
   "execution_count": 18,
   "id": "212142db",
   "metadata": {},
   "outputs": [
    {
     "data": {
      "text/html": [
       "<div>\n",
       "<style scoped>\n",
       "    .dataframe tbody tr th:only-of-type {\n",
       "        vertical-align: middle;\n",
       "    }\n",
       "\n",
       "    .dataframe tbody tr th {\n",
       "        vertical-align: top;\n",
       "    }\n",
       "\n",
       "    .dataframe thead th {\n",
       "        text-align: right;\n",
       "    }\n",
       "</style>\n",
       "<table border=\"1\" class=\"dataframe\">\n",
       "  <thead>\n",
       "    <tr style=\"text-align: right;\">\n",
       "      <th></th>\n",
       "      <th>Tweet</th>\n",
       "      <th>HS</th>\n",
       "      <th>Abusive</th>\n",
       "      <th>HS_Individual</th>\n",
       "      <th>HS_Group</th>\n",
       "      <th>HS_Religion</th>\n",
       "      <th>HS_Race</th>\n",
       "      <th>HS_Physical</th>\n",
       "      <th>HS_Gender</th>\n",
       "      <th>HS_Other</th>\n",
       "      <th>HS_Weak</th>\n",
       "      <th>HS_Moderate</th>\n",
       "      <th>HS_Strong</th>\n",
       "      <th>Cleaned</th>\n",
       "      <th>Total_char</th>\n",
       "      <th>Total_word</th>\n",
       "    </tr>\n",
       "  </thead>\n",
       "  <tbody>\n",
       "    <tr>\n",
       "      <th>0</th>\n",
       "      <td>- disaat semua cowok berusaha melacak perhatia...</td>\n",
       "      <td>1</td>\n",
       "      <td>1</td>\n",
       "      <td>1</td>\n",
       "      <td>0</td>\n",
       "      <td>0</td>\n",
       "      <td>0</td>\n",
       "      <td>0</td>\n",
       "      <td>0</td>\n",
       "      <td>1</td>\n",
       "      <td>1</td>\n",
       "      <td>0</td>\n",
       "      <td>0</td>\n",
       "      <td>disaat semua cowok berusaha melacak perhatian ...</td>\n",
       "      <td>127</td>\n",
       "      <td>21</td>\n",
       "    </tr>\n",
       "    <tr>\n",
       "      <th>1</th>\n",
       "      <td>RT USER: USER siapa yang telat ngasih tau elu?...</td>\n",
       "      <td>0</td>\n",
       "      <td>1</td>\n",
       "      <td>0</td>\n",
       "      <td>0</td>\n",
       "      <td>0</td>\n",
       "      <td>0</td>\n",
       "      <td>0</td>\n",
       "      <td>0</td>\n",
       "      <td>0</td>\n",
       "      <td>0</td>\n",
       "      <td>0</td>\n",
       "      <td>0</td>\n",
       "      <td>siapa yang telat ngasih tau elu edan sarap gue...</td>\n",
       "      <td>105</td>\n",
       "      <td>19</td>\n",
       "    </tr>\n",
       "    <tr>\n",
       "      <th>2</th>\n",
       "      <td>41. Kadang aku berfikir, kenapa aku tetap perc...</td>\n",
       "      <td>0</td>\n",
       "      <td>0</td>\n",
       "      <td>0</td>\n",
       "      <td>0</td>\n",
       "      <td>0</td>\n",
       "      <td>0</td>\n",
       "      <td>0</td>\n",
       "      <td>0</td>\n",
       "      <td>0</td>\n",
       "      <td>0</td>\n",
       "      <td>0</td>\n",
       "      <td>0</td>\n",
       "      <td>41 kadang aku berfikir kenapa aku tetap percay...</td>\n",
       "      <td>248</td>\n",
       "      <td>38</td>\n",
       "    </tr>\n",
       "    <tr>\n",
       "      <th>3</th>\n",
       "      <td>USER USER AKU ITU AKU\\n\\nKU TAU MATAMU SIPIT T...</td>\n",
       "      <td>0</td>\n",
       "      <td>0</td>\n",
       "      <td>0</td>\n",
       "      <td>0</td>\n",
       "      <td>0</td>\n",
       "      <td>0</td>\n",
       "      <td>0</td>\n",
       "      <td>0</td>\n",
       "      <td>0</td>\n",
       "      <td>0</td>\n",
       "      <td>0</td>\n",
       "      <td>0</td>\n",
       "      <td>aku itu aku ku tau matamu sipit tapi diliat da...</td>\n",
       "      <td>61</td>\n",
       "      <td>13</td>\n",
       "    </tr>\n",
       "    <tr>\n",
       "      <th>4</th>\n",
       "      <td>USER USER Kaum cebong kapir udah keliatan dong...</td>\n",
       "      <td>1</td>\n",
       "      <td>1</td>\n",
       "      <td>0</td>\n",
       "      <td>1</td>\n",
       "      <td>1</td>\n",
       "      <td>0</td>\n",
       "      <td>0</td>\n",
       "      <td>0</td>\n",
       "      <td>0</td>\n",
       "      <td>0</td>\n",
       "      <td>1</td>\n",
       "      <td>0</td>\n",
       "      <td>kaum cebong kapir udah keliatan dongoknya dari...</td>\n",
       "      <td>78</td>\n",
       "      <td>12</td>\n",
       "    </tr>\n",
       "    <tr>\n",
       "      <th>...</th>\n",
       "      <td>...</td>\n",
       "      <td>...</td>\n",
       "      <td>...</td>\n",
       "      <td>...</td>\n",
       "      <td>...</td>\n",
       "      <td>...</td>\n",
       "      <td>...</td>\n",
       "      <td>...</td>\n",
       "      <td>...</td>\n",
       "      <td>...</td>\n",
       "      <td>...</td>\n",
       "      <td>...</td>\n",
       "      <td>...</td>\n",
       "      <td>...</td>\n",
       "      <td>...</td>\n",
       "      <td>...</td>\n",
       "    </tr>\n",
       "    <tr>\n",
       "      <th>13026</th>\n",
       "      <td>USER jangan asal ngomong ndasmu. congor lu yg ...</td>\n",
       "      <td>1</td>\n",
       "      <td>1</td>\n",
       "      <td>1</td>\n",
       "      <td>0</td>\n",
       "      <td>0</td>\n",
       "      <td>0</td>\n",
       "      <td>1</td>\n",
       "      <td>0</td>\n",
       "      <td>0</td>\n",
       "      <td>1</td>\n",
       "      <td>0</td>\n",
       "      <td>0</td>\n",
       "      <td>jangan asal ngomong ndasmu congor lu yg sekate...</td>\n",
       "      <td>54</td>\n",
       "      <td>9</td>\n",
       "    </tr>\n",
       "    <tr>\n",
       "      <th>13027</th>\n",
       "      <td>USER Kasur mana enak kunyuk'</td>\n",
       "      <td>0</td>\n",
       "      <td>1</td>\n",
       "      <td>0</td>\n",
       "      <td>0</td>\n",
       "      <td>0</td>\n",
       "      <td>0</td>\n",
       "      <td>0</td>\n",
       "      <td>0</td>\n",
       "      <td>0</td>\n",
       "      <td>0</td>\n",
       "      <td>0</td>\n",
       "      <td>0</td>\n",
       "      <td>kasur mana enak kunyuk</td>\n",
       "      <td>22</td>\n",
       "      <td>4</td>\n",
       "    </tr>\n",
       "    <tr>\n",
       "      <th>13028</th>\n",
       "      <td>USER Hati hati bisu :( .g\\n\\nlagi bosan huft \\...</td>\n",
       "      <td>0</td>\n",
       "      <td>0</td>\n",
       "      <td>0</td>\n",
       "      <td>0</td>\n",
       "      <td>0</td>\n",
       "      <td>0</td>\n",
       "      <td>0</td>\n",
       "      <td>0</td>\n",
       "      <td>0</td>\n",
       "      <td>0</td>\n",
       "      <td>0</td>\n",
       "      <td>0</td>\n",
       "      <td>hati hati bisu g lagi bosan huft</td>\n",
       "      <td>32</td>\n",
       "      <td>7</td>\n",
       "    </tr>\n",
       "    <tr>\n",
       "      <th>13029</th>\n",
       "      <td>USER USER USER USER Bom yang real mudah terdet...</td>\n",
       "      <td>0</td>\n",
       "      <td>0</td>\n",
       "      <td>0</td>\n",
       "      <td>0</td>\n",
       "      <td>0</td>\n",
       "      <td>0</td>\n",
       "      <td>0</td>\n",
       "      <td>0</td>\n",
       "      <td>0</td>\n",
       "      <td>0</td>\n",
       "      <td>0</td>\n",
       "      <td>0</td>\n",
       "      <td>bom yang real mudah terdeteksi bom yang terkub...</td>\n",
       "      <td>114</td>\n",
       "      <td>18</td>\n",
       "    </tr>\n",
       "    <tr>\n",
       "      <th>13030</th>\n",
       "      <td>USER Mana situ ngasih(\": itu cuma foto ya kuti...</td>\n",
       "      <td>1</td>\n",
       "      <td>1</td>\n",
       "      <td>1</td>\n",
       "      <td>0</td>\n",
       "      <td>0</td>\n",
       "      <td>0</td>\n",
       "      <td>0</td>\n",
       "      <td>0</td>\n",
       "      <td>1</td>\n",
       "      <td>1</td>\n",
       "      <td>0</td>\n",
       "      <td>0</td>\n",
       "      <td>mana situ ngasih itu cuma foto ya kutil onta</td>\n",
       "      <td>44</td>\n",
       "      <td>9</td>\n",
       "    </tr>\n",
       "  </tbody>\n",
       "</table>\n",
       "<p>13031 rows × 16 columns</p>\n",
       "</div>"
      ],
      "text/plain": [
       "                                                   Tweet  HS  Abusive  \\\n",
       "0      - disaat semua cowok berusaha melacak perhatia...   1        1   \n",
       "1      RT USER: USER siapa yang telat ngasih tau elu?...   0        1   \n",
       "2      41. Kadang aku berfikir, kenapa aku tetap perc...   0        0   \n",
       "3      USER USER AKU ITU AKU\\n\\nKU TAU MATAMU SIPIT T...   0        0   \n",
       "4      USER USER Kaum cebong kapir udah keliatan dong...   1        1   \n",
       "...                                                  ...  ..      ...   \n",
       "13026  USER jangan asal ngomong ndasmu. congor lu yg ...   1        1   \n",
       "13027                       USER Kasur mana enak kunyuk'   0        1   \n",
       "13028  USER Hati hati bisu :( .g\\n\\nlagi bosan huft \\...   0        0   \n",
       "13029  USER USER USER USER Bom yang real mudah terdet...   0        0   \n",
       "13030  USER Mana situ ngasih(\": itu cuma foto ya kuti...   1        1   \n",
       "\n",
       "       HS_Individual  HS_Group  HS_Religion  HS_Race  HS_Physical  HS_Gender  \\\n",
       "0                  1         0            0        0            0          0   \n",
       "1                  0         0            0        0            0          0   \n",
       "2                  0         0            0        0            0          0   \n",
       "3                  0         0            0        0            0          0   \n",
       "4                  0         1            1        0            0          0   \n",
       "...              ...       ...          ...      ...          ...        ...   \n",
       "13026              1         0            0        0            1          0   \n",
       "13027              0         0            0        0            0          0   \n",
       "13028              0         0            0        0            0          0   \n",
       "13029              0         0            0        0            0          0   \n",
       "13030              1         0            0        0            0          0   \n",
       "\n",
       "       HS_Other  HS_Weak  HS_Moderate  HS_Strong  \\\n",
       "0             1        1            0          0   \n",
       "1             0        0            0          0   \n",
       "2             0        0            0          0   \n",
       "3             0        0            0          0   \n",
       "4             0        0            1          0   \n",
       "...         ...      ...          ...        ...   \n",
       "13026         0        1            0          0   \n",
       "13027         0        0            0          0   \n",
       "13028         0        0            0          0   \n",
       "13029         0        0            0          0   \n",
       "13030         1        1            0          0   \n",
       "\n",
       "                                                 Cleaned  Total_char  \\\n",
       "0      disaat semua cowok berusaha melacak perhatian ...         127   \n",
       "1      siapa yang telat ngasih tau elu edan sarap gue...         105   \n",
       "2      41 kadang aku berfikir kenapa aku tetap percay...         248   \n",
       "3      aku itu aku ku tau matamu sipit tapi diliat da...          61   \n",
       "4      kaum cebong kapir udah keliatan dongoknya dari...          78   \n",
       "...                                                  ...         ...   \n",
       "13026  jangan asal ngomong ndasmu congor lu yg sekate...          54   \n",
       "13027                             kasur mana enak kunyuk          22   \n",
       "13028                   hati hati bisu g lagi bosan huft          32   \n",
       "13029  bom yang real mudah terdeteksi bom yang terkub...         114   \n",
       "13030       mana situ ngasih itu cuma foto ya kutil onta          44   \n",
       "\n",
       "       Total_word  \n",
       "0              21  \n",
       "1              19  \n",
       "2              38  \n",
       "3              13  \n",
       "4              12  \n",
       "...           ...  \n",
       "13026           9  \n",
       "13027           4  \n",
       "13028           7  \n",
       "13029          18  \n",
       "13030           9  \n",
       "\n",
       "[13031 rows x 16 columns]"
      ]
     },
     "execution_count": 18,
     "metadata": {},
     "output_type": "execute_result"
    }
   ],
   "source": [
    "df"
   ]
  },
  {
   "cell_type": "markdown",
   "id": "f404b399",
   "metadata": {},
   "source": [
    "## Create a new translated tweet column from cleaned tweet"
   ]
  },
  {
   "cell_type": "code",
   "execution_count": 19,
   "id": "cebd5c62",
   "metadata": {},
   "outputs": [
    {
     "name": "stdout",
     "output_type": "stream",
     "text": [
      "Translation Process:\n"
     ]
    },
    {
     "data": {
      "application/vnd.jupyter.widget-view+json": {
       "model_id": "48977965c1ff4dc08e256b49d4a2f6f4",
       "version_major": 2,
       "version_minor": 0
      },
      "text/plain": [
       "IntProgress(value=0, max=13031)"
      ]
     },
     "metadata": {},
     "output_type": "display_data"
    },
    {
     "name": "stdout",
     "output_type": "stream",
     "text": [
      "Stopword removal Process:\n"
     ]
    },
    {
     "data": {
      "application/vnd.jupyter.widget-view+json": {
       "model_id": "285c916c5c454ba68ef857a3d26c3eb9",
       "version_major": 2,
       "version_minor": 0
      },
      "text/plain": [
       "IntProgress(value=0, max=13031)"
      ]
     },
     "metadata": {},
     "output_type": "display_data"
    },
    {
     "name": "stdout",
     "output_type": "stream",
     "text": [
      "Stemming Process:\n"
     ]
    },
    {
     "data": {
      "application/vnd.jupyter.widget-view+json": {
       "model_id": "285c916c5c454ba68ef857a3d26c3eb9",
       "version_major": 2,
       "version_minor": 0
      },
      "text/plain": [
       "IntProgress(value=0, max=13031)"
      ]
     },
     "metadata": {},
     "output_type": "display_data"
    }
   ],
   "source": [
    "# open the translation\n",
    "df_kamus = pd.read_csv(\"archive/new_kamusalay.csv\", encoding='latin-1')\n",
    "df_kamus = df_kamus.reset_index()\n",
    "\n",
    "from ipywidgets import IntProgress\n",
    "from IPython.display import display\n",
    "import time\n",
    "\n",
    "max_count = len(df)\n",
    "\n",
    "f = IntProgress(min=0, max=max_count) # instantiate the bar\n",
    "print(\"Translation Process:\")\n",
    "display(f) # display the bar\n",
    "\n",
    "g = IntProgress(min=0, max=max_count) # instantiate the bar\n",
    "print(\"Stopword removal Process:\")\n",
    "display(g) # display the bar\n",
    "\n",
    "h = IntProgress(min=0, max=max_count) # instantiate the bar\n",
    "print(\"Stemming Process:\")\n",
    "display(g) # display the bar\n",
    "\n",
    "\n",
    "\n",
    "def openCon():\n",
    "    conn = None\n",
    "    try:\n",
    "        conn = sqlite3.connect(\"kamus.db\")\n",
    "    except Error as e:\n",
    "        print(e)\n",
    "    return conn\n",
    "\n",
    "def closeCon(con):\n",
    "    con.close()\n",
    "\n",
    "def checkDict(word):\n",
    "    conn = openCon()\n",
    "    cur = conn.cursor()\n",
    "    cur.execute(\"SELECT `anak jakarta asyik asyik` FROM kamus where anakjakartaasikasik = '\"+word+\"' \")\n",
    "    row = cur.fetchone()\n",
    "    if row:\n",
    "        return row[0]\n",
    "    else:\n",
    "        return None\n",
    "    closeCon(conn)\n",
    "    \n",
    "    \n",
    "def translateSentence(sentence):\n",
    "    output = ''\n",
    "    f.value += 1\n",
    "    for word in sentence.split(\" \"):\n",
    "        translate = checkDict(word) # replace word to non alay\n",
    "        if translate:\n",
    "            word = translate\n",
    "        output = output +' '+ word\n",
    "    return output.strip()\n",
    "\n",
    "def stopwordRemove(text):\n",
    "    g.value += 1\n",
    "    factory = StopWordRemoverFactory()\n",
    "    stopword = factory.create_stop_word_remover()\n",
    "    output = stopword.remove(text)\n",
    "    return output \n",
    "\n",
    "def textStem(text):\n",
    "    h.value += 1\n",
    "    factory = StemmerFactory()\n",
    "    stemmer = factory.create_stemmer()\n",
    "    output   = stemmer.stem(text)\n",
    "    return output"
   ]
  },
  {
   "cell_type": "markdown",
   "id": "24229f01-a243-4b10-9360-6d5be79f3b48",
   "metadata": {},
   "source": [
    "### please comment all below to run from the beginning. It takes a lot of time to process the data"
   ]
  },
  {
   "cell_type": "code",
   "execution_count": 20,
   "id": "1789164c",
   "metadata": {},
   "outputs": [
    {
     "name": "stdout",
     "output_type": "stream",
     "text": [
      "Translate Completed\n"
     ]
    },
    {
     "name": "stderr",
     "output_type": "stream",
     "text": [
      "IOPub message rate exceeded.\n",
      "The Jupyter server will temporarily stop sending output\n",
      "to the client in order to avoid crashing it.\n",
      "To change this limit, set the config variable\n",
      "`--ServerApp.iopub_msg_rate_limit`.\n",
      "\n",
      "Current values:\n",
      "ServerApp.iopub_msg_rate_limit=1000.0 (msgs/sec)\n",
      "ServerApp.rate_limit_window=3.0 (secs)\n",
      "\n",
      "IOPub message rate exceeded.\n",
      "The Jupyter server will temporarily stop sending output\n",
      "to the client in order to avoid crashing it.\n",
      "To change this limit, set the config variable\n",
      "`--ServerApp.iopub_msg_rate_limit`.\n",
      "\n",
      "Current values:\n",
      "ServerApp.iopub_msg_rate_limit=1000.0 (msgs/sec)\n",
      "ServerApp.rate_limit_window=3.0 (secs)\n",
      "\n"
     ]
    },
    {
     "name": "stdout",
     "output_type": "stream",
     "text": [
      "Stopword Removal Completed\n"
     ]
    },
    {
     "name": "stderr",
     "output_type": "stream",
     "text": [
      "IOPub message rate exceeded.\n",
      "The Jupyter server will temporarily stop sending output\n",
      "to the client in order to avoid crashing it.\n",
      "To change this limit, set the config variable\n",
      "`--ServerApp.iopub_msg_rate_limit`.\n",
      "\n",
      "Current values:\n",
      "ServerApp.iopub_msg_rate_limit=1000.0 (msgs/sec)\n",
      "ServerApp.rate_limit_window=3.0 (secs)\n",
      "\n"
     ]
    },
    {
     "name": "stdout",
     "output_type": "stream",
     "text": [
      "Word Stemming Completed\n"
     ]
    }
   ],
   "source": [
    "df['Translated'] = df.Cleaned.apply(translateSentence)\n",
    "# df.to_csv('archive/analysis_ready1.csv')\n",
    "# df = pd.read_csv(\"archive/analysis_ready1.csv\")\n",
    "print('Translate Completed')\n",
    "df['Translated'] = df.Translated.apply(stopwordRemove)\n",
    "# df.to_csv('archive/analysis_ready2.csv')\n",
    "# df = pd.read_csv(\"archive/analysis_ready2.csv\")\n",
    "print('Stopword Removal Completed')\n",
    "df['Translated'] = df.Translated.apply(textStem)\n",
    "# df.to_csv('archive/analysis_ready3.csv')\n",
    "# df = pd.read_csv(\"archive/analysis_ready3.csv\")\n",
    "print('Word Stemming Completed')\n",
    "# df['Translated']"
   ]
  },
  {
   "cell_type": "markdown",
   "id": "91f2c49c-7f0d-4134-921f-69a884939bfa",
   "metadata": {},
   "source": [
    "# Save dataframe for analysis"
   ]
  },
  {
   "cell_type": "code",
   "execution_count": 21,
   "id": "183df859-447b-4e3d-b7f2-1588cf680abe",
   "metadata": {},
   "outputs": [],
   "source": [
    "df.to_csv('archive/analysis_ready.csv')\n",
    "df = pd.read_csv(\"archive/analysis_ready.csv\")"
   ]
  },
  {
   "cell_type": "markdown",
   "id": "0f5adbff",
   "metadata": {},
   "source": [
    "# Univariate Analysis\n",
    "For analysis, we will use the cleaned tweet, since both total word and total char can be very different from the original tweet, depends on the translation"
   ]
  },
  {
   "cell_type": "markdown",
   "id": "3370d0fa",
   "metadata": {},
   "source": [
    "## Descriptive Statistic"
   ]
  },
  {
   "cell_type": "code",
   "execution_count": 22,
   "id": "6c2f8cc4",
   "metadata": {},
   "outputs": [
    {
     "data": {
      "text/html": [
       "<div>\n",
       "<style scoped>\n",
       "    .dataframe tbody tr th:only-of-type {\n",
       "        vertical-align: middle;\n",
       "    }\n",
       "\n",
       "    .dataframe tbody tr th {\n",
       "        vertical-align: top;\n",
       "    }\n",
       "\n",
       "    .dataframe thead th {\n",
       "        text-align: right;\n",
       "    }\n",
       "</style>\n",
       "<table border=\"1\" class=\"dataframe\">\n",
       "  <thead>\n",
       "    <tr style=\"text-align: right;\">\n",
       "      <th></th>\n",
       "      <th>Total_char</th>\n",
       "      <th>Total_word</th>\n",
       "    </tr>\n",
       "  </thead>\n",
       "  <tbody>\n",
       "    <tr>\n",
       "      <th>count</th>\n",
       "      <td>13031.000000</td>\n",
       "      <td>13031.000000</td>\n",
       "    </tr>\n",
       "    <tr>\n",
       "      <th>mean</th>\n",
       "      <td>99.315632</td>\n",
       "      <td>16.291612</td>\n",
       "    </tr>\n",
       "    <tr>\n",
       "      <th>std</th>\n",
       "      <td>65.320771</td>\n",
       "      <td>10.586304</td>\n",
       "    </tr>\n",
       "    <tr>\n",
       "      <th>min</th>\n",
       "      <td>1.000000</td>\n",
       "      <td>1.000000</td>\n",
       "    </tr>\n",
       "    <tr>\n",
       "      <th>25%</th>\n",
       "      <td>47.000000</td>\n",
       "      <td>8.000000</td>\n",
       "    </tr>\n",
       "    <tr>\n",
       "      <th>50%</th>\n",
       "      <td>86.000000</td>\n",
       "      <td>14.000000</td>\n",
       "    </tr>\n",
       "    <tr>\n",
       "      <th>75%</th>\n",
       "      <td>134.000000</td>\n",
       "      <td>22.000000</td>\n",
       "    </tr>\n",
       "    <tr>\n",
       "      <th>max</th>\n",
       "      <td>293.000000</td>\n",
       "      <td>85.000000</td>\n",
       "    </tr>\n",
       "  </tbody>\n",
       "</table>\n",
       "</div>"
      ],
      "text/plain": [
       "         Total_char    Total_word\n",
       "count  13031.000000  13031.000000\n",
       "mean      99.315632     16.291612\n",
       "std       65.320771     10.586304\n",
       "min        1.000000      1.000000\n",
       "25%       47.000000      8.000000\n",
       "50%       86.000000     14.000000\n",
       "75%      134.000000     22.000000\n",
       "max      293.000000     85.000000"
      ]
     },
     "execution_count": 22,
     "metadata": {},
     "output_type": "execute_result"
    }
   ],
   "source": [
    "df.loc[:,['Total_char','Total_word']].describe()"
   ]
  },
  {
   "cell_type": "code",
   "execution_count": 23,
   "id": "c51b022d",
   "metadata": {},
   "outputs": [
    {
     "data": {
      "text/plain": [
       "Total_char    99.315632\n",
       "Total_word    16.291612\n",
       "dtype: float64"
      ]
     },
     "execution_count": 23,
     "metadata": {},
     "output_type": "execute_result"
    }
   ],
   "source": [
    "df.loc[:,['Total_char','Total_word']].mean()"
   ]
  },
  {
   "cell_type": "code",
   "execution_count": 24,
   "id": "d89ab980",
   "metadata": {},
   "outputs": [
    {
     "data": {
      "text/plain": [
       "Total_char    86.0\n",
       "Total_word    14.0\n",
       "dtype: float64"
      ]
     },
     "execution_count": 24,
     "metadata": {},
     "output_type": "execute_result"
    }
   ],
   "source": [
    "df.loc[:,['Total_char','Total_word']].median()"
   ]
  },
  {
   "cell_type": "code",
   "execution_count": 25,
   "id": "920fadea",
   "metadata": {},
   "outputs": [
    {
     "data": {
      "text/html": [
       "<div>\n",
       "<style scoped>\n",
       "    .dataframe tbody tr th:only-of-type {\n",
       "        vertical-align: middle;\n",
       "    }\n",
       "\n",
       "    .dataframe tbody tr th {\n",
       "        vertical-align: top;\n",
       "    }\n",
       "\n",
       "    .dataframe thead th {\n",
       "        text-align: right;\n",
       "    }\n",
       "</style>\n",
       "<table border=\"1\" class=\"dataframe\">\n",
       "  <thead>\n",
       "    <tr style=\"text-align: right;\">\n",
       "      <th></th>\n",
       "      <th>Total_char</th>\n",
       "      <th>Total_word</th>\n",
       "    </tr>\n",
       "  </thead>\n",
       "  <tbody>\n",
       "    <tr>\n",
       "      <th>0</th>\n",
       "      <td>65</td>\n",
       "      <td>10</td>\n",
       "    </tr>\n",
       "  </tbody>\n",
       "</table>\n",
       "</div>"
      ],
      "text/plain": [
       "   Total_char  Total_word\n",
       "0          65          10"
      ]
     },
     "execution_count": 25,
     "metadata": {},
     "output_type": "execute_result"
    }
   ],
   "source": [
    "df.loc[:,['Total_char','Total_word']].mode()"
   ]
  },
  {
   "cell_type": "markdown",
   "id": "64a849bb",
   "metadata": {},
   "source": [
    "### Check outlier"
   ]
  },
  {
   "cell_type": "code",
   "execution_count": 26,
   "id": "1ba71b19",
   "metadata": {},
   "outputs": [],
   "source": [
    "def describeQuartile(df, colname):\n",
    "    p0 = df[colname].min()\n",
    "    p100 = df[colname].max()\n",
    "\n",
    "    q1 = df[colname].quantile(0.25)\n",
    "    q2 = df[colname].quantile(0.5)\n",
    "    q3 = df[colname].quantile(0.75)\n",
    "    iqr = q3-q1\n",
    "    print('Interquartile value:',iqr)\n",
    "\n",
    "    lower_limit = q1-1.5*iqr\n",
    "    upper_limit = q3+1.5*iqr\n",
    "\n",
    "    print(\"Lower limit:\", lower_limit)\n",
    "    print(\"Min value\", p0)\n",
    "\n",
    "    if lower_limit < p0:\n",
    "      print(\"Some outlier occurs on lower limit\")\n",
    "    else:\n",
    "      print(\"Some outlier occurs on lower limit\")\n",
    "\n",
    "    print()\n",
    "    print(\"Upper limit:\", upper_limit)\n",
    "    print(\"Max value\", p100)\n",
    "\n",
    "    if upper_limit > p100:\n",
    "      print(\"No outlier occurs on upper limit\")\n",
    "    else:\n",
    "      print(\"Some outlier occurs on upper limit\")\n",
    "    \n",
    "    outlier = df[colname][np.bitwise_or(df[colname] > upper_limit, df[colname] < lower_limit)].count()\n",
    "    print(\"Num of outliers:\",outlier)\n",
    "    \n",
    "    print('----Removing outliers----')\n",
    "    print('Shape before',df.shape)\n",
    "    df = df.loc[(df[colname] > lower_limit) & (df[colname] < upper_limit)]\n",
    "    df = df.reset_index(drop=True)\n",
    "    print('Shape after',df.shape)\n",
    "    outlier = df[colname][np.bitwise_or(df[colname] > upper_limit, df[colname] < lower_limit)].count()\n",
    "    print(\"Num of outliers:\",outlier)"
   ]
  },
  {
   "cell_type": "code",
   "execution_count": 27,
   "id": "46a5293c",
   "metadata": {},
   "outputs": [
    {
     "name": "stdout",
     "output_type": "stream",
     "text": [
      "Interquartile value: 87.0\n",
      "Lower limit: -83.5\n",
      "Min value 1\n",
      "Some outlier occurs on lower limit\n",
      "\n",
      "Upper limit: 264.5\n",
      "Max value 293\n",
      "Some outlier occurs on upper limit\n",
      "Num of outliers: 19\n",
      "----Removing outliers----\n",
      "Shape before (13031, 18)\n",
      "Shape after (13012, 18)\n",
      "Num of outliers: 0\n"
     ]
    }
   ],
   "source": [
    "describeQuartile(df, 'Total_char')"
   ]
  },
  {
   "cell_type": "code",
   "execution_count": 28,
   "id": "ffc0a181",
   "metadata": {},
   "outputs": [
    {
     "name": "stdout",
     "output_type": "stream",
     "text": [
      "Interquartile value: 14.0\n",
      "Lower limit: -13.0\n",
      "Min value 1\n",
      "Some outlier occurs on lower limit\n",
      "\n",
      "Upper limit: 43.0\n",
      "Max value 85\n",
      "Some outlier occurs on upper limit\n",
      "Num of outliers: 118\n",
      "----Removing outliers----\n",
      "Shape before (13031, 18)\n",
      "Shape after (12858, 18)\n",
      "Num of outliers: 0\n"
     ]
    }
   ],
   "source": [
    "describeQuartile(df, 'Total_word')"
   ]
  },
  {
   "cell_type": "markdown",
   "id": "a393aa81",
   "metadata": {},
   "source": [
    "## Check Skewness\n",
    "From the data shown, it can be described that both total char and total word have positive skewness"
   ]
  },
  {
   "cell_type": "code",
   "execution_count": 29,
   "id": "af10661a",
   "metadata": {},
   "outputs": [
    {
     "data": {
      "text/plain": [
       "Total_char    0.754515\n",
       "Total_word    0.855159\n",
       "dtype: float64"
      ]
     },
     "execution_count": 29,
     "metadata": {},
     "output_type": "execute_result"
    }
   ],
   "source": [
    "df.loc[:,['Total_char','Total_word']].skew()"
   ]
  },
  {
   "cell_type": "markdown",
   "id": "98a88d76",
   "metadata": {},
   "source": [
    "## Check Kurtosis\n",
    "The kurtosis value of both total char and total word are less than 3, therefore it has smaller number of outliers"
   ]
  },
  {
   "cell_type": "code",
   "execution_count": 30,
   "id": "4f9c4718",
   "metadata": {},
   "outputs": [
    {
     "data": {
      "text/plain": [
       "Total_char   -0.375302\n",
       "Total_word    0.048457\n",
       "dtype: float64"
      ]
     },
     "execution_count": 30,
     "metadata": {},
     "output_type": "execute_result"
    }
   ],
   "source": [
    "df.loc[:,['Total_char','Total_word']].kurtosis()"
   ]
  },
  {
   "cell_type": "markdown",
   "id": "85abe5af",
   "metadata": {},
   "source": [
    "# Visualization"
   ]
  },
  {
   "cell_type": "code",
   "execution_count": 31,
   "id": "fa9d1529",
   "metadata": {},
   "outputs": [
    {
     "data": {
      "text/plain": [
       "<AxesSubplot:>"
      ]
     },
     "execution_count": 31,
     "metadata": {},
     "output_type": "execute_result"
    },
    {
     "data": {
      "image/png": "[encoded data removed]",
      "text/plain": [
       "<Figure size 432x288 with 1 Axes>"
      ]
     },
     "metadata": {
      "needs_background": "light"
     },
     "output_type": "display_data"
    }
   ],
   "source": [
    "df.Total_char.hist()"
   ]
  },
  {
   "cell_type": "code",
   "execution_count": 32,
   "id": "65b110e4",
   "metadata": {},
   "outputs": [
    {
     "data": {
      "text/plain": [
       "<AxesSubplot:>"
      ]
     },
     "execution_count": 32,
     "metadata": {},
     "output_type": "execute_result"
    },
    {
     "data": {
      "image/png": "[encoded data removed]",
      "text/plain": [
       "<Figure size 432x288 with 1 Axes>"
      ]
     },
     "metadata": {
      "needs_background": "light"
     },
     "output_type": "display_data"
    }
   ],
   "source": [
    "df.Total_word.hist()"
   ]
  },
  {
   "cell_type": "code",
   "execution_count": 33,
   "id": "692cf443-e4c7-49e8-a7a0-b421a8a3eca5",
   "metadata": {},
   "outputs": [
    {
     "data": {
      "text/plain": [
       "<AxesSubplot:xlabel='HS', ylabel='count'>"
      ]
     },
     "execution_count": 33,
     "metadata": {},
     "output_type": "execute_result"
    },
    {
     "data": {
      "image/png": "[encoded data removed]",
      "text/plain": [
       "<Figure size 432x288 with 1 Axes>"
      ]
     },
     "metadata": {
      "needs_background": "light"
     },
     "output_type": "display_data"
    }
   ],
   "source": [
    "ax = sns.countplot(x=\"HS\", data=df)\n",
    "ax"
   ]
  },
  {
   "cell_type": "code",
   "execution_count": 34,
   "id": "08428e03-8371-4070-8b2c-8c1be63d78ce",
   "metadata": {},
   "outputs": [
    {
     "data": {
      "text/plain": [
       "<AxesSubplot:xlabel='Abusive', ylabel='count'>"
      ]
     },
     "execution_count": 34,
     "metadata": {},
     "output_type": "execute_result"
    },
    {
     "data": {
      "image/png": "[encoded data removed]",
      "text/plain": [
       "<Figure size 432x288 with 1 Axes>"
      ]
     },
     "metadata": {
      "needs_background": "light"
     },
     "output_type": "display_data"
    }
   ],
   "source": [
    "ax = sns.countplot(x=\"Abusive\", data=df)\n",
    "ax"
   ]
  },
  {
   "cell_type": "code",
   "execution_count": 35,
   "id": "affd5c9c",
   "metadata": {},
   "outputs": [
    {
     "name": "stdout",
     "output_type": "stream",
     "text": [
      "        Total_char   Total_word\n",
      "count  7516.000000  7516.000000\n",
      "mean    108.300692    17.680947\n",
      "std      71.288316    11.455645\n",
      "min       1.000000     1.000000\n",
      "25%      49.000000     8.000000\n",
      "50%      92.000000    15.000000\n",
      "75%     161.000000    26.000000\n",
      "max     293.000000    85.000000\n"
     ]
    },
    {
     "data": {
      "text/plain": [
       "array([[<AxesSubplot:title={'center':'Total_char'}>,\n",
       "        <AxesSubplot:title={'center':'Total_word'}>]], dtype=object)"
      ]
     },
     "execution_count": 35,
     "metadata": {},
     "output_type": "execute_result"
    },
    {
     "data": {
      "image/png": "[encoded data removed]",
      "text/plain": [
       "<Figure size 432x288 with 2 Axes>"
      ]
     },
     "metadata": {
      "needs_background": "light"
     },
     "output_type": "display_data"
    }
   ],
   "source": [
    "df_hs_negative = df.loc[df['HS'] == 0]\n",
    "df_hs_negative = df_hs_negative.loc[:,['Total_char','Total_word']]\n",
    "print(df_hs_negative.describe())\n",
    "df_hs_negative.hist()"
   ]
  },
  {
   "cell_type": "code",
   "execution_count": 36,
   "id": "02c54633",
   "metadata": {},
   "outputs": [
    {
     "name": "stdout",
     "output_type": "stream",
     "text": [
      "        Total_char   Total_word\n",
      "count  5515.000000  5515.000000\n",
      "mean     87.070535    14.398187\n",
      "std      53.819183     8.930713\n",
      "min       4.000000     1.000000\n",
      "25%      46.000000     8.000000\n",
      "50%      79.000000    13.000000\n",
      "75%     115.000000    19.000000\n",
      "max     268.000000    50.000000\n"
     ]
    },
    {
     "data": {
      "text/plain": [
       "array([[<AxesSubplot:title={'center':'Total_char'}>,\n",
       "        <AxesSubplot:title={'center':'Total_word'}>]], dtype=object)"
      ]
     },
     "execution_count": 36,
     "metadata": {},
     "output_type": "execute_result"
    },
    {
     "data": {
      "image/png": "[encoded data removed]",
      "text/plain": [
       "<Figure size 432x288 with 2 Axes>"
      ]
     },
     "metadata": {
      "needs_background": "light"
     },
     "output_type": "display_data"
    }
   ],
   "source": [
    "df_hs_positive = df.loc[df['HS'] == 1]\n",
    "df_hs_positive = df_hs_positive.loc[:,['Total_char','Total_word']]\n",
    "print(df_hs_positive.describe())\n",
    "df_hs_positive.hist()"
   ]
  },
  {
   "cell_type": "code",
   "execution_count": 37,
   "id": "27214c67",
   "metadata": {},
   "outputs": [
    {
     "name": "stdout",
     "output_type": "stream",
     "text": [
      "        Total_char   Total_word\n",
      "count  8029.000000  8029.000000\n",
      "mean    112.462200    18.070370\n",
      "std      66.550306    10.728876\n",
      "min       1.000000     1.000000\n",
      "25%      60.000000    10.000000\n",
      "50%      99.000000    16.000000\n",
      "75%     156.000000    25.000000\n",
      "max     293.000000    85.000000\n"
     ]
    },
    {
     "data": {
      "text/plain": [
       "array([[<AxesSubplot:title={'center':'Total_char'}>,\n",
       "        <AxesSubplot:title={'center':'Total_word'}>]], dtype=object)"
      ]
     },
     "execution_count": 37,
     "metadata": {},
     "output_type": "execute_result"
    },
    {
     "data": {
      "image/png": "[encoded data removed]",
      "text/plain": [
       "<Figure size 432x288 with 2 Axes>"
      ]
     },
     "metadata": {
      "needs_background": "light"
     },
     "output_type": "display_data"
    }
   ],
   "source": [
    "df_abusive_negative = df.loc[df['Abusive'] == 0]\n",
    "df_abusive_negative = df_abusive_negative.loc[:,['Total_char','Total_word']]\n",
    "print(df_abusive_negative.describe())\n",
    "df_abusive_negative.hist()"
   ]
  },
  {
   "cell_type": "code",
   "execution_count": 38,
   "id": "7f8c40dd",
   "metadata": {},
   "outputs": [
    {
     "name": "stdout",
     "output_type": "stream",
     "text": [
      "        Total_char   Total_word\n",
      "count  5002.000000  5002.000000\n",
      "mean     78.213315    13.436425\n",
      "std      57.310566     9.694352\n",
      "min       4.000000     1.000000\n",
      "25%      33.000000     6.000000\n",
      "50%      64.000000    11.000000\n",
      "75%     109.000000    18.000000\n",
      "max     279.000000    52.000000\n"
     ]
    },
    {
     "data": {
      "text/plain": [
       "array([[<AxesSubplot:title={'center':'Total_char'}>,\n",
       "        <AxesSubplot:title={'center':'Total_word'}>]], dtype=object)"
      ]
     },
     "execution_count": 38,
     "metadata": {},
     "output_type": "execute_result"
    },
    {
     "data": {
      "image/png": "[encoded data removed]",
      "text/plain": [
       "<Figure size 432x288 with 2 Axes>"
      ]
     },
     "metadata": {
      "needs_background": "light"
     },
     "output_type": "display_data"
    }
   ],
   "source": [
    "df_abusive_positive = df.loc[df['Abusive'] == 1]\n",
    "df_abusive_positive = df_abusive_positive.loc[:,['Total_char','Total_word']]\n",
    "print(df_abusive_positive.describe())\n",
    "df_abusive_positive.hist()"
   ]
  },
  {
   "cell_type": "code",
   "execution_count": 39,
   "id": "df99fa0d",
   "metadata": {},
   "outputs": [],
   "source": [
    "def topTenFrequentWord(df):\n",
    "    df = df.apply(str)\n",
    "    top10 = pd.Series(' '.join(df).split()).value_counts()[:10]\n",
    "    print(top10)"
   ]
  },
  {
   "cell_type": "code",
   "execution_count": 40,
   "id": "14d9a1c6",
   "metadata": {},
   "outputs": [
    {
     "name": "stdout",
     "output_type": "stream",
     "text": [
      "Top 10 hate speech negative cleaned tweet\n",
      "dan         1955\n",
      "di          1798\n",
      "yg          1692\n",
      "yang        1575\n",
      "itu         1062\n",
      "ini          969\n",
      "ada          967\n",
      "aku          668\n",
      "orang        603\n",
      "presiden     581\n",
      "dtype: int64\n",
      "Top 10 hate speech negative translated tweet\n",
      "indonesia    805\n",
      "gue          794\n",
      "presiden     760\n",
      "pilih        556\n",
      "agama        524\n",
      "asing        504\n",
      "islam        458\n",
      "daerah       421\n",
      "jokowi       416\n",
      "sih          377\n",
      "dtype: int64\n"
     ]
    }
   ],
   "source": [
    "df_hs_negative_tweet = df.loc[df['HS'] == 0].Cleaned\n",
    "print(\"Top 10 hate speech negative cleaned tweet\")\n",
    "topTenFrequentWord(df_hs_negative_tweet)\n",
    "\n",
    "df_hs_negative_tweet = df.loc[df['HS'] == 0].Translated\n",
    "print(\"Top 10 hate speech negative translated tweet\")\n",
    "topTenFrequentWord(df_hs_negative_tweet)"
   ]
  },
  {
   "cell_type": "code",
   "execution_count": 41,
   "id": "04394b61",
   "metadata": {},
   "outputs": [
    {
     "name": "stdout",
     "output_type": "stream",
     "text": [
      "Top 10 hate speech positive cleaned tweet\n",
      "yg        1266\n",
      "di         920\n",
      "dan        791\n",
      "itu        657\n",
      "jokowi     652\n",
      "ini        630\n",
      "cebong     499\n",
      "yang       438\n",
      "ya         429\n",
      "aja        417\n",
      "dtype: int64\n",
      "Top 10 hate speech positive translated tweet\n",
      "indonesia    859\n",
      "presiden     780\n",
      "jokowi       730\n",
      "cebong       526\n",
      "ganti        475\n",
      "komunis      473\n",
      "2019         469\n",
      "sih          443\n",
      "islam        424\n",
      "rakyat       419\n",
      "dtype: int64\n"
     ]
    }
   ],
   "source": [
    "df_hs_positive_tweet = df.loc[df['HS'] == 1].Cleaned\n",
    "print(\"Top 10 hate speech positive cleaned tweet\")\n",
    "topTenFrequentWord(df_hs_positive_tweet)\n",
    "\n",
    "df_hs_positive_tweet = df.loc[df['HS'] == 1].Translated\n",
    "print(\"Top 10 hate speech positive translated tweet\")\n",
    "topTenFrequentWord(df_hs_positive_tweet)"
   ]
  },
  {
   "cell_type": "code",
   "execution_count": 42,
   "id": "86f8b882",
   "metadata": {},
   "outputs": [
    {
     "name": "stdout",
     "output_type": "stream",
     "text": [
      "Top 10 abusive negative cleaned tweet\n",
      "dan         2197\n",
      "di          2060\n",
      "yg          2010\n",
      "yang        1565\n",
      "itu         1155\n",
      "ini         1136\n",
      "ada         1033\n",
      "jokowi       810\n",
      "presiden     759\n",
      "orang        650\n",
      "dtype: int64\n",
      "Top 10 abusive negative translated tweet\n",
      "indonesia    1419\n",
      "presiden     1316\n",
      "jokowi        984\n",
      "islam         702\n",
      "pilih         685\n",
      "agama         669\n",
      "asing         644\n",
      "komunis       638\n",
      "rakyat        571\n",
      "2019          525\n",
      "dtype: int64\n"
     ]
    }
   ],
   "source": [
    "df_abusive_negative_tweet = df.loc[df['Abusive'] == 0].Cleaned\n",
    "print(\"Top 10 abusive negative cleaned tweet\")\n",
    "topTenFrequentWord(df_abusive_negative_tweet)\n",
    "\n",
    "df_abusive_negative_tweet = df.loc[df['Abusive'] == 0].Translated\n",
    "print(\"Top 10 abusive negative translated tweet\")\n",
    "topTenFrequentWord(df_abusive_negative_tweet)"
   ]
  },
  {
   "cell_type": "code",
   "execution_count": 43,
   "id": "25541ebb",
   "metadata": {},
   "outputs": [
    {
     "name": "stdout",
     "output_type": "stream",
     "text": [
      "Top 10 abusive positive cleaned tweet\n",
      "yg        948\n",
      "di        658\n",
      "itu       564\n",
      "dan       549\n",
      "cebong    512\n",
      "ini       463\n",
      "yang      448\n",
      "lu        448\n",
      "ya        433\n",
      "aja       402\n",
      "dtype: int64\n",
      "Top 10 abusive positive translated tweet\n",
      "gue          749\n",
      "cebong       540\n",
      "sih          488\n",
      "kayak        322\n",
      "banget       307\n",
      "anjing       254\n",
      "nih          247\n",
      "indonesia    245\n",
      "kafir        234\n",
      "goblok       231\n",
      "dtype: int64\n"
     ]
    }
   ],
   "source": [
    "df_abusive_positive_tweet = df.loc[df['Abusive'] == 1].Cleaned\n",
    "print(\"Top 10 abusive positive cleaned tweet\")\n",
    "topTenFrequentWord(df_abusive_positive_tweet)\n",
    "\n",
    "df_abusive_positive_tweet = df.loc[df['Abusive'] == 1].Translated\n",
    "print(\"Top 10 abusive positive translated tweet\")\n",
    "topTenFrequentWord(df_abusive_positive_tweet)"
   ]
  },
  {
   "cell_type": "code",
   "execution_count": 84,
   "id": "ab4e71b3-97c0-4b3d-9510-7d2cedec3acd",
   "metadata": {},
   "outputs": [
    {
     "data": {
      "text/plain": [
       "'bang adi bilang niat ganti presiden tentu lawan jokowi 2019 adu program'"
      ]
     },
     "execution_count": 84,
     "metadata": {},
     "output_type": "execute_result"
    }
   ],
   "source": [
    "# y = df[(df[\"HS_Individual\"] == 1) & (df[\"HS_Weak\"] == 1)].Translated\n",
    "# y = df[(df[\"HS_Individual\"] == 0) & (df[\"HS_Weak\"] == 0)].Translated\n",
    "# y = df[(df[\"HS_Group\"] == 1) & (df[\"HS_Moderate\"] == 1)].Translated\n",
    "y = df[(df[\"HS_Group\"] == 0) & (df[\"HS_Moderate\"] == 0) & (df.Translated.str.contains(\"presiden\"))].Translated\n",
    "# df1 = df[(df.a != -1) & (df.b != -1)]\n",
    "# topTenFrequentWord(y)\n",
    "df.iloc[12997].Translated\n"
   ]
  },
  {
   "cell_type": "markdown",
   "id": "24175443-b268-4698-a5a6-a276a2f9c0fd",
   "metadata": {},
   "source": [
    "# Bivariate Analysis"
   ]
  },
  {
   "cell_type": "markdown",
   "id": "fee1f614-6ab8-421f-9b53-2d31e3e5e9df",
   "metadata": {},
   "source": [
    "## Descriptive Statistic"
   ]
  },
  {
   "cell_type": "code",
   "execution_count": 44,
   "id": "f625509e-cf95-467e-ab5d-ed8c95c0b686",
   "metadata": {},
   "outputs": [],
   "source": [
    "#find out correlation between columns"
   ]
  },
  {
   "cell_type": "code",
   "execution_count": 45,
   "id": "1be8e6c0-7081-4577-bc16-6fcc39b5a6d8",
   "metadata": {},
   "outputs": [
    {
     "data": {
      "text/html": [
       "<div>\n",
       "<style scoped>\n",
       "    .dataframe tbody tr th:only-of-type {\n",
       "        vertical-align: middle;\n",
       "    }\n",
       "\n",
       "    .dataframe tbody tr th {\n",
       "        vertical-align: top;\n",
       "    }\n",
       "\n",
       "    .dataframe thead th {\n",
       "        text-align: right;\n",
       "    }\n",
       "</style>\n",
       "<table border=\"1\" class=\"dataframe\">\n",
       "  <thead>\n",
       "    <tr style=\"text-align: right;\">\n",
       "      <th></th>\n",
       "      <th>Unnamed: 0</th>\n",
       "      <th>HS</th>\n",
       "      <th>Abusive</th>\n",
       "      <th>HS_Individual</th>\n",
       "      <th>HS_Group</th>\n",
       "      <th>HS_Religion</th>\n",
       "      <th>HS_Race</th>\n",
       "      <th>HS_Physical</th>\n",
       "      <th>HS_Gender</th>\n",
       "      <th>HS_Other</th>\n",
       "      <th>HS_Weak</th>\n",
       "      <th>HS_Moderate</th>\n",
       "      <th>HS_Strong</th>\n",
       "      <th>Total_char</th>\n",
       "      <th>Total_word</th>\n",
       "    </tr>\n",
       "  </thead>\n",
       "  <tbody>\n",
       "    <tr>\n",
       "      <th>Unnamed: 0</th>\n",
       "      <td>1.000000</td>\n",
       "      <td>-0.003062</td>\n",
       "      <td>-0.015394</td>\n",
       "      <td>0.010435</td>\n",
       "      <td>-0.017153</td>\n",
       "      <td>-0.010813</td>\n",
       "      <td>-0.001352</td>\n",
       "      <td>0.009497</td>\n",
       "      <td>-0.026274</td>\n",
       "      <td>0.003504</td>\n",
       "      <td>0.007827</td>\n",
       "      <td>-0.025606</td>\n",
       "      <td>0.019728</td>\n",
       "      <td>0.005420</td>\n",
       "      <td>0.007324</td>\n",
       "    </tr>\n",
       "    <tr>\n",
       "      <th>HS</th>\n",
       "      <td>-0.003062</td>\n",
       "      <td>1.000000</td>\n",
       "      <td>0.364748</td>\n",
       "      <td>0.712685</td>\n",
       "      <td>0.493701</td>\n",
       "      <td>0.296369</td>\n",
       "      <td>0.248071</td>\n",
       "      <td>0.185820</td>\n",
       "      <td>0.180424</td>\n",
       "      <td>0.735535</td>\n",
       "      <td>0.686173</td>\n",
       "      <td>0.451721</td>\n",
       "      <td>0.226315</td>\n",
       "      <td>-0.160586</td>\n",
       "      <td>-0.153215</td>\n",
       "    </tr>\n",
       "    <tr>\n",
       "      <th>Abusive</th>\n",
       "      <td>-0.015394</td>\n",
       "      <td>0.364748</td>\n",
       "      <td>1.000000</td>\n",
       "      <td>0.285949</td>\n",
       "      <td>0.147845</td>\n",
       "      <td>0.069563</td>\n",
       "      <td>-0.028801</td>\n",
       "      <td>0.196583</td>\n",
       "      <td>0.187446</td>\n",
       "      <td>0.260858</td>\n",
       "      <td>0.309785</td>\n",
       "      <td>0.187825</td>\n",
       "      <td>-0.098119</td>\n",
       "      <td>-0.254998</td>\n",
       "      <td>-0.212886</td>\n",
       "    </tr>\n",
       "    <tr>\n",
       "      <th>HS_Individual</th>\n",
       "      <td>0.010435</td>\n",
       "      <td>0.712685</td>\n",
       "      <td>0.285949</td>\n",
       "      <td>1.000000</td>\n",
       "      <td>-0.258179</td>\n",
       "      <td>0.033846</td>\n",
       "      <td>-0.000728</td>\n",
       "      <td>0.214049</td>\n",
       "      <td>0.183430</td>\n",
       "      <td>0.636087</td>\n",
       "      <td>0.962800</td>\n",
       "      <td>-0.236225</td>\n",
       "      <td>0.058966</td>\n",
       "      <td>-0.152862</td>\n",
       "      <td>-0.139134</td>\n",
       "    </tr>\n",
       "    <tr>\n",
       "      <th>HS_Group</th>\n",
       "      <td>-0.017153</td>\n",
       "      <td>0.493701</td>\n",
       "      <td>0.147845</td>\n",
       "      <td>-0.258179</td>\n",
       "      <td>1.000000</td>\n",
       "      <td>0.366206</td>\n",
       "      <td>0.342551</td>\n",
       "      <td>-0.009442</td>\n",
       "      <td>0.021085</td>\n",
       "      <td>0.224433</td>\n",
       "      <td>-0.248575</td>\n",
       "      <td>0.914968</td>\n",
       "      <td>0.238585</td>\n",
       "      <td>-0.031659</td>\n",
       "      <td>-0.038526</td>\n",
       "    </tr>\n",
       "    <tr>\n",
       "      <th>HS_Religion</th>\n",
       "      <td>-0.010813</td>\n",
       "      <td>0.296369</td>\n",
       "      <td>0.069563</td>\n",
       "      <td>0.033846</td>\n",
       "      <td>0.366206</td>\n",
       "      <td>1.000000</td>\n",
       "      <td>0.094814</td>\n",
       "      <td>-0.003102</td>\n",
       "      <td>0.024713</td>\n",
       "      <td>-0.159954</td>\n",
       "      <td>0.033444</td>\n",
       "      <td>0.345373</td>\n",
       "      <td>0.083388</td>\n",
       "      <td>0.008803</td>\n",
       "      <td>0.005074</td>\n",
       "    </tr>\n",
       "    <tr>\n",
       "      <th>HS_Race</th>\n",
       "      <td>-0.001352</td>\n",
       "      <td>0.248071</td>\n",
       "      <td>-0.028801</td>\n",
       "      <td>-0.000728</td>\n",
       "      <td>0.342551</td>\n",
       "      <td>0.094814</td>\n",
       "      <td>1.000000</td>\n",
       "      <td>-0.028962</td>\n",
       "      <td>-0.020340</td>\n",
       "      <td>-0.133887</td>\n",
       "      <td>-0.007398</td>\n",
       "      <td>0.238519</td>\n",
       "      <td>0.243641</td>\n",
       "      <td>-0.046729</td>\n",
       "      <td>-0.047641</td>\n",
       "    </tr>\n",
       "    <tr>\n",
       "      <th>HS_Physical</th>\n",
       "      <td>0.009497</td>\n",
       "      <td>0.185820</td>\n",
       "      <td>0.196583</td>\n",
       "      <td>0.214049</td>\n",
       "      <td>-0.009442</td>\n",
       "      <td>-0.003102</td>\n",
       "      <td>-0.028962</td>\n",
       "      <td>1.000000</td>\n",
       "      <td>0.053996</td>\n",
       "      <td>-0.100289</td>\n",
       "      <td>0.221017</td>\n",
       "      <td>0.000098</td>\n",
       "      <td>-0.025566</td>\n",
       "      <td>-0.054699</td>\n",
       "      <td>-0.042957</td>\n",
       "    </tr>\n",
       "    <tr>\n",
       "      <th>HS_Gender</th>\n",
       "      <td>-0.026274</td>\n",
       "      <td>0.180424</td>\n",
       "      <td>0.187446</td>\n",
       "      <td>0.183430</td>\n",
       "      <td>0.021085</td>\n",
       "      <td>0.024713</td>\n",
       "      <td>-0.020340</td>\n",
       "      <td>0.053996</td>\n",
       "      <td>1.000000</td>\n",
       "      <td>-0.097377</td>\n",
       "      <td>0.190789</td>\n",
       "      <td>0.027811</td>\n",
       "      <td>-0.019078</td>\n",
       "      <td>-0.037508</td>\n",
       "      <td>-0.024812</td>\n",
       "    </tr>\n",
       "    <tr>\n",
       "      <th>HS_Other</th>\n",
       "      <td>0.003504</td>\n",
       "      <td>0.735535</td>\n",
       "      <td>0.260858</td>\n",
       "      <td>0.636087</td>\n",
       "      <td>0.224433</td>\n",
       "      <td>-0.159954</td>\n",
       "      <td>-0.133887</td>\n",
       "      <td>-0.100289</td>\n",
       "      <td>-0.097377</td>\n",
       "      <td>1.000000</td>\n",
       "      <td>0.604942</td>\n",
       "      <td>0.225362</td>\n",
       "      <td>0.124645</td>\n",
       "      <td>-0.126070</td>\n",
       "      <td>-0.123327</td>\n",
       "    </tr>\n",
       "    <tr>\n",
       "      <th>HS_Weak</th>\n",
       "      <td>0.007827</td>\n",
       "      <td>0.686173</td>\n",
       "      <td>0.309785</td>\n",
       "      <td>0.962800</td>\n",
       "      <td>-0.248575</td>\n",
       "      <td>0.033444</td>\n",
       "      <td>-0.007398</td>\n",
       "      <td>0.221017</td>\n",
       "      <td>0.190789</td>\n",
       "      <td>0.604942</td>\n",
       "      <td>1.000000</td>\n",
       "      <td>-0.227438</td>\n",
       "      <td>-0.113948</td>\n",
       "      <td>-0.147287</td>\n",
       "      <td>-0.129830</td>\n",
       "    </tr>\n",
       "    <tr>\n",
       "      <th>HS_Moderate</th>\n",
       "      <td>-0.025606</td>\n",
       "      <td>0.451721</td>\n",
       "      <td>0.187825</td>\n",
       "      <td>-0.236225</td>\n",
       "      <td>0.914968</td>\n",
       "      <td>0.345373</td>\n",
       "      <td>0.238519</td>\n",
       "      <td>0.000098</td>\n",
       "      <td>0.027811</td>\n",
       "      <td>0.225362</td>\n",
       "      <td>-0.227438</td>\n",
       "      <td>1.000000</td>\n",
       "      <td>-0.075014</td>\n",
       "      <td>-0.009501</td>\n",
       "      <td>-0.015549</td>\n",
       "    </tr>\n",
       "    <tr>\n",
       "      <th>HS_Strong</th>\n",
       "      <td>0.019728</td>\n",
       "      <td>0.226315</td>\n",
       "      <td>-0.098119</td>\n",
       "      <td>0.058966</td>\n",
       "      <td>0.238585</td>\n",
       "      <td>0.083388</td>\n",
       "      <td>0.243641</td>\n",
       "      <td>-0.025566</td>\n",
       "      <td>-0.019078</td>\n",
       "      <td>0.124645</td>\n",
       "      <td>-0.113948</td>\n",
       "      <td>-0.075014</td>\n",
       "      <td>1.000000</td>\n",
       "      <td>-0.063157</td>\n",
       "      <td>-0.073588</td>\n",
       "    </tr>\n",
       "    <tr>\n",
       "      <th>Total_char</th>\n",
       "      <td>0.005420</td>\n",
       "      <td>-0.160586</td>\n",
       "      <td>-0.254998</td>\n",
       "      <td>-0.152862</td>\n",
       "      <td>-0.031659</td>\n",
       "      <td>0.008803</td>\n",
       "      <td>-0.046729</td>\n",
       "      <td>-0.054699</td>\n",
       "      <td>-0.037508</td>\n",
       "      <td>-0.126070</td>\n",
       "      <td>-0.147287</td>\n",
       "      <td>-0.009501</td>\n",
       "      <td>-0.063157</td>\n",
       "      <td>1.000000</td>\n",
       "      <td>0.974825</td>\n",
       "    </tr>\n",
       "    <tr>\n",
       "      <th>Total_word</th>\n",
       "      <td>0.007324</td>\n",
       "      <td>-0.153215</td>\n",
       "      <td>-0.212886</td>\n",
       "      <td>-0.139134</td>\n",
       "      <td>-0.038526</td>\n",
       "      <td>0.005074</td>\n",
       "      <td>-0.047641</td>\n",
       "      <td>-0.042957</td>\n",
       "      <td>-0.024812</td>\n",
       "      <td>-0.123327</td>\n",
       "      <td>-0.129830</td>\n",
       "      <td>-0.015549</td>\n",
       "      <td>-0.073588</td>\n",
       "      <td>0.974825</td>\n",
       "      <td>1.000000</td>\n",
       "    </tr>\n",
       "  </tbody>\n",
       "</table>\n",
       "</div>"
      ],
      "text/plain": [
       "               Unnamed: 0        HS   Abusive  HS_Individual  HS_Group  \\\n",
       "Unnamed: 0       1.000000 -0.003062 -0.015394       0.010435 -0.017153   \n",
       "HS              -0.003062  1.000000  0.364748       0.712685  0.493701   \n",
       "Abusive         -0.015394  0.364748  1.000000       0.285949  0.147845   \n",
       "HS_Individual    0.010435  0.712685  0.285949       1.000000 -0.258179   \n",
       "HS_Group        -0.017153  0.493701  0.147845      -0.258179  1.000000   \n",
       "HS_Religion     -0.010813  0.296369  0.069563       0.033846  0.366206   \n",
       "HS_Race         -0.001352  0.248071 -0.028801      -0.000728  0.342551   \n",
       "HS_Physical      0.009497  0.185820  0.196583       0.214049 -0.009442   \n",
       "HS_Gender       -0.026274  0.180424  0.187446       0.183430  0.021085   \n",
       "HS_Other         0.003504  0.735535  0.260858       0.636087  0.224433   \n",
       "HS_Weak          0.007827  0.686173  0.309785       0.962800 -0.248575   \n",
       "HS_Moderate     -0.025606  0.451721  0.187825      -0.236225  0.914968   \n",
       "HS_Strong        0.019728  0.226315 -0.098119       0.058966  0.238585   \n",
       "Total_char       0.005420 -0.160586 -0.254998      -0.152862 -0.031659   \n",
       "Total_word       0.007324 -0.153215 -0.212886      -0.139134 -0.038526   \n",
       "\n",
       "               HS_Religion   HS_Race  HS_Physical  HS_Gender  HS_Other  \\\n",
       "Unnamed: 0       -0.010813 -0.001352     0.009497  -0.026274  0.003504   \n",
       "HS                0.296369  0.248071     0.185820   0.180424  0.735535   \n",
       "Abusive           0.069563 -0.028801     0.196583   0.187446  0.260858   \n",
       "HS_Individual     0.033846 -0.000728     0.214049   0.183430  0.636087   \n",
       "HS_Group          0.366206  0.342551    -0.009442   0.021085  0.224433   \n",
       "HS_Religion       1.000000  0.094814    -0.003102   0.024713 -0.159954   \n",
       "HS_Race           0.094814  1.000000    -0.028962  -0.020340 -0.133887   \n",
       "HS_Physical      -0.003102 -0.028962     1.000000   0.053996 -0.100289   \n",
       "HS_Gender         0.024713 -0.020340     0.053996   1.000000 -0.097377   \n",
       "HS_Other         -0.159954 -0.133887    -0.100289  -0.097377  1.000000   \n",
       "HS_Weak           0.033444 -0.007398     0.221017   0.190789  0.604942   \n",
       "HS_Moderate       0.345373  0.238519     0.000098   0.027811  0.225362   \n",
       "HS_Strong         0.083388  0.243641    -0.025566  -0.019078  0.124645   \n",
       "Total_char        0.008803 -0.046729    -0.054699  -0.037508 -0.126070   \n",
       "Total_word        0.005074 -0.047641    -0.042957  -0.024812 -0.123327   \n",
       "\n",
       "                HS_Weak  HS_Moderate  HS_Strong  Total_char  Total_word  \n",
       "Unnamed: 0     0.007827    -0.025606   0.019728    0.005420    0.007324  \n",
       "HS             0.686173     0.451721   0.226315   -0.160586   -0.153215  \n",
       "Abusive        0.309785     0.187825  -0.098119   -0.254998   -0.212886  \n",
       "HS_Individual  0.962800    -0.236225   0.058966   -0.152862   -0.139134  \n",
       "HS_Group      -0.248575     0.914968   0.238585   -0.031659   -0.038526  \n",
       "HS_Religion    0.033444     0.345373   0.083388    0.008803    0.005074  \n",
       "HS_Race       -0.007398     0.238519   0.243641   -0.046729   -0.047641  \n",
       "HS_Physical    0.221017     0.000098  -0.025566   -0.054699   -0.042957  \n",
       "HS_Gender      0.190789     0.027811  -0.019078   -0.037508   -0.024812  \n",
       "HS_Other       0.604942     0.225362   0.124645   -0.126070   -0.123327  \n",
       "HS_Weak        1.000000    -0.227438  -0.113948   -0.147287   -0.129830  \n",
       "HS_Moderate   -0.227438     1.000000  -0.075014   -0.009501   -0.015549  \n",
       "HS_Strong     -0.113948    -0.075014   1.000000   -0.063157   -0.073588  \n",
       "Total_char    -0.147287    -0.009501  -0.063157    1.000000    0.974825  \n",
       "Total_word    -0.129830    -0.015549  -0.073588    0.974825    1.000000  "
      ]
     },
     "execution_count": 45,
     "metadata": {},
     "output_type": "execute_result"
    }
   ],
   "source": [
    "df.corr()"
   ]
  },
  {
   "cell_type": "markdown",
   "id": "e589895e-5f32-44a7-8d29-966ab1876744",
   "metadata": {},
   "source": [
    "## Visualization"
   ]
  },
  {
   "cell_type": "code",
   "execution_count": 46,
   "id": "68e76567-c882-4ed5-87e9-985181cc4ddd",
   "metadata": {},
   "outputs": [
    {
     "data": {
      "text/plain": [
       "<AxesSubplot:>"
      ]
     },
     "execution_count": 46,
     "metadata": {},
     "output_type": "execute_result"
    },
    {
     "data": {
      "image/png": "[encoded data removed]",
      "text/plain": [
       "<Figure size 432x288 with 2 Axes>"
      ]
     },
     "metadata": {
      "needs_background": "light"
     },
     "output_type": "display_data"
    }
   ],
   "source": [
    "sns.heatmap(df.corr())"
   ]
  },
  {
   "cell_type": "code",
   "execution_count": 47,
   "id": "5e2085d2-6a3a-4a4a-9b5b-8629f0a99deb",
   "metadata": {},
   "outputs": [
    {
     "data": {
      "text/plain": [
       "<AxesSubplot:xlabel='Total_word', ylabel='Total_char'>"
      ]
     },
     "execution_count": 47,
     "metadata": {},
     "output_type": "execute_result"
    },
    {
     "data": {
      "image/png": "[encoded data removed]",
      "text/plain": [
       "<Figure size 432x288 with 1 Axes>"
      ]
     },
     "metadata": {
      "needs_background": "light"
     },
     "output_type": "display_data"
    }
   ],
   "source": [
    "df.plot(x='Total_word',y='Total_char',kind = 'scatter')"
   ]
  },
  {
   "cell_type": "code",
   "execution_count": 48,
   "id": "c1c35dc6-8417-4276-b922-b7dd5c58e24c",
   "metadata": {},
   "outputs": [
    {
     "data": {
      "text/plain": [
       "<AxesSubplot:xlabel='HS'>"
      ]
     },
     "execution_count": 48,
     "metadata": {},
     "output_type": "execute_result"
    },
    {
     "data": {
      "image/png": "[encoded data removed]",
      "text/plain": [
       "<Figure size 432x288 with 1 Axes>"
      ]
     },
     "metadata": {
      "needs_background": "light"
     },
     "output_type": "display_data"
    }
   ],
   "source": [
    "df.groupby('HS').Total_char.sum().plot(kind='bar')"
   ]
  },
  {
   "cell_type": "code",
   "execution_count": 49,
   "id": "7b0a292f-72cd-465b-a2b6-95918a12479e",
   "metadata": {},
   "outputs": [
    {
     "data": {
      "text/plain": [
       "<AxesSubplot:xlabel='HS'>"
      ]
     },
     "execution_count": 49,
     "metadata": {},
     "output_type": "execute_result"
    },
    {
     "data": {
      "image/png": "[encoded data removed]",
      "text/plain": [
       "<Figure size 432x288 with 1 Axes>"
      ]
     },
     "metadata": {
      "needs_background": "light"
     },
     "output_type": "display_data"
    }
   ],
   "source": [
    "df.groupby('HS').Total_word.sum().plot(kind='bar')"
   ]
  },
  {
   "cell_type": "code",
   "execution_count": 50,
   "id": "35bf79f0-dd78-4ece-8103-5b8653f4a522",
   "metadata": {},
   "outputs": [
    {
     "data": {
      "text/plain": [
       "<AxesSubplot:xlabel='Abusive'>"
      ]
     },
     "execution_count": 50,
     "metadata": {},
     "output_type": "execute_result"
    },
    {
     "data": {
      "image/png": "[encoded data removed]",
      "text/plain": [
       "<Figure size 432x288 with 1 Axes>"
      ]
     },
     "metadata": {
      "needs_background": "light"
     },
     "output_type": "display_data"
    }
   ],
   "source": [
    "df.groupby('Abusive').Total_char.sum().plot(kind='bar')"
   ]
  },
  {
   "cell_type": "code",
   "execution_count": 51,
   "id": "dea7e26f-3855-4c35-b881-3655701d541b",
   "metadata": {},
   "outputs": [
    {
     "data": {
      "text/plain": [
       "<AxesSubplot:xlabel='Abusive'>"
      ]
     },
     "execution_count": 51,
     "metadata": {},
     "output_type": "execute_result"
    },
    {
     "data": {
      "image/png": "[encoded data removed]",
      "text/plain": [
       "<Figure size 432x288 with 1 Axes>"
      ]
     },
     "metadata": {
      "needs_background": "light"
     },
     "output_type": "display_data"
    }
   ],
   "source": [
    "df.groupby('Abusive').Total_word.sum().plot(kind='bar')"
   ]
  },
  {
   "cell_type": "code",
   "execution_count": null,
   "id": "c7a018d7-7ac3-4ff5-b4ae-d44e52af0a62",
   "metadata": {},
   "outputs": [],
   "source": []
  }
 ],
 "metadata": {
  "kernelspec": {
   "display_name": "Python 3 (ipykernel)",
   "language": "python",
   "name": "python3"
  },
  "language_info": {
   "codemirror_mode": {
    "name": "ipython",
    "version": 3
   },
   "file_extension": ".py",
   "mimetype": "text/x-python",
   "name": "python",
   "nbconvert_exporter": "python",
   "pygments_lexer": "ipython3",
   "version": "3.8.10"
  }
 },
 "nbformat": 4,
 "nbformat_minor": 5
}
